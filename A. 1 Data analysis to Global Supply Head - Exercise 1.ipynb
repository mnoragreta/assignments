{
 "cells": [
  {
   "cell_type": "markdown",
   "id": "a47b89c9-2e13-41ec-90e0-1dc09d41bb59",
   "metadata": {},
   "source": [
    "    In this data set you will see dummy data for commercial interactions between Company_B and its suppliers (Vendor).\n",
    "    The lines in the file represent 1-1 purchasing activity (declared as Purchase Order or PO) by Company_B and the corre-sponding details.\n",
    "    \n",
    "    Task:\n",
    "    You are asked by the Global Supply Head to analyse the data, and create 3 highlighted insights that you also visualize. \n",
    "    Later you will present and explain this in the interview. Use Python for the exercise, and either Python, Tableau or PowerBI for the visualization.\n"
   ]
  },
  {
   "cell_type": "code",
   "execution_count": 70,
   "id": "4134b44d-3508-49b1-9a20-1f1a11e64ea0",
   "metadata": {},
   "outputs": [],
   "source": [
    "import numpy as np\n",
    "import pandas as pd\n",
    "import matplotlib.pyplot as plt\n",
    "import seaborn as sns\n",
    "import warnings \n",
    "warnings.filterwarnings(\"ignore\")"
   ]
  },
  {
   "cell_type": "code",
   "execution_count": 71,
   "id": "175752a2-b626-4313-83d2-0ccd9de21f80",
   "metadata": {},
   "outputs": [],
   "source": [
    "df = pd.read_excel(\"C:/Users/lily/Desktop/DS interview prep/Givaudan/Exercise1/Resources/Exercise1.xlsx\", sheet_name=\"data\")"
   ]
  },
  {
   "cell_type": "code",
   "execution_count": 72,
   "id": "7d4ae428-2668-4984-bcd1-406af9c71ee2",
   "metadata": {},
   "outputs": [],
   "source": [
    "pd.set_option('display.max_columns', None)\n",
    "pd.set_option('display.float_format', '{:.0f}'.format)"
   ]
  },
  {
   "cell_type": "code",
   "execution_count": 73,
   "id": "fdb2d115-6ac1-4458-82af-b939e6cfaa8d",
   "metadata": {
    "scrolled": true
   },
   "outputs": [
    {
     "data": {
      "text/html": [
       "<div>\n",
       "<style scoped>\n",
       "    .dataframe tbody tr th:only-of-type {\n",
       "        vertical-align: middle;\n",
       "    }\n",
       "\n",
       "    .dataframe tbody tr th {\n",
       "        vertical-align: top;\n",
       "    }\n",
       "\n",
       "    .dataframe thead th {\n",
       "        text-align: right;\n",
       "    }\n",
       "</style>\n",
       "<table border=\"1\" class=\"dataframe\">\n",
       "  <thead>\n",
       "    <tr style=\"text-align: right;\">\n",
       "      <th></th>\n",
       "      <th>Purchase Order Receipt Month</th>\n",
       "      <th>Purchase Order #</th>\n",
       "      <th>Givaudan Plant Region</th>\n",
       "      <th>Givaudan Plant Code</th>\n",
       "      <th>Givaudan Plant Country</th>\n",
       "      <th>Vendor Code</th>\n",
       "      <th>Vendor Country</th>\n",
       "      <th>Material Code</th>\n",
       "      <th>Organized By Givaudan</th>\n",
       "      <th>Incoterms</th>\n",
       "      <th>Incoterms 2</th>\n",
       "      <th>Mode of Transport</th>\n",
       "      <th>Violation by Givaudan</th>\n",
       "      <th>Late Purchase Order Reason Code</th>\n",
       "      <th>Service Level</th>\n",
       "      <th>Service Level (Score Corrected)</th>\n",
       "      <th>Purchase Order Qty (kg)</th>\n",
       "      <th>Actual Lead Time</th>\n",
       "      <th>Lead Time in Givaudan System</th>\n",
       "      <th>Purchase Order Late (days)</th>\n",
       "      <th>Late/Early Receipt</th>\n",
       "      <th>Requested Lead Time by Givaudan</th>\n",
       "      <th>Purchase Order Release</th>\n",
       "      <th>Early Release buckets</th>\n",
       "      <th>Nr of Local Vendors</th>\n",
       "      <th>% of Vendor from Total Qty</th>\n",
       "      <th>Top Vendor</th>\n",
       "    </tr>\n",
       "  </thead>\n",
       "  <tbody>\n",
       "    <tr>\n",
       "      <th>0</th>\n",
       "      <td>2</td>\n",
       "      <td>1</td>\n",
       "      <td>APAC</td>\n",
       "      <td>MC</td>\n",
       "      <td>ID</td>\n",
       "      <td>60184</td>\n",
       "      <td>CN</td>\n",
       "      <td>3059901</td>\n",
       "      <td>No</td>\n",
       "      <td>CFR</td>\n",
       "      <td>JAKARTA, ID</td>\n",
       "      <td>Sea</td>\n",
       "      <td>No</td>\n",
       "      <td>VENDOR ISSUES UNTIL INCOTERMS FULFILLMENT</td>\n",
       "      <td>0</td>\n",
       "      <td>0</td>\n",
       "      <td>1360</td>\n",
       "      <td>63</td>\n",
       "      <td>31</td>\n",
       "      <td>7</td>\n",
       "      <td>Late</td>\n",
       "      <td>56</td>\n",
       "      <td>1</td>\n",
       "      <td>1-5 early</td>\n",
       "      <td>2</td>\n",
       "      <td>1</td>\n",
       "      <td>Yes</td>\n",
       "    </tr>\n",
       "    <tr>\n",
       "      <th>1</th>\n",
       "      <td>2</td>\n",
       "      <td>2</td>\n",
       "      <td>APAC</td>\n",
       "      <td>MC</td>\n",
       "      <td>ID</td>\n",
       "      <td>60216</td>\n",
       "      <td>SG</td>\n",
       "      <td>10243</td>\n",
       "      <td>No</td>\n",
       "      <td>CFR</td>\n",
       "      <td>JAKARTA, ID</td>\n",
       "      <td>Sea</td>\n",
       "      <td>Yes</td>\n",
       "      <td>Not assigned yet</td>\n",
       "      <td>100</td>\n",
       "      <td>100</td>\n",
       "      <td>400</td>\n",
       "      <td>44</td>\n",
       "      <td>61</td>\n",
       "      <td>-11</td>\n",
       "      <td>Early</td>\n",
       "      <td>55</td>\n",
       "      <td>-6</td>\n",
       "      <td>6-10 late</td>\n",
       "      <td>1</td>\n",
       "      <td>1</td>\n",
       "      <td>Yes</td>\n",
       "    </tr>\n",
       "    <tr>\n",
       "      <th>2</th>\n",
       "      <td>2</td>\n",
       "      <td>3</td>\n",
       "      <td>APAC</td>\n",
       "      <td>MC</td>\n",
       "      <td>ID</td>\n",
       "      <td>60217</td>\n",
       "      <td>IN</td>\n",
       "      <td>1486253</td>\n",
       "      <td>No</td>\n",
       "      <td>CFR</td>\n",
       "      <td>JAKARTA, ID</td>\n",
       "      <td>Sea</td>\n",
       "      <td>No</td>\n",
       "      <td>Not assigned yet</td>\n",
       "      <td>100</td>\n",
       "      <td>100</td>\n",
       "      <td>600</td>\n",
       "      <td>69</td>\n",
       "      <td>41</td>\n",
       "      <td>-21</td>\n",
       "      <td>Early</td>\n",
       "      <td>90</td>\n",
       "      <td>15</td>\n",
       "      <td>11-15 early</td>\n",
       "      <td>1</td>\n",
       "      <td>1</td>\n",
       "      <td>Yes</td>\n",
       "    </tr>\n",
       "    <tr>\n",
       "      <th>3</th>\n",
       "      <td>2</td>\n",
       "      <td>4</td>\n",
       "      <td>APAC</td>\n",
       "      <td>MC</td>\n",
       "      <td>ID</td>\n",
       "      <td>60217</td>\n",
       "      <td>IN</td>\n",
       "      <td>9335903</td>\n",
       "      <td>No</td>\n",
       "      <td>CFR</td>\n",
       "      <td>JAKARTA, ID</td>\n",
       "      <td>Sea</td>\n",
       "      <td>No</td>\n",
       "      <td>VENDOR ISSUES UNTIL INCOTERMS FULFILLMENT</td>\n",
       "      <td>0</td>\n",
       "      <td>0</td>\n",
       "      <td>180</td>\n",
       "      <td>93</td>\n",
       "      <td>41</td>\n",
       "      <td>36</td>\n",
       "      <td>Late</td>\n",
       "      <td>57</td>\n",
       "      <td>2</td>\n",
       "      <td>1-5 early</td>\n",
       "      <td>1</td>\n",
       "      <td>1</td>\n",
       "      <td>Yes</td>\n",
       "    </tr>\n",
       "    <tr>\n",
       "      <th>4</th>\n",
       "      <td>2</td>\n",
       "      <td>5</td>\n",
       "      <td>APAC</td>\n",
       "      <td>MC</td>\n",
       "      <td>ID</td>\n",
       "      <td>60439</td>\n",
       "      <td>CN</td>\n",
       "      <td>2313603</td>\n",
       "      <td>No</td>\n",
       "      <td>FCA</td>\n",
       "      <td>XIAMEN, CN</td>\n",
       "      <td>Sea</td>\n",
       "      <td>No</td>\n",
       "      <td>TRANSPORTATION ISSUE / DELAY</td>\n",
       "      <td>0</td>\n",
       "      <td>100</td>\n",
       "      <td>180</td>\n",
       "      <td>69</td>\n",
       "      <td>44</td>\n",
       "      <td>4</td>\n",
       "      <td>Late</td>\n",
       "      <td>65</td>\n",
       "      <td>-18</td>\n",
       "      <td>16-20 late</td>\n",
       "      <td>2</td>\n",
       "      <td>1</td>\n",
       "      <td>Yes</td>\n",
       "    </tr>\n",
       "    <tr>\n",
       "      <th>...</th>\n",
       "      <td>...</td>\n",
       "      <td>...</td>\n",
       "      <td>...</td>\n",
       "      <td>...</td>\n",
       "      <td>...</td>\n",
       "      <td>...</td>\n",
       "      <td>...</td>\n",
       "      <td>...</td>\n",
       "      <td>...</td>\n",
       "      <td>...</td>\n",
       "      <td>...</td>\n",
       "      <td>...</td>\n",
       "      <td>...</td>\n",
       "      <td>...</td>\n",
       "      <td>...</td>\n",
       "      <td>...</td>\n",
       "      <td>...</td>\n",
       "      <td>...</td>\n",
       "      <td>...</td>\n",
       "      <td>...</td>\n",
       "      <td>...</td>\n",
       "      <td>...</td>\n",
       "      <td>...</td>\n",
       "      <td>...</td>\n",
       "      <td>...</td>\n",
       "      <td>...</td>\n",
       "      <td>...</td>\n",
       "    </tr>\n",
       "    <tr>\n",
       "      <th>59479</th>\n",
       "      <td>3</td>\n",
       "      <td>59480</td>\n",
       "      <td>NOAM</td>\n",
       "      <td>WM</td>\n",
       "      <td>US</td>\n",
       "      <td>62461</td>\n",
       "      <td>US</td>\n",
       "      <td>2297009</td>\n",
       "      <td>No</td>\n",
       "      <td>FCA</td>\n",
       "      <td>NEWARK NJ, US</td>\n",
       "      <td>Road</td>\n",
       "      <td>Yes</td>\n",
       "      <td>Not assigned</td>\n",
       "      <td>100</td>\n",
       "      <td>100</td>\n",
       "      <td>1</td>\n",
       "      <td>3</td>\n",
       "      <td>22</td>\n",
       "      <td>-3</td>\n",
       "      <td>Early</td>\n",
       "      <td>6</td>\n",
       "      <td>-16</td>\n",
       "      <td>16-20 late</td>\n",
       "      <td>1</td>\n",
       "      <td>1</td>\n",
       "      <td>Yes</td>\n",
       "    </tr>\n",
       "    <tr>\n",
       "      <th>59480</th>\n",
       "      <td>3</td>\n",
       "      <td>59481</td>\n",
       "      <td>EMEA</td>\n",
       "      <td>OP</td>\n",
       "      <td>FR</td>\n",
       "      <td>66776</td>\n",
       "      <td>FR</td>\n",
       "      <td>NaN</td>\n",
       "      <td>Yes</td>\n",
       "      <td>DDP</td>\n",
       "      <td>POMACLE, FR</td>\n",
       "      <td>Road</td>\n",
       "      <td>Yes</td>\n",
       "      <td>Not assigned</td>\n",
       "      <td>100</td>\n",
       "      <td>100</td>\n",
       "      <td>15000</td>\n",
       "      <td>1</td>\n",
       "      <td>7</td>\n",
       "      <td>0</td>\n",
       "      <td>On Time</td>\n",
       "      <td>1</td>\n",
       "      <td>-16</td>\n",
       "      <td>16-20 late</td>\n",
       "      <td>2</td>\n",
       "      <td>1</td>\n",
       "      <td>Yes</td>\n",
       "    </tr>\n",
       "    <tr>\n",
       "      <th>59481</th>\n",
       "      <td>3</td>\n",
       "      <td>59482</td>\n",
       "      <td>APAC</td>\n",
       "      <td>ZC</td>\n",
       "      <td>CN</td>\n",
       "      <td>600837</td>\n",
       "      <td>CN</td>\n",
       "      <td>6100117</td>\n",
       "      <td>Yes</td>\n",
       "      <td>DDP</td>\n",
       "      <td>CHANGZHOU, CN</td>\n",
       "      <td>Road</td>\n",
       "      <td>Yes</td>\n",
       "      <td>Not assigned</td>\n",
       "      <td>100</td>\n",
       "      <td>100</td>\n",
       "      <td>65</td>\n",
       "      <td>1</td>\n",
       "      <td>79</td>\n",
       "      <td>-3</td>\n",
       "      <td>Early</td>\n",
       "      <td>4</td>\n",
       "      <td>-75</td>\n",
       "      <td>&gt;20 late</td>\n",
       "      <td>2</td>\n",
       "      <td>0</td>\n",
       "      <td>NaN</td>\n",
       "    </tr>\n",
       "    <tr>\n",
       "      <th>59482</th>\n",
       "      <td>3</td>\n",
       "      <td>59483</td>\n",
       "      <td>EMEA</td>\n",
       "      <td>OP</td>\n",
       "      <td>FR</td>\n",
       "      <td>66776</td>\n",
       "      <td>FR</td>\n",
       "      <td>NaN</td>\n",
       "      <td>Yes</td>\n",
       "      <td>DDP</td>\n",
       "      <td>POMACLE, FR</td>\n",
       "      <td>Road</td>\n",
       "      <td>Yes</td>\n",
       "      <td>Not assigned</td>\n",
       "      <td>100</td>\n",
       "      <td>100</td>\n",
       "      <td>15000</td>\n",
       "      <td>1</td>\n",
       "      <td>7</td>\n",
       "      <td>0</td>\n",
       "      <td>On Time</td>\n",
       "      <td>1</td>\n",
       "      <td>-16</td>\n",
       "      <td>16-20 late</td>\n",
       "      <td>2</td>\n",
       "      <td>1</td>\n",
       "      <td>Yes</td>\n",
       "    </tr>\n",
       "    <tr>\n",
       "      <th>59483</th>\n",
       "      <td>3</td>\n",
       "      <td>59484</td>\n",
       "      <td>NOAM</td>\n",
       "      <td>WM</td>\n",
       "      <td>US</td>\n",
       "      <td>65492</td>\n",
       "      <td>US</td>\n",
       "      <td>446901</td>\n",
       "      <td>Yes</td>\n",
       "      <td>DDP</td>\n",
       "      <td>MOUNT OLIVE NJ, US</td>\n",
       "      <td>Road</td>\n",
       "      <td>Yes</td>\n",
       "      <td>Not assigned</td>\n",
       "      <td>100</td>\n",
       "      <td>100</td>\n",
       "      <td>400</td>\n",
       "      <td>1</td>\n",
       "      <td>7</td>\n",
       "      <td>-3</td>\n",
       "      <td>Early</td>\n",
       "      <td>4</td>\n",
       "      <td>-81</td>\n",
       "      <td>&gt;20 late</td>\n",
       "      <td>3</td>\n",
       "      <td>0</td>\n",
       "      <td>NaN</td>\n",
       "    </tr>\n",
       "  </tbody>\n",
       "</table>\n",
       "<p>59484 rows × 27 columns</p>\n",
       "</div>"
      ],
      "text/plain": [
       "       Purchase Order Receipt Month  Purchase Order # Givaudan Plant Region  \\\n",
       "0                                 2                 1                  APAC   \n",
       "1                                 2                 2                  APAC   \n",
       "2                                 2                 3                  APAC   \n",
       "3                                 2                 4                  APAC   \n",
       "4                                 2                 5                  APAC   \n",
       "...                             ...               ...                   ...   \n",
       "59479                             3             59480                  NOAM   \n",
       "59480                             3             59481                  EMEA   \n",
       "59481                             3             59482                  APAC   \n",
       "59482                             3             59483                  EMEA   \n",
       "59483                             3             59484                  NOAM   \n",
       "\n",
       "      Givaudan Plant Code Givaudan Plant Country  Vendor Code Vendor Country  \\\n",
       "0                      MC                     ID        60184             CN   \n",
       "1                      MC                     ID        60216             SG   \n",
       "2                      MC                     ID        60217             IN   \n",
       "3                      MC                     ID        60217             IN   \n",
       "4                      MC                     ID        60439             CN   \n",
       "...                   ...                    ...          ...            ...   \n",
       "59479                  WM                     US        62461             US   \n",
       "59480                  OP                     FR        66776             FR   \n",
       "59481                  ZC                     CN       600837             CN   \n",
       "59482                  OP                     FR        66776             FR   \n",
       "59483                  WM                     US        65492             US   \n",
       "\n",
       "       Material Code Organized By Givaudan Incoterms         Incoterms 2  \\\n",
       "0            3059901                    No       CFR         JAKARTA, ID   \n",
       "1              10243                    No       CFR         JAKARTA, ID   \n",
       "2            1486253                    No       CFR         JAKARTA, ID   \n",
       "3            9335903                    No       CFR         JAKARTA, ID   \n",
       "4            2313603                    No       FCA          XIAMEN, CN   \n",
       "...              ...                   ...       ...                 ...   \n",
       "59479        2297009                    No       FCA       NEWARK NJ, US   \n",
       "59480            NaN                   Yes       DDP         POMACLE, FR   \n",
       "59481        6100117                   Yes       DDP       CHANGZHOU, CN   \n",
       "59482            NaN                   Yes       DDP         POMACLE, FR   \n",
       "59483         446901                   Yes       DDP  MOUNT OLIVE NJ, US   \n",
       "\n",
       "      Mode of Transport Violation by Givaudan  \\\n",
       "0                   Sea                    No   \n",
       "1                   Sea                   Yes   \n",
       "2                   Sea                    No   \n",
       "3                   Sea                    No   \n",
       "4                   Sea                    No   \n",
       "...                 ...                   ...   \n",
       "59479              Road                   Yes   \n",
       "59480              Road                   Yes   \n",
       "59481              Road                   Yes   \n",
       "59482              Road                   Yes   \n",
       "59483              Road                   Yes   \n",
       "\n",
       "                 Late Purchase Order Reason Code  Service Level  \\\n",
       "0      VENDOR ISSUES UNTIL INCOTERMS FULFILLMENT              0   \n",
       "1                               Not assigned yet            100   \n",
       "2                               Not assigned yet            100   \n",
       "3      VENDOR ISSUES UNTIL INCOTERMS FULFILLMENT              0   \n",
       "4                   TRANSPORTATION ISSUE / DELAY              0   \n",
       "...                                          ...            ...   \n",
       "59479                               Not assigned            100   \n",
       "59480                               Not assigned            100   \n",
       "59481                               Not assigned            100   \n",
       "59482                               Not assigned            100   \n",
       "59483                               Not assigned            100   \n",
       "\n",
       "       Service Level (Score Corrected)  Purchase Order Qty (kg)  \\\n",
       "0                                    0                     1360   \n",
       "1                                  100                      400   \n",
       "2                                  100                      600   \n",
       "3                                    0                      180   \n",
       "4                                  100                      180   \n",
       "...                                ...                      ...   \n",
       "59479                              100                        1   \n",
       "59480                              100                    15000   \n",
       "59481                              100                       65   \n",
       "59482                              100                    15000   \n",
       "59483                              100                      400   \n",
       "\n",
       "       Actual Lead Time  Lead Time in Givaudan System  \\\n",
       "0                    63                            31   \n",
       "1                    44                            61   \n",
       "2                    69                            41   \n",
       "3                    93                            41   \n",
       "4                    69                            44   \n",
       "...                 ...                           ...   \n",
       "59479                 3                            22   \n",
       "59480                 1                             7   \n",
       "59481                 1                            79   \n",
       "59482                 1                             7   \n",
       "59483                 1                             7   \n",
       "\n",
       "       Purchase Order Late (days) Late/Early Receipt  \\\n",
       "0                               7              Late    \n",
       "1                             -11             Early    \n",
       "2                             -21             Early    \n",
       "3                              36              Late    \n",
       "4                               4              Late    \n",
       "...                           ...                ...   \n",
       "59479                          -3             Early    \n",
       "59480                           0            On Time   \n",
       "59481                          -3             Early    \n",
       "59482                           0            On Time   \n",
       "59483                          -3             Early    \n",
       "\n",
       "       Requested Lead Time by Givaudan  Purchase Order Release  \\\n",
       "0                                   56                       1   \n",
       "1                                   55                      -6   \n",
       "2                                   90                      15   \n",
       "3                                   57                       2   \n",
       "4                                   65                     -18   \n",
       "...                                ...                     ...   \n",
       "59479                                6                     -16   \n",
       "59480                                1                     -16   \n",
       "59481                                4                     -75   \n",
       "59482                                1                     -16   \n",
       "59483                                4                     -81   \n",
       "\n",
       "      Early Release buckets  Nr of Local Vendors  % of Vendor from Total Qty  \\\n",
       "0                 1-5 early                    2                           1   \n",
       "1                 6-10 late                    1                           1   \n",
       "2               11-15 early                    1                           1   \n",
       "3                 1-5 early                    1                           1   \n",
       "4                16-20 late                    2                           1   \n",
       "...                     ...                  ...                         ...   \n",
       "59479            16-20 late                    1                           1   \n",
       "59480            16-20 late                    2                           1   \n",
       "59481              >20 late                    2                           0   \n",
       "59482            16-20 late                    2                           1   \n",
       "59483              >20 late                    3                           0   \n",
       "\n",
       "      Top Vendor  \n",
       "0            Yes  \n",
       "1            Yes  \n",
       "2            Yes  \n",
       "3            Yes  \n",
       "4            Yes  \n",
       "...          ...  \n",
       "59479        Yes  \n",
       "59480        Yes  \n",
       "59481        NaN  \n",
       "59482        Yes  \n",
       "59483        NaN  \n",
       "\n",
       "[59484 rows x 27 columns]"
      ]
     },
     "execution_count": 73,
     "metadata": {},
     "output_type": "execute_result"
    }
   ],
   "source": [
    "df"
   ]
  },
  {
   "cell_type": "markdown",
   "id": "5df02093-05a0-4161-b970-fd384f5172c5",
   "metadata": {},
   "source": [
    "\n",
    "    Purchase Order Receipt Month to be transform to date.\n",
    "    Givudan Plant Code, Incoterms, Incoterms2,  to be dropped. \n",
    "    Late PO Reason Code - Not assigned yet to be checked.\n",
    "    Lead Time comparisons.\n",
    "    \n"
   ]
  },
  {
   "cell_type": "code",
   "execution_count": 74,
   "id": "aeef10e6-6309-4a03-b0ca-110f0d374b39",
   "metadata": {},
   "outputs": [
    {
     "data": {
      "text/plain": [
       "Purchase Order Receipt Month      0\n",
       "Purchase Order #                  0\n",
       "Givaudan Plant Region             0\n",
       "Givaudan Plant Code               0\n",
       "Givaudan Plant Country            0\n",
       "Vendor Code                       0\n",
       "Vendor Country                    0\n",
       "Material Code                     0\n",
       "Organized By Givaudan             0\n",
       "Incoterms                         0\n",
       "Incoterms 2                       0\n",
       "Mode of Transport                 0\n",
       "Violation by Givaudan             0\n",
       "Late Purchase Order Reason Code   0\n",
       "Service Level                     0\n",
       "Service Level (Score Corrected)   0\n",
       "Purchase Order Qty (kg)           0\n",
       "Actual Lead Time                  0\n",
       "Lead Time in Givaudan System      0\n",
       "Purchase Order Late (days)        0\n",
       "Late/Early Receipt                0\n",
       "Requested Lead Time by Givaudan   0\n",
       "Purchase Order Release            0\n",
       "Early Release buckets             0\n",
       "Nr of Local Vendors               0\n",
       "% of Vendor from Total Qty        0\n",
       "Top Vendor                        0\n",
       "dtype: float64"
      ]
     },
     "execution_count": 74,
     "metadata": {},
     "output_type": "execute_result"
    }
   ],
   "source": [
    "df.isnull().sum()/len(df)  "
   ]
  },
  {
   "cell_type": "code",
   "execution_count": 75,
   "id": "9972f37e-b529-4e33-89c1-c4806fd647f7",
   "metadata": {},
   "outputs": [
    {
     "data": {
      "text/plain": [
       "Purchase Order Receipt Month          0\n",
       "Purchase Order #                      0\n",
       "Givaudan Plant Region                 0\n",
       "Givaudan Plant Code                   0\n",
       "Givaudan Plant Country                0\n",
       "Vendor Code                          14\n",
       "Vendor Country                        0\n",
       "Material Code                      1662\n",
       "Organized By Givaudan                 0\n",
       "Incoterms                             0\n",
       "Incoterms 2                           0\n",
       "Mode of Transport                     0\n",
       "Violation by Givaudan                 0\n",
       "Late Purchase Order Reason Code       0\n",
       "Service Level                         0\n",
       "Service Level (Score Corrected)       0\n",
       "Purchase Order Qty (kg)               0\n",
       "Actual Lead Time                      0\n",
       "Lead Time in Givaudan System          0\n",
       "Purchase Order Late (days)            0\n",
       "Late/Early Receipt                    0\n",
       "Requested Lead Time by Givaudan       0\n",
       "Purchase Order Release                0\n",
       "Early Release buckets                 0\n",
       "Nr of Local Vendors                   0\n",
       "% of Vendor from Total Qty            0\n",
       "Top Vendor                         5822\n",
       "dtype: int64"
      ]
     },
     "execution_count": 75,
     "metadata": {},
     "output_type": "execute_result"
    }
   ],
   "source": [
    "df.isnull().sum()"
   ]
  },
  {
   "cell_type": "code",
   "execution_count": 76,
   "id": "cd6503d7-0aca-46b9-8163-388f1550a75d",
   "metadata": {},
   "outputs": [
    {
     "name": "stdout",
     "output_type": "stream",
     "text": [
      "<class 'pandas.core.frame.DataFrame'>\n",
      "RangeIndex: 59484 entries, 0 to 59483\n",
      "Data columns (total 27 columns):\n",
      " #   Column                           Non-Null Count  Dtype  \n",
      "---  ------                           --------------  -----  \n",
      " 0   Purchase Order Receipt Month     59484 non-null  float64\n",
      " 1   Purchase Order #                 59484 non-null  int64  \n",
      " 2   Givaudan Plant Region            59484 non-null  object \n",
      " 3   Givaudan Plant Code              59484 non-null  object \n",
      " 4   Givaudan Plant Country           59484 non-null  object \n",
      " 5   Vendor Code                      59470 non-null  float64\n",
      " 6   Vendor Country                   59484 non-null  object \n",
      " 7   Material Code                    57822 non-null  float64\n",
      " 8   Organized By Givaudan            59484 non-null  object \n",
      " 9   Incoterms                        59484 non-null  object \n",
      " 10  Incoterms 2                      59484 non-null  object \n",
      " 11  Mode of Transport                59484 non-null  object \n",
      " 12  Violation by Givaudan            59484 non-null  object \n",
      " 13  Late Purchase Order Reason Code  59484 non-null  object \n",
      " 14  Service Level                    59484 non-null  int64  \n",
      " 15  Service Level (Score Corrected)  59484 non-null  int64  \n",
      " 16  Purchase Order Qty (kg)          59484 non-null  float64\n",
      " 17  Actual Lead Time                 59484 non-null  int64  \n",
      " 18  Lead Time in Givaudan System     59484 non-null  int64  \n",
      " 19  Purchase Order Late (days)       59484 non-null  int64  \n",
      " 20  Late/Early Receipt               59484 non-null  object \n",
      " 21  Requested Lead Time by Givaudan  59484 non-null  int64  \n",
      " 22  Purchase Order Release           59484 non-null  int64  \n",
      " 23  Early Release buckets            59484 non-null  object \n",
      " 24  Nr of Local Vendors              59484 non-null  int64  \n",
      " 25  % of Vendor from Total Qty       59484 non-null  float64\n",
      " 26  Top Vendor                       53662 non-null  object \n",
      "dtypes: float64(5), int64(9), object(13)\n",
      "memory usage: 12.3+ MB\n"
     ]
    }
   ],
   "source": [
    "df.info()"
   ]
  },
  {
   "cell_type": "markdown",
   "id": "3d2f12f4-a860-4fb5-9871-59b391b0da3e",
   "metadata": {},
   "source": [
    "*Comment: 27% of the Material Code and 9,7% of Top Vendor is missing. MC to be dropped. Missing values to be droped from Vendor Code, The Top Vendor - considered for beind handled.*"
   ]
  },
  {
   "cell_type": "markdown",
   "id": "4301320b-6dea-4555-b951-d4ea282dd888",
   "metadata": {},
   "source": [
    "##### Dropping features"
   ]
  },
  {
   "cell_type": "code",
   "execution_count": 77,
   "id": "faac9344-4a78-40da-974e-22a948cb07b9",
   "metadata": {},
   "outputs": [
    {
     "data": {
      "text/plain": [
       "Index(['Purchase Order Receipt Month', 'Purchase Order #',\n",
       "       'Givaudan Plant Region', 'Givaudan Plant Code',\n",
       "       'Givaudan Plant Country', 'Vendor Code', 'Vendor Country',\n",
       "       'Material Code', 'Organized By Givaudan', 'Incoterms', 'Incoterms 2',\n",
       "       'Mode of Transport', 'Violation by Givaudan',\n",
       "       'Late Purchase Order Reason Code', 'Service Level',\n",
       "       'Service Level (Score Corrected)', 'Purchase Order Qty (kg)',\n",
       "       'Actual Lead Time', 'Lead Time in Givaudan System',\n",
       "       'Purchase Order Late (days)', 'Late/Early Receipt',\n",
       "       'Requested Lead Time by Givaudan', 'Purchase Order Release',\n",
       "       'Early Release buckets', 'Nr of Local Vendors',\n",
       "       '% of Vendor from Total Qty', 'Top Vendor'],\n",
       "      dtype='object')"
      ]
     },
     "execution_count": 77,
     "metadata": {},
     "output_type": "execute_result"
    }
   ],
   "source": [
    "df.columns"
   ]
  },
  {
   "cell_type": "code",
   "execution_count": 78,
   "id": "f579869a-756a-43ad-a82a-80404d52edef",
   "metadata": {},
   "outputs": [],
   "source": [
    "df2 = df.drop(['Givaudan Plant Code', 'Incoterms', 'Incoterms 2', 'Material Code'], axis=1)"
   ]
  },
  {
   "cell_type": "code",
   "execution_count": null,
   "id": "3e3bc09d-d86e-4efa-a9f1-f001b1f8bceb",
   "metadata": {},
   "outputs": [],
   "source": []
  },
  {
   "cell_type": "markdown",
   "id": "819b8040-12aa-4ece-9f3d-63207f64d36c",
   "metadata": {},
   "source": [
    "##### Purchase Order Receipt Month"
   ]
  },
  {
   "cell_type": "code",
   "execution_count": 79,
   "id": "38497004-eaa6-4860-88da-98843e9f1d4d",
   "metadata": {},
   "outputs": [
    {
     "data": {
      "text/plain": [
       "array([ 2.2022,  3.2022,  4.2022,  5.2022,  6.2022,  7.2022,  8.2022,\n",
       "        9.2022, 10.2022, 11.2022, 12.2022,  1.2023,  2.2023,  3.2023])"
      ]
     },
     "execution_count": 79,
     "metadata": {},
     "output_type": "execute_result"
    }
   ],
   "source": [
    "df['Purchase Order Receipt Month'].unique()"
   ]
  },
  {
   "cell_type": "code",
   "execution_count": 80,
   "id": "2b379ae9-ae2e-4ec3-976a-817aee673501",
   "metadata": {},
   "outputs": [],
   "source": [
    "df2['Purchase Order Receipt Month'] = df2['Purchase Order Receipt Month'].astype(str)\n",
    "# df2['Purchase Order Receipt Month'] = df2['Purchase Order Receipt Month'].apply(lambda x: x.strip())\n",
    "# df2['Purchase Order Receipt Month'] = df2['Purchase Order Receipt Month'].apply(lambda x: x.replace('.0', ''))\n",
    "# df2['Purchase Order Receipt Month'].unique()"
   ]
  },
  {
   "cell_type": "code",
   "execution_count": 81,
   "id": "1b6c5dbb-2046-4392-8934-57366c217003",
   "metadata": {},
   "outputs": [],
   "source": [
    "df2['Purchase Order Receipt Month'] = pd.to_datetime(df2['Purchase Order Receipt Month'], format='%m.%Y')"
   ]
  },
  {
   "cell_type": "code",
   "execution_count": 82,
   "id": "37014790-0e23-4c2c-8a5b-2ff3590efba3",
   "metadata": {},
   "outputs": [
    {
     "name": "stdout",
     "output_type": "stream",
     "text": [
      "<class 'pandas.core.series.Series'>\n",
      "RangeIndex: 59484 entries, 0 to 59483\n",
      "Series name: Purchase Order Receipt Month\n",
      "Non-Null Count  Dtype         \n",
      "--------------  -----         \n",
      "59484 non-null  datetime64[ns]\n",
      "dtypes: datetime64[ns](1)\n",
      "memory usage: 464.8 KB\n"
     ]
    }
   ],
   "source": [
    "df2['Purchase Order Receipt Month'].info()"
   ]
  },
  {
   "cell_type": "markdown",
   "id": "468c7671-b063-4468-8877-fa6a9a23ef10",
   "metadata": {},
   "source": [
    "Number of PO-s per months"
   ]
  },
  {
   "cell_type": "code",
   "execution_count": 83,
   "id": "2f2f362a-53c9-45e9-b047-ec479f495178",
   "metadata": {},
   "outputs": [
    {
     "data": {
      "text/html": [
       "<div>\n",
       "<style scoped>\n",
       "    .dataframe tbody tr th:only-of-type {\n",
       "        vertical-align: middle;\n",
       "    }\n",
       "\n",
       "    .dataframe tbody tr th {\n",
       "        vertical-align: top;\n",
       "    }\n",
       "\n",
       "    .dataframe thead th {\n",
       "        text-align: right;\n",
       "    }\n",
       "</style>\n",
       "<table border=\"1\" class=\"dataframe\">\n",
       "  <thead>\n",
       "    <tr style=\"text-align: right;\">\n",
       "      <th></th>\n",
       "      <th>Purchase Order Receipt Month</th>\n",
       "      <th>Count</th>\n",
       "    </tr>\n",
       "  </thead>\n",
       "  <tbody>\n",
       "    <tr>\n",
       "      <th>0</th>\n",
       "      <td>2022-02-01</td>\n",
       "      <td>4224</td>\n",
       "    </tr>\n",
       "    <tr>\n",
       "      <th>1</th>\n",
       "      <td>2022-03-01</td>\n",
       "      <td>4957</td>\n",
       "    </tr>\n",
       "    <tr>\n",
       "      <th>2</th>\n",
       "      <td>2022-04-01</td>\n",
       "      <td>4425</td>\n",
       "    </tr>\n",
       "    <tr>\n",
       "      <th>3</th>\n",
       "      <td>2022-05-01</td>\n",
       "      <td>4599</td>\n",
       "    </tr>\n",
       "    <tr>\n",
       "      <th>4</th>\n",
       "      <td>2022-06-01</td>\n",
       "      <td>4333</td>\n",
       "    </tr>\n",
       "    <tr>\n",
       "      <th>5</th>\n",
       "      <td>2022-07-01</td>\n",
       "      <td>4432</td>\n",
       "    </tr>\n",
       "    <tr>\n",
       "      <th>6</th>\n",
       "      <td>2022-08-01</td>\n",
       "      <td>4067</td>\n",
       "    </tr>\n",
       "    <tr>\n",
       "      <th>7</th>\n",
       "      <td>2022-09-01</td>\n",
       "      <td>3925</td>\n",
       "    </tr>\n",
       "    <tr>\n",
       "      <th>8</th>\n",
       "      <td>2022-10-01</td>\n",
       "      <td>3481</td>\n",
       "    </tr>\n",
       "    <tr>\n",
       "      <th>9</th>\n",
       "      <td>2022-11-01</td>\n",
       "      <td>3570</td>\n",
       "    </tr>\n",
       "    <tr>\n",
       "      <th>10</th>\n",
       "      <td>2022-12-01</td>\n",
       "      <td>2685</td>\n",
       "    </tr>\n",
       "    <tr>\n",
       "      <th>11</th>\n",
       "      <td>2023-01-01</td>\n",
       "      <td>5513</td>\n",
       "    </tr>\n",
       "    <tr>\n",
       "      <th>12</th>\n",
       "      <td>2023-02-01</td>\n",
       "      <td>4475</td>\n",
       "    </tr>\n",
       "    <tr>\n",
       "      <th>13</th>\n",
       "      <td>2023-03-01</td>\n",
       "      <td>4798</td>\n",
       "    </tr>\n",
       "  </tbody>\n",
       "</table>\n",
       "</div>"
      ],
      "text/plain": [
       "   Purchase Order Receipt Month  Count\n",
       "0                    2022-02-01   4224\n",
       "1                    2022-03-01   4957\n",
       "2                    2022-04-01   4425\n",
       "3                    2022-05-01   4599\n",
       "4                    2022-06-01   4333\n",
       "5                    2022-07-01   4432\n",
       "6                    2022-08-01   4067\n",
       "7                    2022-09-01   3925\n",
       "8                    2022-10-01   3481\n",
       "9                    2022-11-01   3570\n",
       "10                   2022-12-01   2685\n",
       "11                   2023-01-01   5513\n",
       "12                   2023-02-01   4475\n",
       "13                   2023-03-01   4798"
      ]
     },
     "execution_count": 83,
     "metadata": {},
     "output_type": "execute_result"
    }
   ],
   "source": [
    "monthly_orders = df2.groupby('Purchase Order Receipt Month')['Purchase Order Receipt Month'].count().reset_index(name='Count').sort_values(by='Purchase Order Receipt Month')\n",
    "monthly_orders"
   ]
  },
  {
   "cell_type": "code",
   "execution_count": 84,
   "id": "d723d53e-d8c0-4319-b3cc-5b7fec67710e",
   "metadata": {},
   "outputs": [
    {
     "data": {
      "image/png": "[encoded data removed]",
      "text/plain": [
       "<Figure size 800x400 with 1 Axes>"
      ]
     },
     "metadata": {},
     "output_type": "display_data"
    }
   ],
   "source": [
    "plt.figure(figsize=(8, 4))\n",
    "plt.plot(monthly_orders['Purchase Order Receipt Month'], monthly_orders['Count'], marker='o', color='blueviolet', linestyle='-', linewidth=2)\n",
    "plt.xlabel('Purchase Order Receipt Month')\n",
    "plt.ylabel('Count')\n",
    "plt.title('Purchase Order Counts by Month')\n",
    "plt.xticks(rotation=45, ha='right') #horizontal alignment\n",
    "plt.tight_layout()\n",
    "plt.show()"
   ]
  },
  {
   "cell_type": "code",
   "execution_count": 85,
   "id": "624a91e2-84f8-4a7a-8bb0-ecf6cc2e3653",
   "metadata": {},
   "outputs": [
    {
     "data": {
      "text/html": [
       "<div>\n",
       "<style scoped>\n",
       "    .dataframe tbody tr th:only-of-type {\n",
       "        vertical-align: middle;\n",
       "    }\n",
       "\n",
       "    .dataframe tbody tr th {\n",
       "        vertical-align: top;\n",
       "    }\n",
       "\n",
       "    .dataframe thead th {\n",
       "        text-align: right;\n",
       "    }\n",
       "</style>\n",
       "<table border=\"1\" class=\"dataframe\">\n",
       "  <thead>\n",
       "    <tr style=\"text-align: right;\">\n",
       "      <th></th>\n",
       "      <th>Givaudan Plant Region</th>\n",
       "      <th>Purchase Order Receipt Month</th>\n",
       "      <th>Count</th>\n",
       "    </tr>\n",
       "  </thead>\n",
       "  <tbody>\n",
       "    <tr>\n",
       "      <th>0</th>\n",
       "      <td>APAC</td>\n",
       "      <td>2022-02-01</td>\n",
       "      <td>983</td>\n",
       "    </tr>\n",
       "    <tr>\n",
       "      <th>14</th>\n",
       "      <td>EMEA</td>\n",
       "      <td>2022-02-01</td>\n",
       "      <td>2028</td>\n",
       "    </tr>\n",
       "    <tr>\n",
       "      <th>42</th>\n",
       "      <td>NOAM</td>\n",
       "      <td>2022-02-01</td>\n",
       "      <td>582</td>\n",
       "    </tr>\n",
       "    <tr>\n",
       "      <th>28</th>\n",
       "      <td>LATAM</td>\n",
       "      <td>2022-02-01</td>\n",
       "      <td>631</td>\n",
       "    </tr>\n",
       "    <tr>\n",
       "      <th>29</th>\n",
       "      <td>LATAM</td>\n",
       "      <td>2022-03-01</td>\n",
       "      <td>686</td>\n",
       "    </tr>\n",
       "    <tr>\n",
       "      <th>15</th>\n",
       "      <td>EMEA</td>\n",
       "      <td>2022-03-01</td>\n",
       "      <td>2437</td>\n",
       "    </tr>\n",
       "    <tr>\n",
       "      <th>43</th>\n",
       "      <td>NOAM</td>\n",
       "      <td>2022-03-01</td>\n",
       "      <td>606</td>\n",
       "    </tr>\n",
       "    <tr>\n",
       "      <th>1</th>\n",
       "      <td>APAC</td>\n",
       "      <td>2022-03-01</td>\n",
       "      <td>1228</td>\n",
       "    </tr>\n",
       "    <tr>\n",
       "      <th>30</th>\n",
       "      <td>LATAM</td>\n",
       "      <td>2022-04-01</td>\n",
       "      <td>632</td>\n",
       "    </tr>\n",
       "    <tr>\n",
       "      <th>2</th>\n",
       "      <td>APAC</td>\n",
       "      <td>2022-04-01</td>\n",
       "      <td>906</td>\n",
       "    </tr>\n",
       "    <tr>\n",
       "      <th>44</th>\n",
       "      <td>NOAM</td>\n",
       "      <td>2022-04-01</td>\n",
       "      <td>888</td>\n",
       "    </tr>\n",
       "    <tr>\n",
       "      <th>16</th>\n",
       "      <td>EMEA</td>\n",
       "      <td>2022-04-01</td>\n",
       "      <td>1999</td>\n",
       "    </tr>\n",
       "    <tr>\n",
       "      <th>31</th>\n",
       "      <td>LATAM</td>\n",
       "      <td>2022-05-01</td>\n",
       "      <td>668</td>\n",
       "    </tr>\n",
       "    <tr>\n",
       "      <th>17</th>\n",
       "      <td>EMEA</td>\n",
       "      <td>2022-05-01</td>\n",
       "      <td>2019</td>\n",
       "    </tr>\n",
       "    <tr>\n",
       "      <th>45</th>\n",
       "      <td>NOAM</td>\n",
       "      <td>2022-05-01</td>\n",
       "      <td>715</td>\n",
       "    </tr>\n",
       "    <tr>\n",
       "      <th>3</th>\n",
       "      <td>APAC</td>\n",
       "      <td>2022-05-01</td>\n",
       "      <td>1197</td>\n",
       "    </tr>\n",
       "    <tr>\n",
       "      <th>32</th>\n",
       "      <td>LATAM</td>\n",
       "      <td>2022-06-01</td>\n",
       "      <td>612</td>\n",
       "    </tr>\n",
       "    <tr>\n",
       "      <th>18</th>\n",
       "      <td>EMEA</td>\n",
       "      <td>2022-06-01</td>\n",
       "      <td>1827</td>\n",
       "    </tr>\n",
       "    <tr>\n",
       "      <th>46</th>\n",
       "      <td>NOAM</td>\n",
       "      <td>2022-06-01</td>\n",
       "      <td>668</td>\n",
       "    </tr>\n",
       "    <tr>\n",
       "      <th>4</th>\n",
       "      <td>APAC</td>\n",
       "      <td>2022-06-01</td>\n",
       "      <td>1226</td>\n",
       "    </tr>\n",
       "    <tr>\n",
       "      <th>19</th>\n",
       "      <td>EMEA</td>\n",
       "      <td>2022-07-01</td>\n",
       "      <td>1907</td>\n",
       "    </tr>\n",
       "    <tr>\n",
       "      <th>47</th>\n",
       "      <td>NOAM</td>\n",
       "      <td>2022-07-01</td>\n",
       "      <td>789</td>\n",
       "    </tr>\n",
       "    <tr>\n",
       "      <th>33</th>\n",
       "      <td>LATAM</td>\n",
       "      <td>2022-07-01</td>\n",
       "      <td>624</td>\n",
       "    </tr>\n",
       "    <tr>\n",
       "      <th>5</th>\n",
       "      <td>APAC</td>\n",
       "      <td>2022-07-01</td>\n",
       "      <td>1112</td>\n",
       "    </tr>\n",
       "    <tr>\n",
       "      <th>20</th>\n",
       "      <td>EMEA</td>\n",
       "      <td>2022-08-01</td>\n",
       "      <td>1716</td>\n",
       "    </tr>\n",
       "    <tr>\n",
       "      <th>34</th>\n",
       "      <td>LATAM</td>\n",
       "      <td>2022-08-01</td>\n",
       "      <td>730</td>\n",
       "    </tr>\n",
       "    <tr>\n",
       "      <th>48</th>\n",
       "      <td>NOAM</td>\n",
       "      <td>2022-08-01</td>\n",
       "      <td>706</td>\n",
       "    </tr>\n",
       "    <tr>\n",
       "      <th>6</th>\n",
       "      <td>APAC</td>\n",
       "      <td>2022-08-01</td>\n",
       "      <td>915</td>\n",
       "    </tr>\n",
       "    <tr>\n",
       "      <th>35</th>\n",
       "      <td>LATAM</td>\n",
       "      <td>2022-09-01</td>\n",
       "      <td>672</td>\n",
       "    </tr>\n",
       "    <tr>\n",
       "      <th>21</th>\n",
       "      <td>EMEA</td>\n",
       "      <td>2022-09-01</td>\n",
       "      <td>1717</td>\n",
       "    </tr>\n",
       "    <tr>\n",
       "      <th>49</th>\n",
       "      <td>NOAM</td>\n",
       "      <td>2022-09-01</td>\n",
       "      <td>655</td>\n",
       "    </tr>\n",
       "    <tr>\n",
       "      <th>7</th>\n",
       "      <td>APAC</td>\n",
       "      <td>2022-09-01</td>\n",
       "      <td>881</td>\n",
       "    </tr>\n",
       "    <tr>\n",
       "      <th>36</th>\n",
       "      <td>LATAM</td>\n",
       "      <td>2022-10-01</td>\n",
       "      <td>546</td>\n",
       "    </tr>\n",
       "    <tr>\n",
       "      <th>50</th>\n",
       "      <td>NOAM</td>\n",
       "      <td>2022-10-01</td>\n",
       "      <td>503</td>\n",
       "    </tr>\n",
       "    <tr>\n",
       "      <th>22</th>\n",
       "      <td>EMEA</td>\n",
       "      <td>2022-10-01</td>\n",
       "      <td>1498</td>\n",
       "    </tr>\n",
       "    <tr>\n",
       "      <th>8</th>\n",
       "      <td>APAC</td>\n",
       "      <td>2022-10-01</td>\n",
       "      <td>934</td>\n",
       "    </tr>\n",
       "    <tr>\n",
       "      <th>37</th>\n",
       "      <td>LATAM</td>\n",
       "      <td>2022-11-01</td>\n",
       "      <td>484</td>\n",
       "    </tr>\n",
       "    <tr>\n",
       "      <th>51</th>\n",
       "      <td>NOAM</td>\n",
       "      <td>2022-11-01</td>\n",
       "      <td>511</td>\n",
       "    </tr>\n",
       "    <tr>\n",
       "      <th>23</th>\n",
       "      <td>EMEA</td>\n",
       "      <td>2022-11-01</td>\n",
       "      <td>1456</td>\n",
       "    </tr>\n",
       "    <tr>\n",
       "      <th>9</th>\n",
       "      <td>APAC</td>\n",
       "      <td>2022-11-01</td>\n",
       "      <td>1119</td>\n",
       "    </tr>\n",
       "    <tr>\n",
       "      <th>38</th>\n",
       "      <td>LATAM</td>\n",
       "      <td>2022-12-01</td>\n",
       "      <td>306</td>\n",
       "    </tr>\n",
       "    <tr>\n",
       "      <th>52</th>\n",
       "      <td>NOAM</td>\n",
       "      <td>2022-12-01</td>\n",
       "      <td>236</td>\n",
       "    </tr>\n",
       "    <tr>\n",
       "      <th>24</th>\n",
       "      <td>EMEA</td>\n",
       "      <td>2022-12-01</td>\n",
       "      <td>1028</td>\n",
       "    </tr>\n",
       "    <tr>\n",
       "      <th>10</th>\n",
       "      <td>APAC</td>\n",
       "      <td>2022-12-01</td>\n",
       "      <td>1115</td>\n",
       "    </tr>\n",
       "    <tr>\n",
       "      <th>39</th>\n",
       "      <td>LATAM</td>\n",
       "      <td>2023-01-01</td>\n",
       "      <td>809</td>\n",
       "    </tr>\n",
       "    <tr>\n",
       "      <th>53</th>\n",
       "      <td>NOAM</td>\n",
       "      <td>2023-01-01</td>\n",
       "      <td>828</td>\n",
       "    </tr>\n",
       "    <tr>\n",
       "      <th>11</th>\n",
       "      <td>APAC</td>\n",
       "      <td>2023-01-01</td>\n",
       "      <td>1156</td>\n",
       "    </tr>\n",
       "    <tr>\n",
       "      <th>25</th>\n",
       "      <td>EMEA</td>\n",
       "      <td>2023-01-01</td>\n",
       "      <td>2720</td>\n",
       "    </tr>\n",
       "    <tr>\n",
       "      <th>40</th>\n",
       "      <td>LATAM</td>\n",
       "      <td>2023-02-01</td>\n",
       "      <td>641</td>\n",
       "    </tr>\n",
       "    <tr>\n",
       "      <th>26</th>\n",
       "      <td>EMEA</td>\n",
       "      <td>2023-02-01</td>\n",
       "      <td>1994</td>\n",
       "    </tr>\n",
       "    <tr>\n",
       "      <th>12</th>\n",
       "      <td>APAC</td>\n",
       "      <td>2023-02-01</td>\n",
       "      <td>1215</td>\n",
       "    </tr>\n",
       "    <tr>\n",
       "      <th>54</th>\n",
       "      <td>NOAM</td>\n",
       "      <td>2023-02-01</td>\n",
       "      <td>625</td>\n",
       "    </tr>\n",
       "    <tr>\n",
       "      <th>27</th>\n",
       "      <td>EMEA</td>\n",
       "      <td>2023-03-01</td>\n",
       "      <td>2013</td>\n",
       "    </tr>\n",
       "    <tr>\n",
       "      <th>13</th>\n",
       "      <td>APAC</td>\n",
       "      <td>2023-03-01</td>\n",
       "      <td>1321</td>\n",
       "    </tr>\n",
       "    <tr>\n",
       "      <th>41</th>\n",
       "      <td>LATAM</td>\n",
       "      <td>2023-03-01</td>\n",
       "      <td>724</td>\n",
       "    </tr>\n",
       "    <tr>\n",
       "      <th>55</th>\n",
       "      <td>NOAM</td>\n",
       "      <td>2023-03-01</td>\n",
       "      <td>740</td>\n",
       "    </tr>\n",
       "  </tbody>\n",
       "</table>\n",
       "</div>"
      ],
      "text/plain": [
       "   Givaudan Plant Region Purchase Order Receipt Month  Count\n",
       "0                   APAC                   2022-02-01    983\n",
       "14                  EMEA                   2022-02-01   2028\n",
       "42                  NOAM                   2022-02-01    582\n",
       "28                 LATAM                   2022-02-01    631\n",
       "29                 LATAM                   2022-03-01    686\n",
       "15                  EMEA                   2022-03-01   2437\n",
       "43                  NOAM                   2022-03-01    606\n",
       "1                   APAC                   2022-03-01   1228\n",
       "30                 LATAM                   2022-04-01    632\n",
       "2                   APAC                   2022-04-01    906\n",
       "44                  NOAM                   2022-04-01    888\n",
       "16                  EMEA                   2022-04-01   1999\n",
       "31                 LATAM                   2022-05-01    668\n",
       "17                  EMEA                   2022-05-01   2019\n",
       "45                  NOAM                   2022-05-01    715\n",
       "3                   APAC                   2022-05-01   1197\n",
       "32                 LATAM                   2022-06-01    612\n",
       "18                  EMEA                   2022-06-01   1827\n",
       "46                  NOAM                   2022-06-01    668\n",
       "4                   APAC                   2022-06-01   1226\n",
       "19                  EMEA                   2022-07-01   1907\n",
       "47                  NOAM                   2022-07-01    789\n",
       "33                 LATAM                   2022-07-01    624\n",
       "5                   APAC                   2022-07-01   1112\n",
       "20                  EMEA                   2022-08-01   1716\n",
       "34                 LATAM                   2022-08-01    730\n",
       "48                  NOAM                   2022-08-01    706\n",
       "6                   APAC                   2022-08-01    915\n",
       "35                 LATAM                   2022-09-01    672\n",
       "21                  EMEA                   2022-09-01   1717\n",
       "49                  NOAM                   2022-09-01    655\n",
       "7                   APAC                   2022-09-01    881\n",
       "36                 LATAM                   2022-10-01    546\n",
       "50                  NOAM                   2022-10-01    503\n",
       "22                  EMEA                   2022-10-01   1498\n",
       "8                   APAC                   2022-10-01    934\n",
       "37                 LATAM                   2022-11-01    484\n",
       "51                  NOAM                   2022-11-01    511\n",
       "23                  EMEA                   2022-11-01   1456\n",
       "9                   APAC                   2022-11-01   1119\n",
       "38                 LATAM                   2022-12-01    306\n",
       "52                  NOAM                   2022-12-01    236\n",
       "24                  EMEA                   2022-12-01   1028\n",
       "10                  APAC                   2022-12-01   1115\n",
       "39                 LATAM                   2023-01-01    809\n",
       "53                  NOAM                   2023-01-01    828\n",
       "11                  APAC                   2023-01-01   1156\n",
       "25                  EMEA                   2023-01-01   2720\n",
       "40                 LATAM                   2023-02-01    641\n",
       "26                  EMEA                   2023-02-01   1994\n",
       "12                  APAC                   2023-02-01   1215\n",
       "54                  NOAM                   2023-02-01    625\n",
       "27                  EMEA                   2023-03-01   2013\n",
       "13                  APAC                   2023-03-01   1321\n",
       "41                 LATAM                   2023-03-01    724\n",
       "55                  NOAM                   2023-03-01    740"
      ]
     },
     "execution_count": 85,
     "metadata": {},
     "output_type": "execute_result"
    }
   ],
   "source": [
    "monthly_orders2 = df2.groupby(['Givaudan Plant Region','Purchase Order Receipt Month'])['Purchase Order Receipt Month'].count().reset_index(name='Count').sort_values(by='Purchase Order Receipt Month')\n",
    "monthly_orders2"
   ]
  },
  {
   "cell_type": "code",
   "execution_count": 86,
   "id": "9eea8ac9-c579-4bee-a6da-9e39ed896780",
   "metadata": {},
   "outputs": [
    {
     "data": {
      "image/png": "[encoded data removed]",
      "text/plain": [
       "<Figure size 800x500 with 1 Axes>"
      ]
     },
     "metadata": {},
     "output_type": "display_data"
    }
   ],
   "source": [
    "monthly_orders2['Purchase Order Receipt Month'] = pd.to_datetime(monthly_orders2['Purchase Order Receipt Month'])\n",
    "\n",
    "plt.figure(figsize=(8,5))\n",
    "sns.lineplot(data=monthly_orders2, x='Purchase Order Receipt Month', y='Count', hue='Givaudan Plant Region', marker='o')\n",
    "plt.xlabel('Purchase Order Receipt Month')\n",
    "plt.ylabel('Count')\n",
    "plt.title('Purchase Order Counts by Month')\n",
    "plt.xticks(rotation=45, ha='right')\n",
    "plt.tight_layout()\n",
    "plt.show()"
   ]
  },
  {
   "cell_type": "code",
   "execution_count": 87,
   "id": "495e6387-78eb-42e6-90a7-729ab2ddd69b",
   "metadata": {},
   "outputs": [
    {
     "data": {
      "text/plain": [
       "Index(['Purchase Order Receipt Month', 'Count'], dtype='object')"
      ]
     },
     "execution_count": 87,
     "metadata": {},
     "output_type": "execute_result"
    }
   ],
   "source": [
    "monthly_orders.columns"
   ]
  },
  {
   "cell_type": "markdown",
   "id": "aebedcd4-8a61-4415-ae4f-fcad2eb6d068",
   "metadata": {},
   "source": [
    "##### Vendor Code"
   ]
  },
  {
   "cell_type": "code",
   "execution_count": 88,
   "id": "04424711-128e-4a9e-9a0e-4b59f4819cfe",
   "metadata": {},
   "outputs": [
    {
     "data": {
      "text/html": [
       "<div>\n",
       "<style scoped>\n",
       "    .dataframe tbody tr th:only-of-type {\n",
       "        vertical-align: middle;\n",
       "    }\n",
       "\n",
       "    .dataframe tbody tr th {\n",
       "        vertical-align: top;\n",
       "    }\n",
       "\n",
       "    .dataframe thead th {\n",
       "        text-align: right;\n",
       "    }\n",
       "</style>\n",
       "<table border=\"1\" class=\"dataframe\">\n",
       "  <thead>\n",
       "    <tr style=\"text-align: right;\">\n",
       "      <th></th>\n",
       "      <th>Purchase Order Receipt Month</th>\n",
       "      <th>Purchase Order #</th>\n",
       "      <th>Givaudan Plant Region</th>\n",
       "      <th>Givaudan Plant Country</th>\n",
       "      <th>Vendor Code</th>\n",
       "      <th>Vendor Country</th>\n",
       "      <th>Organized By Givaudan</th>\n",
       "      <th>Mode of Transport</th>\n",
       "      <th>Violation by Givaudan</th>\n",
       "      <th>Late Purchase Order Reason Code</th>\n",
       "      <th>Service Level</th>\n",
       "      <th>Service Level (Score Corrected)</th>\n",
       "      <th>Purchase Order Qty (kg)</th>\n",
       "      <th>Actual Lead Time</th>\n",
       "      <th>Lead Time in Givaudan System</th>\n",
       "      <th>Purchase Order Late (days)</th>\n",
       "      <th>Late/Early Receipt</th>\n",
       "      <th>Requested Lead Time by Givaudan</th>\n",
       "      <th>Purchase Order Release</th>\n",
       "      <th>Early Release buckets</th>\n",
       "      <th>Nr of Local Vendors</th>\n",
       "      <th>% of Vendor from Total Qty</th>\n",
       "      <th>Top Vendor</th>\n",
       "    </tr>\n",
       "  </thead>\n",
       "  <tbody>\n",
       "    <tr>\n",
       "      <th>2257</th>\n",
       "      <td>2022-02-01</td>\n",
       "      <td>2258</td>\n",
       "      <td>EMEA</td>\n",
       "      <td>FR</td>\n",
       "      <td>NaN</td>\n",
       "      <td>DE</td>\n",
       "      <td>No</td>\n",
       "      <td>Road</td>\n",
       "      <td>No</td>\n",
       "      <td>FORCES MAJEURES</td>\n",
       "      <td>100</td>\n",
       "      <td>100</td>\n",
       "      <td>200</td>\n",
       "      <td>267</td>\n",
       "      <td>30</td>\n",
       "      <td>213</td>\n",
       "      <td>Late</td>\n",
       "      <td>54</td>\n",
       "      <td>24</td>\n",
       "      <td>&gt;20 early</td>\n",
       "      <td>2</td>\n",
       "      <td>0</td>\n",
       "      <td>NaN</td>\n",
       "    </tr>\n",
       "    <tr>\n",
       "      <th>2258</th>\n",
       "      <td>2022-02-01</td>\n",
       "      <td>2259</td>\n",
       "      <td>EMEA</td>\n",
       "      <td>FR</td>\n",
       "      <td>NaN</td>\n",
       "      <td>NL</td>\n",
       "      <td>Yes</td>\n",
       "      <td>Road</td>\n",
       "      <td>Yes</td>\n",
       "      <td>DELAY REQUESTED BY GIVAUDAN</td>\n",
       "      <td>100</td>\n",
       "      <td>100</td>\n",
       "      <td>1000</td>\n",
       "      <td>7</td>\n",
       "      <td>56</td>\n",
       "      <td>4</td>\n",
       "      <td>Late</td>\n",
       "      <td>3</td>\n",
       "      <td>-53</td>\n",
       "      <td>&gt;20 late</td>\n",
       "      <td>2</td>\n",
       "      <td>1</td>\n",
       "      <td>Yes</td>\n",
       "    </tr>\n",
       "    <tr>\n",
       "      <th>6934</th>\n",
       "      <td>2022-03-01</td>\n",
       "      <td>6935</td>\n",
       "      <td>EMEA</td>\n",
       "      <td>FR</td>\n",
       "      <td>NaN</td>\n",
       "      <td>DE</td>\n",
       "      <td>No</td>\n",
       "      <td>Road</td>\n",
       "      <td>No</td>\n",
       "      <td>FORCES MAJEURES</td>\n",
       "      <td>100</td>\n",
       "      <td>100</td>\n",
       "      <td>200</td>\n",
       "      <td>141</td>\n",
       "      <td>30</td>\n",
       "      <td>73</td>\n",
       "      <td>Late</td>\n",
       "      <td>68</td>\n",
       "      <td>38</td>\n",
       "      <td>&gt;20 early</td>\n",
       "      <td>2</td>\n",
       "      <td>0</td>\n",
       "      <td>NaN</td>\n",
       "    </tr>\n",
       "    <tr>\n",
       "      <th>6935</th>\n",
       "      <td>2022-03-01</td>\n",
       "      <td>6936</td>\n",
       "      <td>EMEA</td>\n",
       "      <td>FR</td>\n",
       "      <td>NaN</td>\n",
       "      <td>DE</td>\n",
       "      <td>No</td>\n",
       "      <td>Road</td>\n",
       "      <td>No</td>\n",
       "      <td>VENDOR ISSUES UNTIL INCOTERMS FULFILLMENT</td>\n",
       "      <td>0</td>\n",
       "      <td>0</td>\n",
       "      <td>200</td>\n",
       "      <td>112</td>\n",
       "      <td>30</td>\n",
       "      <td>44</td>\n",
       "      <td>Late</td>\n",
       "      <td>68</td>\n",
       "      <td>38</td>\n",
       "      <td>&gt;20 early</td>\n",
       "      <td>2</td>\n",
       "      <td>0</td>\n",
       "      <td>NaN</td>\n",
       "    </tr>\n",
       "    <tr>\n",
       "      <th>6936</th>\n",
       "      <td>2022-03-01</td>\n",
       "      <td>6937</td>\n",
       "      <td>EMEA</td>\n",
       "      <td>FR</td>\n",
       "      <td>NaN</td>\n",
       "      <td>NL</td>\n",
       "      <td>Yes</td>\n",
       "      <td>Road</td>\n",
       "      <td>Yes</td>\n",
       "      <td>Not assigned yet</td>\n",
       "      <td>100</td>\n",
       "      <td>100</td>\n",
       "      <td>780</td>\n",
       "      <td>15</td>\n",
       "      <td>56</td>\n",
       "      <td>-1</td>\n",
       "      <td>Early</td>\n",
       "      <td>16</td>\n",
       "      <td>-40</td>\n",
       "      <td>&gt;20 late</td>\n",
       "      <td>2</td>\n",
       "      <td>1</td>\n",
       "      <td>Yes</td>\n",
       "    </tr>\n",
       "  </tbody>\n",
       "</table>\n",
       "</div>"
      ],
      "text/plain": [
       "     Purchase Order Receipt Month  Purchase Order # Givaudan Plant Region  \\\n",
       "2257                   2022-02-01              2258                  EMEA   \n",
       "2258                   2022-02-01              2259                  EMEA   \n",
       "6934                   2022-03-01              6935                  EMEA   \n",
       "6935                   2022-03-01              6936                  EMEA   \n",
       "6936                   2022-03-01              6937                  EMEA   \n",
       "\n",
       "     Givaudan Plant Country  Vendor Code Vendor Country Organized By Givaudan  \\\n",
       "2257                     FR          NaN             DE                    No   \n",
       "2258                     FR          NaN             NL                   Yes   \n",
       "6934                     FR          NaN             DE                    No   \n",
       "6935                     FR          NaN             DE                    No   \n",
       "6936                     FR          NaN             NL                   Yes   \n",
       "\n",
       "     Mode of Transport Violation by Givaudan  \\\n",
       "2257              Road                    No   \n",
       "2258              Road                   Yes   \n",
       "6934              Road                    No   \n",
       "6935              Road                    No   \n",
       "6936              Road                   Yes   \n",
       "\n",
       "                Late Purchase Order Reason Code  Service Level  \\\n",
       "2257                            FORCES MAJEURES            100   \n",
       "2258                DELAY REQUESTED BY GIVAUDAN            100   \n",
       "6934                            FORCES MAJEURES            100   \n",
       "6935  VENDOR ISSUES UNTIL INCOTERMS FULFILLMENT              0   \n",
       "6936                           Not assigned yet            100   \n",
       "\n",
       "      Service Level (Score Corrected)  Purchase Order Qty (kg)  \\\n",
       "2257                              100                      200   \n",
       "2258                              100                     1000   \n",
       "6934                              100                      200   \n",
       "6935                                0                      200   \n",
       "6936                              100                      780   \n",
       "\n",
       "      Actual Lead Time  Lead Time in Givaudan System  \\\n",
       "2257               267                            30   \n",
       "2258                 7                            56   \n",
       "6934               141                            30   \n",
       "6935               112                            30   \n",
       "6936                15                            56   \n",
       "\n",
       "      Purchase Order Late (days) Late/Early Receipt  \\\n",
       "2257                         213              Late    \n",
       "2258                           4              Late    \n",
       "6934                          73              Late    \n",
       "6935                          44              Late    \n",
       "6936                          -1             Early    \n",
       "\n",
       "      Requested Lead Time by Givaudan  Purchase Order Release  \\\n",
       "2257                               54                      24   \n",
       "2258                                3                     -53   \n",
       "6934                               68                      38   \n",
       "6935                               68                      38   \n",
       "6936                               16                     -40   \n",
       "\n",
       "     Early Release buckets  Nr of Local Vendors  % of Vendor from Total Qty  \\\n",
       "2257             >20 early                    2                           0   \n",
       "2258              >20 late                    2                           1   \n",
       "6934             >20 early                    2                           0   \n",
       "6935             >20 early                    2                           0   \n",
       "6936              >20 late                    2                           1   \n",
       "\n",
       "     Top Vendor  \n",
       "2257        NaN  \n",
       "2258        Yes  \n",
       "6934        NaN  \n",
       "6935        NaN  \n",
       "6936        Yes  "
      ]
     },
     "execution_count": 88,
     "metadata": {},
     "output_type": "execute_result"
    }
   ],
   "source": [
    "df2[df2['Vendor Code'].isna()].head()"
   ]
  },
  {
   "cell_type": "code",
   "execution_count": 89,
   "id": "2fd5cb4b-f8ac-4dc5-87d1-1374f104139a",
   "metadata": {},
   "outputs": [],
   "source": [
    "df2['Vendor Code'] = df2['Vendor Code'].fillna(0)"
   ]
  },
  {
   "cell_type": "code",
   "execution_count": 90,
   "id": "d1fa7cec-3f14-46e2-9b2a-7ba1fd335c24",
   "metadata": {},
   "outputs": [],
   "source": [
    "df2['Vendor Code'] = df2['Vendor Code'].dropna()"
   ]
  },
  {
   "cell_type": "code",
   "execution_count": 91,
   "id": "1e56c5ec-d554-4feb-974a-f2f4099b63cb",
   "metadata": {},
   "outputs": [],
   "source": [
    "df2['Vendor Code'] = df2['Vendor Code'].astype(int)"
   ]
  },
  {
   "cell_type": "code",
   "execution_count": 92,
   "id": "a0df532e-1ef3-4bec-b7e3-612cc766ef83",
   "metadata": {},
   "outputs": [
    {
     "data": {
      "text/plain": [
       "863"
      ]
     },
     "execution_count": 92,
     "metadata": {},
     "output_type": "execute_result"
    }
   ],
   "source": [
    "df2['Vendor Code'].nunique()"
   ]
  },
  {
   "cell_type": "code",
   "execution_count": 93,
   "id": "8deefb53-9f72-42e9-b22f-3be21791ac5b",
   "metadata": {},
   "outputs": [
    {
     "data": {
      "text/plain": [
       "Vendor Code\n",
       "60738    4083\n",
       "63548    3085\n",
       "63490    2755\n",
       "63340    2456\n",
       "63538    2003\n",
       "         ... \n",
       "61503      52\n",
       "65255      51\n",
       "66742      51\n",
       "61804      51\n",
       "60662      51\n",
       "Name: count, Length: 182, dtype: int64"
      ]
     },
     "execution_count": 93,
     "metadata": {},
     "output_type": "execute_result"
    }
   ],
   "source": [
    "above50order = df2['Vendor Code'].value_counts()[df2['Vendor Code'].value_counts() > 50]\n",
    "above50order"
   ]
  },
  {
   "cell_type": "code",
   "execution_count": null,
   "id": "ed205c12-73a5-4ae8-b775-99f0fbe5b55b",
   "metadata": {},
   "outputs": [],
   "source": []
  },
  {
   "cell_type": "code",
   "execution_count": null,
   "id": "4d072e4a-0a33-4d8c-88f0-0ec6df9a2e79",
   "metadata": {},
   "outputs": [],
   "source": []
  },
  {
   "cell_type": "markdown",
   "id": "6b6d7a76-e225-4acd-986d-b27318c021a0",
   "metadata": {},
   "source": [
    "##### Givaudan Plant Region"
   ]
  },
  {
   "cell_type": "code",
   "execution_count": 94,
   "id": "b2fb2950-dcc7-4e1f-8dca-3d8f826e13c5",
   "metadata": {},
   "outputs": [
    {
     "data": {
      "text/plain": [
       "Givaudan Plant Region\n",
       "EMEA     633\n",
       "APAC     351\n",
       "LATAM    285\n",
       "NOAM     256\n",
       "Name: Vendor Code, dtype: int64"
      ]
     },
     "execution_count": 94,
     "metadata": {},
     "output_type": "execute_result"
    }
   ],
   "source": [
    "unique_vendors = df2.groupby('Givaudan Plant Region')['Vendor Code'].nunique().sort_values(ascending=False)\n",
    "unique_vendors"
   ]
  },
  {
   "cell_type": "code",
   "execution_count": 95,
   "id": "bd569ea8-4745-4fbe-a263-4fd7d057cb44",
   "metadata": {},
   "outputs": [
    {
     "data": {
      "image/png": "[encoded data removed]",
      "text/plain": [
       "<Figure size 600x300 with 1 Axes>"
      ]
     },
     "metadata": {},
     "output_type": "display_data"
    }
   ],
   "source": [
    "plt.figure(figsize=(6,3))\n",
    "plt.bar(unique_vendors.index, unique_vendors.values, color='lightsteelblue')\n",
    "plt.xlabel('Givaudan Plant Region')\n",
    "plt.ylabel('No of Unique Vendor Codes')\n",
    "plt.title('No of Unique Vendor Codes by Givaudan Plant Region')\n",
    "plt.xticks(rotation=45, ha='right')  \n",
    "plt.tight_layout()\n",
    "plt.show()"
   ]
  },
  {
   "cell_type": "code",
   "execution_count": 96,
   "id": "d84c5847-d790-4bcc-b41e-3afbc4b1803c",
   "metadata": {},
   "outputs": [
    {
     "data": {
      "text/html": [
       "<div>\n",
       "<style scoped>\n",
       "    .dataframe tbody tr th:only-of-type {\n",
       "        vertical-align: middle;\n",
       "    }\n",
       "\n",
       "    .dataframe tbody tr th {\n",
       "        vertical-align: top;\n",
       "    }\n",
       "\n",
       "    .dataframe thead th {\n",
       "        text-align: right;\n",
       "    }\n",
       "</style>\n",
       "<table border=\"1\" class=\"dataframe\">\n",
       "  <thead>\n",
       "    <tr style=\"text-align: right;\">\n",
       "      <th></th>\n",
       "      <th>Givaudan Plant Region</th>\n",
       "      <th>Mode of Transport</th>\n",
       "      <th>Unique Vendor Count</th>\n",
       "    </tr>\n",
       "  </thead>\n",
       "  <tbody>\n",
       "    <tr>\n",
       "      <th>7</th>\n",
       "      <td>EMEA</td>\n",
       "      <td>Road</td>\n",
       "      <td>444</td>\n",
       "    </tr>\n",
       "    <tr>\n",
       "      <th>8</th>\n",
       "      <td>EMEA</td>\n",
       "      <td>Sea</td>\n",
       "      <td>253</td>\n",
       "    </tr>\n",
       "    <tr>\n",
       "      <th>3</th>\n",
       "      <td>APAC</td>\n",
       "      <td>Sea</td>\n",
       "      <td>228</td>\n",
       "    </tr>\n",
       "    <tr>\n",
       "      <th>14</th>\n",
       "      <td>LATAM</td>\n",
       "      <td>Sea</td>\n",
       "      <td>187</td>\n",
       "    </tr>\n",
       "    <tr>\n",
       "      <th>2</th>\n",
       "      <td>APAC</td>\n",
       "      <td>Road</td>\n",
       "      <td>184</td>\n",
       "    </tr>\n",
       "    <tr>\n",
       "      <th>19</th>\n",
       "      <td>NOAM</td>\n",
       "      <td>Sea</td>\n",
       "      <td>143</td>\n",
       "    </tr>\n",
       "    <tr>\n",
       "      <th>4</th>\n",
       "      <td>EMEA</td>\n",
       "      <td>Air</td>\n",
       "      <td>143</td>\n",
       "    </tr>\n",
       "    <tr>\n",
       "      <th>0</th>\n",
       "      <td>APAC</td>\n",
       "      <td>Air</td>\n",
       "      <td>136</td>\n",
       "    </tr>\n",
       "    <tr>\n",
       "      <th>18</th>\n",
       "      <td>NOAM</td>\n",
       "      <td>Road</td>\n",
       "      <td>107</td>\n",
       "    </tr>\n",
       "    <tr>\n",
       "      <th>13</th>\n",
       "      <td>LATAM</td>\n",
       "      <td>Road</td>\n",
       "      <td>101</td>\n",
       "    </tr>\n",
       "    <tr>\n",
       "      <th>6</th>\n",
       "      <td>EMEA</td>\n",
       "      <td>Mail</td>\n",
       "      <td>95</td>\n",
       "    </tr>\n",
       "    <tr>\n",
       "      <th>15</th>\n",
       "      <td>NOAM</td>\n",
       "      <td>Air</td>\n",
       "      <td>92</td>\n",
       "    </tr>\n",
       "    <tr>\n",
       "      <th>9</th>\n",
       "      <td>LATAM</td>\n",
       "      <td>Air</td>\n",
       "      <td>89</td>\n",
       "    </tr>\n",
       "    <tr>\n",
       "      <th>1</th>\n",
       "      <td>APAC</td>\n",
       "      <td>Mail</td>\n",
       "      <td>37</td>\n",
       "    </tr>\n",
       "    <tr>\n",
       "      <th>17</th>\n",
       "      <td>NOAM</td>\n",
       "      <td>Mail</td>\n",
       "      <td>16</td>\n",
       "    </tr>\n",
       "    <tr>\n",
       "      <th>11</th>\n",
       "      <td>LATAM</td>\n",
       "      <td>Mail</td>\n",
       "      <td>15</td>\n",
       "    </tr>\n",
       "    <tr>\n",
       "      <th>12</th>\n",
       "      <td>LATAM</td>\n",
       "      <td>Rail</td>\n",
       "      <td>3</td>\n",
       "    </tr>\n",
       "    <tr>\n",
       "      <th>5</th>\n",
       "      <td>EMEA</td>\n",
       "      <td>Domestic shipping</td>\n",
       "      <td>1</td>\n",
       "    </tr>\n",
       "    <tr>\n",
       "      <th>16</th>\n",
       "      <td>NOAM</td>\n",
       "      <td>Domestic shipping</td>\n",
       "      <td>1</td>\n",
       "    </tr>\n",
       "    <tr>\n",
       "      <th>10</th>\n",
       "      <td>LATAM</td>\n",
       "      <td>Domestic shipping</td>\n",
       "      <td>1</td>\n",
       "    </tr>\n",
       "  </tbody>\n",
       "</table>\n",
       "</div>"
      ],
      "text/plain": [
       "   Givaudan Plant Region  Mode of Transport  Unique Vendor Count\n",
       "7                   EMEA               Road                  444\n",
       "8                   EMEA                Sea                  253\n",
       "3                   APAC                Sea                  228\n",
       "14                 LATAM                Sea                  187\n",
       "2                   APAC               Road                  184\n",
       "19                  NOAM                Sea                  143\n",
       "4                   EMEA                Air                  143\n",
       "0                   APAC                Air                  136\n",
       "18                  NOAM               Road                  107\n",
       "13                 LATAM               Road                  101\n",
       "6                   EMEA               Mail                   95\n",
       "15                  NOAM                Air                   92\n",
       "9                  LATAM                Air                   89\n",
       "1                   APAC               Mail                   37\n",
       "17                  NOAM               Mail                   16\n",
       "11                 LATAM               Mail                   15\n",
       "12                 LATAM               Rail                    3\n",
       "5                   EMEA  Domestic shipping                    1\n",
       "16                  NOAM  Domestic shipping                    1\n",
       "10                 LATAM  Domestic shipping                    1"
      ]
     },
     "execution_count": 96,
     "metadata": {},
     "output_type": "execute_result"
    }
   ],
   "source": [
    "unique_vendors2 = df2.groupby(['Givaudan Plant Region','Mode of Transport'])['Vendor Code'].nunique().reset_index(name='Unique Vendor Count').sort_values(by='Unique Vendor Count',ascending=False)\n",
    "unique_vendors2"
   ]
  },
  {
   "cell_type": "code",
   "execution_count": 97,
   "id": "ca8f0a53-8898-4295-bb7a-abf8055693fb",
   "metadata": {},
   "outputs": [
    {
     "data": {
      "image/png": "[encoded data removed]",
      "text/plain": [
       "<Figure size 800x500 with 1 Axes>"
      ]
     },
     "metadata": {},
     "output_type": "display_data"
    }
   ],
   "source": [
    "plt.figure(figsize=(8,5))\n",
    "sns.barplot(data=unique_vendors2, x='Givaudan Plant Region', y='Unique Vendor Count', hue='Mode of Transport', palette='pastel')\n",
    "plt.xlabel('Givaudan Plant Region')\n",
    "plt.ylabel('No of Unique Vendors')\n",
    "plt.title('No of Unique Vendors by Givaudan Plant Region')\n",
    "plt.xticks(rotation=45, ha='right')  \n",
    "plt.tight_layout()\n",
    "plt.show()"
   ]
  },
  {
   "cell_type": "code",
   "execution_count": null,
   "id": "692e9336-a6be-4373-83b7-4b7cc540cc1a",
   "metadata": {},
   "outputs": [],
   "source": []
  },
  {
   "cell_type": "code",
   "execution_count": 98,
   "id": "0fb18ef3-7a71-4118-a98f-24300672b234",
   "metadata": {},
   "outputs": [
    {
     "data": {
      "text/plain": [
       "Givaudan Plant Region\n",
       "EMEA    115136669\n",
       "APAC     78640049\n",
       "LATAM    60805662\n",
       "NOAM     32710179\n",
       "Name: Purchase Order Qty (kg), dtype: float64"
      ]
     },
     "execution_count": 98,
     "metadata": {},
     "output_type": "execute_result"
    }
   ],
   "source": [
    "orders_kg = df2.groupby('Givaudan Plant Region')['Purchase Order Qty (kg)'].sum().sort_values(ascending=False)\n",
    "orders_kg"
   ]
  },
  {
   "cell_type": "code",
   "execution_count": 99,
   "id": "e6b3798a-3486-45ed-b2d3-fa1932453533",
   "metadata": {},
   "outputs": [
    {
     "data": {
      "image/png": "[encoded data removed]",
      "text/plain": [
       "<Figure size 600x300 with 1 Axes>"
      ]
     },
     "metadata": {},
     "output_type": "display_data"
    }
   ],
   "source": [
    "plt.figure(figsize=(6,3))\n",
    "plt.bar(orders_kg.index, orders_kg.values, color='plum')\n",
    "plt.xlabel('Givaudan Plant Region')\n",
    "plt.ylabel('Purchase Order Qty (kg)')\n",
    "plt.title('PO Qty by Givaudan Plant Region')\n",
    "plt.xticks(rotation=45, ha='right')  \n",
    "plt.tight_layout()\n",
    "plt.show()"
   ]
  },
  {
   "cell_type": "code",
   "execution_count": 100,
   "id": "ac767302-a727-4838-af4b-d0b5de354f20",
   "metadata": {},
   "outputs": [
    {
     "data": {
      "text/html": [
       "<div>\n",
       "<style scoped>\n",
       "    .dataframe tbody tr th:only-of-type {\n",
       "        vertical-align: middle;\n",
       "    }\n",
       "\n",
       "    .dataframe tbody tr th {\n",
       "        vertical-align: top;\n",
       "    }\n",
       "\n",
       "    .dataframe thead th {\n",
       "        text-align: right;\n",
       "    }\n",
       "</style>\n",
       "<table border=\"1\" class=\"dataframe\">\n",
       "  <thead>\n",
       "    <tr style=\"text-align: right;\">\n",
       "      <th></th>\n",
       "      <th>Givaudan Plant Region</th>\n",
       "      <th>Mode of Transport</th>\n",
       "      <th>Purchase Order Qty (kg)</th>\n",
       "    </tr>\n",
       "  </thead>\n",
       "  <tbody>\n",
       "    <tr>\n",
       "      <th>7</th>\n",
       "      <td>EMEA</td>\n",
       "      <td>Road</td>\n",
       "      <td>83490389</td>\n",
       "    </tr>\n",
       "    <tr>\n",
       "      <th>2</th>\n",
       "      <td>APAC</td>\n",
       "      <td>Road</td>\n",
       "      <td>53093665</td>\n",
       "    </tr>\n",
       "    <tr>\n",
       "      <th>13</th>\n",
       "      <td>LATAM</td>\n",
       "      <td>Road</td>\n",
       "      <td>34829910</td>\n",
       "    </tr>\n",
       "    <tr>\n",
       "      <th>8</th>\n",
       "      <td>EMEA</td>\n",
       "      <td>Sea</td>\n",
       "      <td>31010012</td>\n",
       "    </tr>\n",
       "    <tr>\n",
       "      <th>3</th>\n",
       "      <td>APAC</td>\n",
       "      <td>Sea</td>\n",
       "      <td>25395633</td>\n",
       "    </tr>\n",
       "    <tr>\n",
       "      <th>14</th>\n",
       "      <td>LATAM</td>\n",
       "      <td>Sea</td>\n",
       "      <td>23716680</td>\n",
       "    </tr>\n",
       "    <tr>\n",
       "      <th>19</th>\n",
       "      <td>NOAM</td>\n",
       "      <td>Sea</td>\n",
       "      <td>17103596</td>\n",
       "    </tr>\n",
       "    <tr>\n",
       "      <th>18</th>\n",
       "      <td>NOAM</td>\n",
       "      <td>Road</td>\n",
       "      <td>15409135</td>\n",
       "    </tr>\n",
       "    <tr>\n",
       "      <th>12</th>\n",
       "      <td>LATAM</td>\n",
       "      <td>Rail</td>\n",
       "      <td>2118200</td>\n",
       "    </tr>\n",
       "    <tr>\n",
       "      <th>4</th>\n",
       "      <td>EMEA</td>\n",
       "      <td>Air</td>\n",
       "      <td>562285</td>\n",
       "    </tr>\n",
       "    <tr>\n",
       "      <th>15</th>\n",
       "      <td>NOAM</td>\n",
       "      <td>Air</td>\n",
       "      <td>194381</td>\n",
       "    </tr>\n",
       "    <tr>\n",
       "      <th>0</th>\n",
       "      <td>APAC</td>\n",
       "      <td>Air</td>\n",
       "      <td>149631</td>\n",
       "    </tr>\n",
       "    <tr>\n",
       "      <th>9</th>\n",
       "      <td>LATAM</td>\n",
       "      <td>Air</td>\n",
       "      <td>139215</td>\n",
       "    </tr>\n",
       "    <tr>\n",
       "      <th>6</th>\n",
       "      <td>EMEA</td>\n",
       "      <td>Mail</td>\n",
       "      <td>73332</td>\n",
       "    </tr>\n",
       "    <tr>\n",
       "      <th>16</th>\n",
       "      <td>NOAM</td>\n",
       "      <td>Domestic shipping</td>\n",
       "      <td>2700</td>\n",
       "    </tr>\n",
       "    <tr>\n",
       "      <th>10</th>\n",
       "      <td>LATAM</td>\n",
       "      <td>Domestic shipping</td>\n",
       "      <td>1400</td>\n",
       "    </tr>\n",
       "    <tr>\n",
       "      <th>1</th>\n",
       "      <td>APAC</td>\n",
       "      <td>Mail</td>\n",
       "      <td>1120</td>\n",
       "    </tr>\n",
       "    <tr>\n",
       "      <th>5</th>\n",
       "      <td>EMEA</td>\n",
       "      <td>Domestic shipping</td>\n",
       "      <td>650</td>\n",
       "    </tr>\n",
       "    <tr>\n",
       "      <th>17</th>\n",
       "      <td>NOAM</td>\n",
       "      <td>Mail</td>\n",
       "      <td>367</td>\n",
       "    </tr>\n",
       "    <tr>\n",
       "      <th>11</th>\n",
       "      <td>LATAM</td>\n",
       "      <td>Mail</td>\n",
       "      <td>257</td>\n",
       "    </tr>\n",
       "  </tbody>\n",
       "</table>\n",
       "</div>"
      ],
      "text/plain": [
       "   Givaudan Plant Region  Mode of Transport  Purchase Order Qty (kg)\n",
       "7                   EMEA               Road                 83490389\n",
       "2                   APAC               Road                 53093665\n",
       "13                 LATAM               Road                 34829910\n",
       "8                   EMEA                Sea                 31010012\n",
       "3                   APAC                Sea                 25395633\n",
       "14                 LATAM                Sea                 23716680\n",
       "19                  NOAM                Sea                 17103596\n",
       "18                  NOAM               Road                 15409135\n",
       "12                 LATAM               Rail                  2118200\n",
       "4                   EMEA                Air                   562285\n",
       "15                  NOAM                Air                   194381\n",
       "0                   APAC                Air                   149631\n",
       "9                  LATAM                Air                   139215\n",
       "6                   EMEA               Mail                    73332\n",
       "16                  NOAM  Domestic shipping                     2700\n",
       "10                 LATAM  Domestic shipping                     1400\n",
       "1                   APAC               Mail                     1120\n",
       "5                   EMEA  Domestic shipping                      650\n",
       "17                  NOAM               Mail                      367\n",
       "11                 LATAM               Mail                      257"
      ]
     },
     "execution_count": 100,
     "metadata": {},
     "output_type": "execute_result"
    }
   ],
   "source": [
    "orders_kg2 = df2.groupby(['Givaudan Plant Region','Mode of Transport'])['Purchase Order Qty (kg)'].sum().reset_index().sort_values(by='Purchase Order Qty (kg)',ascending=False)\n",
    "orders_kg2"
   ]
  },
  {
   "cell_type": "code",
   "execution_count": 101,
   "id": "ded7a47a-51ab-432b-85c2-0685a45d1144",
   "metadata": {},
   "outputs": [
    {
     "data": {
      "image/png": "[encoded data removed]",
      "text/plain": [
       "<Figure size 800x500 with 1 Axes>"
      ]
     },
     "metadata": {},
     "output_type": "display_data"
    }
   ],
   "source": [
    "plt.figure(figsize=(8,5))\n",
    "sns.barplot(data=orders_kg2, x='Givaudan Plant Region', y='Purchase Order Qty (kg)', hue='Mode of Transport', palette='dark')\n",
    "plt.xlabel('Givaudan Plant Region')\n",
    "plt.ylabel('PO Qty')\n",
    "plt.title('PO Qty (kg) by Givaudan Plant Region')\n",
    "plt.xticks(rotation=45, ha='right')  \n",
    "plt.tight_layout()\n",
    "plt.show()"
   ]
  },
  {
   "cell_type": "code",
   "execution_count": null,
   "id": "d50d94b2-e1d9-44d8-8f62-426f9831f549",
   "metadata": {},
   "outputs": [],
   "source": []
  },
  {
   "cell_type": "code",
   "execution_count": 102,
   "id": "916b7f2d-d421-46b9-8a4b-176b4ae7ab31",
   "metadata": {},
   "outputs": [
    {
     "data": {
      "text/plain": [
       "0.40076453468702117"
      ]
     },
     "execution_count": 102,
     "metadata": {},
     "output_type": "execute_result"
    }
   ],
   "source": [
    "115136669/df2['Purchase Order Qty (kg)'].sum()"
   ]
  },
  {
   "cell_type": "code",
   "execution_count": 103,
   "id": "0b9dec65-ae64-48d5-a15e-4266e8625c99",
   "metadata": {},
   "outputs": [
    {
     "data": {
      "text/plain": [
       "Givaudan Plant Region\n",
       "EMEA     26359\n",
       "APAC     15308\n",
       "NOAM      9052\n",
       "LATAM     8765\n",
       "Name: count, dtype: int64"
      ]
     },
     "execution_count": 103,
     "metadata": {},
     "output_type": "execute_result"
    }
   ],
   "source": [
    "region_counts = df2['Givaudan Plant Region'].value_counts()\n",
    "region_counts"
   ]
  },
  {
   "cell_type": "code",
   "execution_count": 104,
   "id": "3dc2454f-d89c-4a94-aab9-3d6f9e85093a",
   "metadata": {},
   "outputs": [
    {
     "data": {
      "image/png": "[encoded data removed]",
      "text/plain": [
       "<Figure size 600x300 with 1 Axes>"
      ]
     },
     "metadata": {},
     "output_type": "display_data"
    }
   ],
   "source": [
    "plt.figure(figsize=(6,3))\n",
    "plt.bar(region_counts.index, region_counts.values, color='goldenrod')\n",
    "plt.xlabel('Givaudan Plant Region')\n",
    "plt.ylabel('Count')\n",
    "plt.title('Count of Givaudan Plant Regions')\n",
    "plt.xticks(rotation=45, ha='right')  \n",
    "plt.tight_layout()"
   ]
  },
  {
   "cell_type": "code",
   "execution_count": 105,
   "id": "1b5801a0-8843-4a27-a1a4-66b7c059f5cc",
   "metadata": {},
   "outputs": [],
   "source": [
    "region_transport_counts = df2.groupby(['Givaudan Plant Region', 'Mode of Transport']).size().reset_index(name='Count')"
   ]
  },
  {
   "cell_type": "code",
   "execution_count": 106,
   "id": "6f34e518-9ab7-493e-8961-69eae0685d52",
   "metadata": {},
   "outputs": [
    {
     "data": {
      "image/png": "[encoded data removed]",
      "text/plain": [
       "<Figure size 800x400 with 1 Axes>"
      ]
     },
     "metadata": {},
     "output_type": "display_data"
    }
   ],
   "source": [
    "plt.figure(figsize=(8, 4))\n",
    "sns.barplot(data=region_transport_counts, x='Givaudan Plant Region', y='Count', hue='Mode of Transport', palette='deep')\n",
    "plt.xlabel('Givaudan Plant Region')\n",
    "plt.ylabel('Count')\n",
    "plt.title('Count of Givaudan Plant Regions by Mode of Transport')\n",
    "plt.xticks(rotation=45, ha='right')  \n",
    "plt.tight_layout()\n",
    "plt.show()"
   ]
  },
  {
   "cell_type": "code",
   "execution_count": null,
   "id": "e0b65088-9953-49e6-b123-490b996d03f8",
   "metadata": {},
   "outputs": [],
   "source": []
  },
  {
   "cell_type": "markdown",
   "id": "d9269893-7c6c-485d-945d-26ce171f8866",
   "metadata": {},
   "source": [
    "##### Organized By Givaudan"
   ]
  },
  {
   "cell_type": "code",
   "execution_count": 107,
   "id": "c4aadcec-b8e2-4820-bb18-fef13162265e",
   "metadata": {},
   "outputs": [
    {
     "data": {
      "text/plain": [
       "Organized By Givaudan\n",
       "No     36643\n",
       "Yes    22841\n",
       "Name: count, dtype: int64"
      ]
     },
     "execution_count": 107,
     "metadata": {},
     "output_type": "execute_result"
    }
   ],
   "source": [
    "category_counts = df2['Organized By Givaudan'].value_counts()\n",
    "category_counts "
   ]
  },
  {
   "cell_type": "code",
   "execution_count": 108,
   "id": "6b278952-d9a4-47af-8a76-564a08b1787e",
   "metadata": {},
   "outputs": [
    {
     "data": {
      "image/png": "[encoded data removed]",
      "text/plain": [
       "<Figure size 400x400 with 1 Axes>"
      ]
     },
     "metadata": {},
     "output_type": "display_data"
    }
   ],
   "source": [
    "plt.figure(figsize=(4,4))\n",
    "plt.pie(category_counts, labels=category_counts.index, autopct='%1.1f%%', colors=['skyblue', 'lightcoral'], startangle=140)\n",
    "plt.title('Distribution of Organized By Givaudan')\n",
    "plt.show()"
   ]
  },
  {
   "cell_type": "code",
   "execution_count": 109,
   "id": "60498e1b-1b19-4c24-b61b-4dd584f65740",
   "metadata": {},
   "outputs": [
    {
     "data": {
      "text/plain": [
       "0.38398560957568423"
      ]
     },
     "execution_count": 109,
     "metadata": {},
     "output_type": "execute_result"
    }
   ],
   "source": [
    "22841/len(df2)"
   ]
  },
  {
   "cell_type": "code",
   "execution_count": 110,
   "id": "74e72017-ad6a-4800-845c-4c30f8696c93",
   "metadata": {},
   "outputs": [
    {
     "data": {
      "text/plain": [
       "Organized By Givaudan\n",
       "No     339970\n",
       "Yes     63484\n",
       "Name: Purchase Order Late (days), dtype: int64"
      ]
     },
     "execution_count": 110,
     "metadata": {},
     "output_type": "execute_result"
    }
   ],
   "source": [
    "organized_kg = df2.groupby('Organized By Givaudan')['Purchase Order Late (days)'].sum()\n",
    "organized_kg "
   ]
  },
  {
   "cell_type": "code",
   "execution_count": 111,
   "id": "dba7027e-7535-4cc9-89d2-f0af7e5a7cf0",
   "metadata": {},
   "outputs": [
    {
     "data": {
      "image/png": "[encoded data removed]",
      "text/plain": [
       "<Figure size 600x400 with 1 Axes>"
      ]
     },
     "metadata": {},
     "output_type": "display_data"
    }
   ],
   "source": [
    "plt.figure(figsize=(6,4))\n",
    "sns.boxplot(data=df2, x='Organized By Givaudan', y='Purchase Order Late (days)', palette='Set2')\n",
    "plt.xlabel('Organized By Givaudan')\n",
    "plt.ylabel('Purchase Order Late (days)')\n",
    "plt.title('Distribution of Purchase Order Late (days) by Organized By Givaudan')\n",
    "plt.tight_layout()\n",
    "plt.show()"
   ]
  },
  {
   "cell_type": "markdown",
   "id": "543b2181-1cfd-41cf-973e-1d7edc149d6b",
   "metadata": {},
   "source": [
    "*Comment: There are total 63 484 late days for those orders which where organized by Givaudan for the 59 484 orders.*"
   ]
  },
  {
   "cell_type": "markdown",
   "id": "ef95ae6f-363b-4994-b8e0-d3f891d147b2",
   "metadata": {},
   "source": [
    "##### Mode of Transport"
   ]
  },
  {
   "cell_type": "code",
   "execution_count": 112,
   "id": "c368a75f-c10b-4325-a470-983fb7f647e0",
   "metadata": {},
   "outputs": [
    {
     "data": {
      "text/plain": [
       "Mode of Transport\n",
       "Road                 30111\n",
       "Sea                  22124\n",
       "Air                   6095\n",
       "Mail                  1024\n",
       "Rail                   126\n",
       "Domestic shipping        4\n",
       "Name: count, dtype: int64"
      ]
     },
     "execution_count": 112,
     "metadata": {},
     "output_type": "execute_result"
    }
   ],
   "source": [
    "df2['Mode of Transport'].value_counts()"
   ]
  },
  {
   "cell_type": "code",
   "execution_count": 113,
   "id": "66c34278-ba30-4125-8dbe-78483fc1f784",
   "metadata": {},
   "outputs": [
    {
     "data": {
      "text/html": [
       "<div>\n",
       "<style scoped>\n",
       "    .dataframe tbody tr th:only-of-type {\n",
       "        vertical-align: middle;\n",
       "    }\n",
       "\n",
       "    .dataframe tbody tr th {\n",
       "        vertical-align: top;\n",
       "    }\n",
       "\n",
       "    .dataframe thead th {\n",
       "        text-align: right;\n",
       "    }\n",
       "</style>\n",
       "<table border=\"1\" class=\"dataframe\">\n",
       "  <thead>\n",
       "    <tr style=\"text-align: right;\">\n",
       "      <th></th>\n",
       "      <th>Purchase Order Qty (kg)</th>\n",
       "      <th>Purchase Order Count</th>\n",
       "    </tr>\n",
       "    <tr>\n",
       "      <th>Mode of Transport</th>\n",
       "      <th></th>\n",
       "      <th></th>\n",
       "    </tr>\n",
       "  </thead>\n",
       "  <tbody>\n",
       "    <tr>\n",
       "      <th>Road</th>\n",
       "      <td>186823099</td>\n",
       "      <td>30111</td>\n",
       "    </tr>\n",
       "    <tr>\n",
       "      <th>Sea</th>\n",
       "      <td>97225921</td>\n",
       "      <td>22124</td>\n",
       "    </tr>\n",
       "    <tr>\n",
       "      <th>Air</th>\n",
       "      <td>1045513</td>\n",
       "      <td>6095</td>\n",
       "    </tr>\n",
       "    <tr>\n",
       "      <th>Mail</th>\n",
       "      <td>75077</td>\n",
       "      <td>1024</td>\n",
       "    </tr>\n",
       "    <tr>\n",
       "      <th>Rail</th>\n",
       "      <td>2118200</td>\n",
       "      <td>126</td>\n",
       "    </tr>\n",
       "    <tr>\n",
       "      <th>Domestic shipping</th>\n",
       "      <td>4750</td>\n",
       "      <td>4</td>\n",
       "    </tr>\n",
       "  </tbody>\n",
       "</table>\n",
       "</div>"
      ],
      "text/plain": [
       "                   Purchase Order Qty (kg)  Purchase Order Count\n",
       "Mode of Transport                                               \n",
       "Road                             186823099                 30111\n",
       "Sea                               97225921                 22124\n",
       "Air                                1045513                  6095\n",
       "Mail                                 75077                  1024\n",
       "Rail                               2118200                   126\n",
       "Domestic shipping                     4750                     4"
      ]
     },
     "execution_count": 113,
     "metadata": {},
     "output_type": "execute_result"
    }
   ],
   "source": [
    "result = df2.groupby('Mode of Transport').agg({\n",
    "    'Purchase Order Qty (kg)': 'sum',\n",
    "    'Purchase Order #': 'count'\n",
    "}).rename(columns={'Purchase Order #': 'Purchase Order Count'})\n",
    "\n",
    "result = result.sort_values(by='Purchase Order Count', ascending=False)\n",
    "result"
   ]
  },
  {
   "cell_type": "code",
   "execution_count": 114,
   "id": "a1de1d48-e875-4fcc-b5d9-6e169987ca52",
   "metadata": {},
   "outputs": [
    {
     "data": {
      "image/png": "[encoded data removed]",
      "text/plain": [
       "<Figure size 700x700 with 2 Axes>"
      ]
     },
     "metadata": {},
     "output_type": "display_data"
    }
   ],
   "source": [
    "fig, axs = plt.subplots(2, 1, figsize=(7,7), sharex=True)\n",
    "\n",
    "axs[0].bar(result.index, result['Purchase Order Qty (kg)'], color='palegreen')\n",
    "axs[0].set_ylabel('Total Purchase Order Qty (kg)')\n",
    "axs[0].set_title('Total Purchase Order Quantity by Mode of Transport')\n",
    "axs[0].tick_params(axis='x', rotation=45)\n",
    "\n",
    "axs[1].bar(result.index, result['Purchase Order Count'], color='peru')\n",
    "axs[1].set_xlabel('Mode of Transport')\n",
    "axs[1].set_ylabel('Purchase Order Count')\n",
    "axs[1].set_title('Purchase Order Count by Mode of Transport')\n",
    "axs[1].tick_params(axis='x', rotation=45)\n",
    "\n",
    "plt.tight_layout()\n",
    "plt.show()"
   ]
  },
  {
   "cell_type": "code",
   "execution_count": null,
   "id": "a4f47ba8-d989-4256-bcde-50248ec1b087",
   "metadata": {},
   "outputs": [],
   "source": []
  },
  {
   "cell_type": "markdown",
   "id": "5de758d6-137b-436b-8f08-00b83108e392",
   "metadata": {},
   "source": [
    "##### Violation by Givaudan"
   ]
  },
  {
   "cell_type": "code",
   "execution_count": 115,
   "id": "a1fa59ca-1391-45b4-aa3e-451e05e83330",
   "metadata": {},
   "outputs": [
    {
     "data": {
      "text/plain": [
       "Violation by Givaudan\n",
       "No     44446\n",
       "Yes    15038\n",
       "Name: count, dtype: int64"
      ]
     },
     "execution_count": 115,
     "metadata": {},
     "output_type": "execute_result"
    }
   ],
   "source": [
    "violated = df2['Violation by Givaudan'].value_counts()\n",
    "violated"
   ]
  },
  {
   "cell_type": "code",
   "execution_count": 116,
   "id": "6b2a2c9f-0154-4d7b-ba9d-eef6a303fc02",
   "metadata": {},
   "outputs": [
    {
     "data": {
      "image/png": "[encoded data removed]",
      "text/plain": [
       "<Figure size 400x400 with 1 Axes>"
      ]
     },
     "metadata": {},
     "output_type": "display_data"
    }
   ],
   "source": [
    "plt.figure(figsize=(4,4))\n",
    "plt.pie(violated, labels=violated.index, autopct='%1.1f%%', colors=['slategrey', 'yellowgreen'], startangle=140)\n",
    "plt.title('Violated By Givaudan')\n",
    "plt.show()"
   ]
  },
  {
   "cell_type": "code",
   "execution_count": 117,
   "id": "04ea4bf5-97b8-4a58-a725-f068897630eb",
   "metadata": {},
   "outputs": [
    {
     "data": {
      "text/plain": [
       "0.25280747764104633"
      ]
     },
     "execution_count": 117,
     "metadata": {},
     "output_type": "execute_result"
    }
   ],
   "source": [
    "15038/len(df2)"
   ]
  },
  {
   "cell_type": "markdown",
   "id": "4c124998-c366-4511-9e35-c4b2bb88e904",
   "metadata": {},
   "source": [
    "*Comment: 25% of the contracts are violated by Givaudan.*"
   ]
  },
  {
   "cell_type": "markdown",
   "id": "98b74bdd-3e05-4da7-910a-c46df18a379e",
   "metadata": {},
   "source": [
    "##### Late Purchase Order Reason Code"
   ]
  },
  {
   "cell_type": "code",
   "execution_count": 118,
   "id": "deb9736e-d88f-4b16-b308-a539cf6c0616",
   "metadata": {},
   "outputs": [
    {
     "data": {
      "text/html": [
       "<div>\n",
       "<style scoped>\n",
       "    .dataframe tbody tr th:only-of-type {\n",
       "        vertical-align: middle;\n",
       "    }\n",
       "\n",
       "    .dataframe tbody tr th {\n",
       "        vertical-align: top;\n",
       "    }\n",
       "\n",
       "    .dataframe thead th {\n",
       "        text-align: right;\n",
       "    }\n",
       "</style>\n",
       "<table border=\"1\" class=\"dataframe\">\n",
       "  <thead>\n",
       "    <tr style=\"text-align: right;\">\n",
       "      <th></th>\n",
       "      <th>Late Purchase Order Reason Code</th>\n",
       "      <th>Count</th>\n",
       "    </tr>\n",
       "  </thead>\n",
       "  <tbody>\n",
       "    <tr>\n",
       "      <th>8</th>\n",
       "      <td>Not assigned yet</td>\n",
       "      <td>24433</td>\n",
       "    </tr>\n",
       "    <tr>\n",
       "      <th>13</th>\n",
       "      <td>VENDOR ISSUES UNTIL INCOTERMS FULFILLMENT</td>\n",
       "      <td>9841</td>\n",
       "    </tr>\n",
       "    <tr>\n",
       "      <th>7</th>\n",
       "      <td>Not assigned</td>\n",
       "      <td>6040</td>\n",
       "    </tr>\n",
       "    <tr>\n",
       "      <th>11</th>\n",
       "      <td>TRANSPORTATION ISSUE / DELAY</td>\n",
       "      <td>5603</td>\n",
       "    </tr>\n",
       "    <tr>\n",
       "      <th>3</th>\n",
       "      <td>DELAY REQUESTED BY GIVAUDAN</td>\n",
       "      <td>4597</td>\n",
       "    </tr>\n",
       "    <tr>\n",
       "      <th>5</th>\n",
       "      <td>FORCES MAJEURES</td>\n",
       "      <td>3309</td>\n",
       "    </tr>\n",
       "    <tr>\n",
       "      <th>6</th>\n",
       "      <td>INTERNAL DATA ERROR</td>\n",
       "      <td>1579</td>\n",
       "    </tr>\n",
       "    <tr>\n",
       "      <th>12</th>\n",
       "      <td>VENDOR ISSUES UNTIL INCOTERMS FULFILLMEN</td>\n",
       "      <td>1257</td>\n",
       "    </tr>\n",
       "    <tr>\n",
       "      <th>9</th>\n",
       "      <td>PEAK IN DEMAND / FORECAST ISSUE</td>\n",
       "      <td>717</td>\n",
       "    </tr>\n",
       "    <tr>\n",
       "      <th>1</th>\n",
       "      <td>CUSTOMS DELAY</td>\n",
       "      <td>671</td>\n",
       "    </tr>\n",
       "    <tr>\n",
       "      <th>14</th>\n",
       "      <td>VENDOR MANAGED INVENTORY / DEL TO TOLLER</td>\n",
       "      <td>580</td>\n",
       "    </tr>\n",
       "    <tr>\n",
       "      <th>4</th>\n",
       "      <td>FIXED DATE</td>\n",
       "      <td>324</td>\n",
       "    </tr>\n",
       "    <tr>\n",
       "      <th>2</th>\n",
       "      <td>DELAY DUE TO QUALITY / PSS APPROVAL</td>\n",
       "      <td>267</td>\n",
       "    </tr>\n",
       "    <tr>\n",
       "      <th>10</th>\n",
       "      <td>TRANSPORT INTERNAL</td>\n",
       "      <td>262</td>\n",
       "    </tr>\n",
       "    <tr>\n",
       "      <th>0</th>\n",
       "      <td>AFFILIATE ISSUE UNTIL INCOTERM FULLFILLMENT</td>\n",
       "      <td>4</td>\n",
       "    </tr>\n",
       "  </tbody>\n",
       "</table>\n",
       "</div>"
      ],
      "text/plain": [
       "                Late Purchase Order Reason Code  Count\n",
       "8                              Not assigned yet  24433\n",
       "13    VENDOR ISSUES UNTIL INCOTERMS FULFILLMENT   9841\n",
       "7                                  Not assigned   6040\n",
       "11                 TRANSPORTATION ISSUE / DELAY   5603\n",
       "3                   DELAY REQUESTED BY GIVAUDAN   4597\n",
       "5                               FORCES MAJEURES   3309\n",
       "6                           INTERNAL DATA ERROR   1579\n",
       "12     VENDOR ISSUES UNTIL INCOTERMS FULFILLMEN   1257\n",
       "9               PEAK IN DEMAND / FORECAST ISSUE    717\n",
       "1                                 CUSTOMS DELAY    671\n",
       "14     VENDOR MANAGED INVENTORY / DEL TO TOLLER    580\n",
       "4                                    FIXED DATE    324\n",
       "2           DELAY DUE TO QUALITY / PSS APPROVAL    267\n",
       "10                           TRANSPORT INTERNAL    262\n",
       "0   AFFILIATE ISSUE UNTIL INCOTERM FULLFILLMENT      4"
      ]
     },
     "execution_count": 118,
     "metadata": {},
     "output_type": "execute_result"
    }
   ],
   "source": [
    "df2.groupby('Late Purchase Order Reason Code')['Purchase Order #'].count().reset_index(name='Count').sort_values(by='Count', ascending=False)"
   ]
  },
  {
   "cell_type": "markdown",
   "id": "660f68b1-d72c-43bd-99d6-e2c38c05ae5d",
   "metadata": {},
   "source": [
    "*Comment: VENDOR ISSUES UNTIL INCOTERMS FULFILLMENT - is the majority of the reason for delay PO coding.*"
   ]
  },
  {
   "cell_type": "code",
   "execution_count": 119,
   "id": "4ef12f63-91ff-45cf-ab51-383081724738",
   "metadata": {},
   "outputs": [
    {
     "data": {
      "text/plain": [
       "0.41074910900410194"
      ]
     },
     "execution_count": 119,
     "metadata": {},
     "output_type": "execute_result"
    }
   ],
   "source": [
    "24433/len(df2)"
   ]
  },
  {
   "cell_type": "code",
   "execution_count": 120,
   "id": "882af44c-7ff3-42d8-8055-d307a3c92624",
   "metadata": {},
   "outputs": [
    {
     "data": {
      "text/plain": [
       "0.5122890188958376"
      ]
     },
     "execution_count": 120,
     "metadata": {},
     "output_type": "execute_result"
    }
   ],
   "source": [
    "(24433+6040)/len(df2)"
   ]
  },
  {
   "cell_type": "markdown",
   "id": "de446bd1-9898-415d-8780-4f9590758154",
   "metadata": {},
   "source": [
    "*Comment: 41% is not assigned yet. Total 51% is not assigned.*"
   ]
  },
  {
   "cell_type": "markdown",
   "id": "cd39a837-b45b-423d-9b1a-c8047a3667d1",
   "metadata": {},
   "source": [
    "##### Service Levels"
   ]
  },
  {
   "cell_type": "code",
   "execution_count": 121,
   "id": "aab33d0f-1d1c-4188-995a-8aa8eadf1354",
   "metadata": {},
   "outputs": [
    {
     "data": {
      "text/plain": [
       "2"
      ]
     },
     "execution_count": 121,
     "metadata": {},
     "output_type": "execute_result"
    }
   ],
   "source": [
    "df2['Service Level'].nunique()"
   ]
  },
  {
   "cell_type": "code",
   "execution_count": 122,
   "id": "a4019a72-cbc3-4680-9145-8850dbc95010",
   "metadata": {},
   "outputs": [
    {
     "data": {
      "text/plain": [
       "2"
      ]
     },
     "execution_count": 122,
     "metadata": {},
     "output_type": "execute_result"
    }
   ],
   "source": [
    "df2['Service Level (Score Corrected)'].nunique()"
   ]
  },
  {
   "cell_type": "code",
   "execution_count": 123,
   "id": "9908b784-2072-43bc-b447-1aaa3fe95148",
   "metadata": {},
   "outputs": [
    {
     "data": {
      "text/plain": [
       "Service Level (Score Corrected)\n",
       "100    49234\n",
       "0      10250\n",
       "Name: count, dtype: int64"
      ]
     },
     "execution_count": 123,
     "metadata": {},
     "output_type": "execute_result"
    }
   ],
   "source": [
    "df2['Service Level (Score Corrected)'].value_counts()"
   ]
  },
  {
   "cell_type": "code",
   "execution_count": 124,
   "id": "88cdfb38-cd94-4a07-b2c6-2fe8b385aaa7",
   "metadata": {},
   "outputs": [
    {
     "data": {
      "text/plain": [
       "0.17231524443547844"
      ]
     },
     "execution_count": 124,
     "metadata": {},
     "output_type": "execute_result"
    }
   ],
   "source": [
    "10250/len(df2)"
   ]
  },
  {
   "cell_type": "markdown",
   "id": "7e7ab6da-79a8-4a66-860f-a2afa70ffa16",
   "metadata": {},
   "source": [
    "*Comment: 17% failed to arrive on time to Givaudan Plant.*"
   ]
  },
  {
   "cell_type": "markdown",
   "id": "0e0f05dc-4289-4d35-84ff-e96dd57e0919",
   "metadata": {},
   "source": [
    "##### Late/Early Receipt"
   ]
  },
  {
   "cell_type": "markdown",
   "id": "acdf370d-28af-46e7-a3a4-acdcb4f4fd55",
   "metadata": {},
   "source": [
    "PO-s received by Givaudan"
   ]
  },
  {
   "cell_type": "code",
   "execution_count": 125,
   "id": "79c2450b-90f0-4d18-8bbe-da77f23ae722",
   "metadata": {},
   "outputs": [
    {
     "data": {
      "text/plain": [
       "Late/Early Receipt\n",
       "Late       29902\n",
       "Early      20886\n",
       "On Time     8696\n",
       "Name: count, dtype: int64"
      ]
     },
     "execution_count": 125,
     "metadata": {},
     "output_type": "execute_result"
    }
   ],
   "source": [
    "df2['Late/Early Receipt'].value_counts()"
   ]
  },
  {
   "cell_type": "markdown",
   "id": "d5875918-c5d5-4cdd-a1a5-18d5c76bf0f6",
   "metadata": {},
   "source": [
    "*Comment: Definately improvement is needed, since more than 50% of the orders arrived later than requested.*"
   ]
  },
  {
   "cell_type": "markdown",
   "id": "f61c5a8f-4a53-4d69-a90d-012fef2bffba",
   "metadata": {},
   "source": [
    "##### Early Release"
   ]
  },
  {
   "cell_type": "markdown",
   "id": "01b46bd5-517c-4791-adc2-cf66be62b5ed",
   "metadata": {},
   "source": [
    "PO-s sent by Givaudan"
   ]
  },
  {
   "cell_type": "code",
   "execution_count": 126,
   "id": "2b7edcce-800f-444c-bdd4-cf65fa69eea5",
   "metadata": {},
   "outputs": [
    {
     "data": {
      "text/html": [
       "<div>\n",
       "<style scoped>\n",
       "    .dataframe tbody tr th:only-of-type {\n",
       "        vertical-align: middle;\n",
       "    }\n",
       "\n",
       "    .dataframe tbody tr th {\n",
       "        vertical-align: top;\n",
       "    }\n",
       "\n",
       "    .dataframe thead th {\n",
       "        text-align: right;\n",
       "    }\n",
       "</style>\n",
       "<table border=\"1\" class=\"dataframe\">\n",
       "  <thead>\n",
       "    <tr style=\"text-align: right;\">\n",
       "      <th></th>\n",
       "      <th>Early Release buckets</th>\n",
       "      <th>Count</th>\n",
       "    </tr>\n",
       "  </thead>\n",
       "  <tbody>\n",
       "    <tr>\n",
       "      <th>0</th>\n",
       "      <td>1-5 early</td>\n",
       "      <td>11435</td>\n",
       "    </tr>\n",
       "    <tr>\n",
       "      <th>8</th>\n",
       "      <td>&gt;20 early</td>\n",
       "      <td>10323</td>\n",
       "    </tr>\n",
       "    <tr>\n",
       "      <th>6</th>\n",
       "      <td>6-10 early</td>\n",
       "      <td>6980</td>\n",
       "    </tr>\n",
       "    <tr>\n",
       "      <th>9</th>\n",
       "      <td>&gt;20 late</td>\n",
       "      <td>6822</td>\n",
       "    </tr>\n",
       "    <tr>\n",
       "      <th>1</th>\n",
       "      <td>1-5 late</td>\n",
       "      <td>5633</td>\n",
       "    </tr>\n",
       "    <tr>\n",
       "      <th>10</th>\n",
       "      <td>On Time</td>\n",
       "      <td>5586</td>\n",
       "    </tr>\n",
       "    <tr>\n",
       "      <th>2</th>\n",
       "      <td>11-15 early</td>\n",
       "      <td>3582</td>\n",
       "    </tr>\n",
       "    <tr>\n",
       "      <th>7</th>\n",
       "      <td>6-10 late</td>\n",
       "      <td>3023</td>\n",
       "    </tr>\n",
       "    <tr>\n",
       "      <th>4</th>\n",
       "      <td>16-20 early</td>\n",
       "      <td>2596</td>\n",
       "    </tr>\n",
       "    <tr>\n",
       "      <th>3</th>\n",
       "      <td>11-15 late</td>\n",
       "      <td>2111</td>\n",
       "    </tr>\n",
       "    <tr>\n",
       "      <th>5</th>\n",
       "      <td>16-20 late</td>\n",
       "      <td>1393</td>\n",
       "    </tr>\n",
       "  </tbody>\n",
       "</table>\n",
       "</div>"
      ],
      "text/plain": [
       "   Early Release buckets  Count\n",
       "0              1-5 early  11435\n",
       "8              >20 early  10323\n",
       "6             6-10 early   6980\n",
       "9               >20 late   6822\n",
       "1               1-5 late   5633\n",
       "10               On Time   5586\n",
       "2            11-15 early   3582\n",
       "7              6-10 late   3023\n",
       "4            16-20 early   2596\n",
       "3             11-15 late   2111\n",
       "5             16-20 late   1393"
      ]
     },
     "execution_count": 126,
     "metadata": {},
     "output_type": "execute_result"
    }
   ],
   "source": [
    "buckets = df2.groupby('Early Release buckets')['Purchase Order #'].count().reset_index(name='Count').sort_values(by='Count', ascending=False)\n",
    "buckets"
   ]
  },
  {
   "cell_type": "code",
   "execution_count": 127,
   "id": "821d2f8f-5760-40d1-a595-4a524ec33e52",
   "metadata": {},
   "outputs": [
    {
     "data": {
      "image/png": "[encoded data removed]",
      "text/plain": [
       "<Figure size 800x500 with 1 Axes>"
      ]
     },
     "metadata": {},
     "output_type": "display_data"
    }
   ],
   "source": [
    "plt.figure(figsize=(8,5))\n",
    "sns.barplot(data=buckets, y='Early Release buckets', x='Count', palette='magma')\n",
    "plt.xlabel('Count')\n",
    "plt.ylabel('Early Release Buckets')\n",
    "plt.title('Count of Purchase Orders by Early Release Buckets')\n",
    "plt.tight_layout()\n",
    "plt.show()"
   ]
  },
  {
   "cell_type": "markdown",
   "id": "df4bdce3-e638-408f-b31f-a51d10672a0e",
   "metadata": {},
   "source": [
    "*Comment: Majority of the orders are from the early bucket - which is good and means the Givaudan sent the order earlier than what is in the Vendor Agreement, however there is a room for improvement for the late items, especially for the >20 late ones.*"
   ]
  },
  {
   "cell_type": "code",
   "execution_count": 128,
   "id": "0b985d2d-fa46-4d17-a5e9-41a33a26e3a5",
   "metadata": {},
   "outputs": [
    {
     "data": {
      "text/plain": [
       "0.42297088292650126"
      ]
     },
     "execution_count": 128,
     "metadata": {},
     "output_type": "execute_result"
    }
   ],
   "source": [
    "(len(df2) - (11435 + 10323 + 6980 + 5586))/len(df2)"
   ]
  },
  {
   "cell_type": "markdown",
   "id": "73d5fad9-486e-4d30-87ab-1b0050580b09",
   "metadata": {},
   "source": [
    "*Comment: 42% of the Givaudan PO release to be checked.*"
   ]
  },
  {
   "cell_type": "code",
   "execution_count": 129,
   "id": "adb2c6d3-539b-401f-b27d-a3cdc60d09b4",
   "metadata": {},
   "outputs": [],
   "source": [
    "new_order = [ 'Purchase Order #','Purchase Order Receipt Month',\n",
    "       'Givaudan Plant Region', 'Givaudan Plant Country', 'Vendor Code',\n",
    "       'Vendor Country', 'Organized By Givaudan', 'Mode of Transport',\n",
    "       'Violation by Givaudan', 'Late Purchase Order Reason Code',\n",
    "       'Service Level', 'Service Level (Score Corrected)',\n",
    "       'Purchase Order Qty (kg)', 'Actual Lead Time', 'Lead Time in Givaudan System',\n",
    "        'Requested Lead Time by Givaudan', 'Purchase Order Late (days)',\n",
    "       'Late/Early Receipt','Purchase Order Release','Early Release buckets',\n",
    "       'Nr of Local Vendors', '% of Vendor from Total Qty', 'Top Vendor'\n",
    "]"
   ]
  },
  {
   "cell_type": "code",
   "execution_count": 130,
   "id": "650e5a24-746f-4f13-9ab7-a62a5e33e7ab",
   "metadata": {},
   "outputs": [],
   "source": [
    "df2 = df2[new_order]"
   ]
  },
  {
   "cell_type": "code",
   "execution_count": 131,
   "id": "19aa41af-3f77-4472-9ee3-7e5eff157b60",
   "metadata": {},
   "outputs": [
    {
     "data": {
      "text/html": [
       "<div>\n",
       "<style scoped>\n",
       "    .dataframe tbody tr th:only-of-type {\n",
       "        vertical-align: middle;\n",
       "    }\n",
       "\n",
       "    .dataframe tbody tr th {\n",
       "        vertical-align: top;\n",
       "    }\n",
       "\n",
       "    .dataframe thead th {\n",
       "        text-align: right;\n",
       "    }\n",
       "</style>\n",
       "<table border=\"1\" class=\"dataframe\">\n",
       "  <thead>\n",
       "    <tr style=\"text-align: right;\">\n",
       "      <th></th>\n",
       "      <th>Purchase Order #</th>\n",
       "      <th>Purchase Order Receipt Month</th>\n",
       "      <th>Givaudan Plant Region</th>\n",
       "      <th>Givaudan Plant Country</th>\n",
       "      <th>Vendor Code</th>\n",
       "      <th>Vendor Country</th>\n",
       "      <th>Organized By Givaudan</th>\n",
       "      <th>Mode of Transport</th>\n",
       "      <th>Violation by Givaudan</th>\n",
       "      <th>Late Purchase Order Reason Code</th>\n",
       "      <th>Service Level</th>\n",
       "      <th>Service Level (Score Corrected)</th>\n",
       "      <th>Purchase Order Qty (kg)</th>\n",
       "      <th>Actual Lead Time</th>\n",
       "      <th>Lead Time in Givaudan System</th>\n",
       "      <th>Requested Lead Time by Givaudan</th>\n",
       "      <th>Purchase Order Late (days)</th>\n",
       "      <th>Late/Early Receipt</th>\n",
       "      <th>Purchase Order Release</th>\n",
       "      <th>Early Release buckets</th>\n",
       "      <th>Nr of Local Vendors</th>\n",
       "      <th>% of Vendor from Total Qty</th>\n",
       "      <th>Top Vendor</th>\n",
       "    </tr>\n",
       "  </thead>\n",
       "  <tbody>\n",
       "    <tr>\n",
       "      <th>0</th>\n",
       "      <td>1</td>\n",
       "      <td>2022-02-01</td>\n",
       "      <td>APAC</td>\n",
       "      <td>ID</td>\n",
       "      <td>60184</td>\n",
       "      <td>CN</td>\n",
       "      <td>No</td>\n",
       "      <td>Sea</td>\n",
       "      <td>No</td>\n",
       "      <td>VENDOR ISSUES UNTIL INCOTERMS FULFILLMENT</td>\n",
       "      <td>0</td>\n",
       "      <td>0</td>\n",
       "      <td>1360</td>\n",
       "      <td>63</td>\n",
       "      <td>31</td>\n",
       "      <td>56</td>\n",
       "      <td>7</td>\n",
       "      <td>Late</td>\n",
       "      <td>1</td>\n",
       "      <td>1-5 early</td>\n",
       "      <td>2</td>\n",
       "      <td>1</td>\n",
       "      <td>Yes</td>\n",
       "    </tr>\n",
       "    <tr>\n",
       "      <th>1</th>\n",
       "      <td>2</td>\n",
       "      <td>2022-02-01</td>\n",
       "      <td>APAC</td>\n",
       "      <td>ID</td>\n",
       "      <td>60216</td>\n",
       "      <td>SG</td>\n",
       "      <td>No</td>\n",
       "      <td>Sea</td>\n",
       "      <td>Yes</td>\n",
       "      <td>Not assigned yet</td>\n",
       "      <td>100</td>\n",
       "      <td>100</td>\n",
       "      <td>400</td>\n",
       "      <td>44</td>\n",
       "      <td>61</td>\n",
       "      <td>55</td>\n",
       "      <td>-11</td>\n",
       "      <td>Early</td>\n",
       "      <td>-6</td>\n",
       "      <td>6-10 late</td>\n",
       "      <td>1</td>\n",
       "      <td>1</td>\n",
       "      <td>Yes</td>\n",
       "    </tr>\n",
       "    <tr>\n",
       "      <th>2</th>\n",
       "      <td>3</td>\n",
       "      <td>2022-02-01</td>\n",
       "      <td>APAC</td>\n",
       "      <td>ID</td>\n",
       "      <td>60217</td>\n",
       "      <td>IN</td>\n",
       "      <td>No</td>\n",
       "      <td>Sea</td>\n",
       "      <td>No</td>\n",
       "      <td>Not assigned yet</td>\n",
       "      <td>100</td>\n",
       "      <td>100</td>\n",
       "      <td>600</td>\n",
       "      <td>69</td>\n",
       "      <td>41</td>\n",
       "      <td>90</td>\n",
       "      <td>-21</td>\n",
       "      <td>Early</td>\n",
       "      <td>15</td>\n",
       "      <td>11-15 early</td>\n",
       "      <td>1</td>\n",
       "      <td>1</td>\n",
       "      <td>Yes</td>\n",
       "    </tr>\n",
       "    <tr>\n",
       "      <th>3</th>\n",
       "      <td>4</td>\n",
       "      <td>2022-02-01</td>\n",
       "      <td>APAC</td>\n",
       "      <td>ID</td>\n",
       "      <td>60217</td>\n",
       "      <td>IN</td>\n",
       "      <td>No</td>\n",
       "      <td>Sea</td>\n",
       "      <td>No</td>\n",
       "      <td>VENDOR ISSUES UNTIL INCOTERMS FULFILLMENT</td>\n",
       "      <td>0</td>\n",
       "      <td>0</td>\n",
       "      <td>180</td>\n",
       "      <td>93</td>\n",
       "      <td>41</td>\n",
       "      <td>57</td>\n",
       "      <td>36</td>\n",
       "      <td>Late</td>\n",
       "      <td>2</td>\n",
       "      <td>1-5 early</td>\n",
       "      <td>1</td>\n",
       "      <td>1</td>\n",
       "      <td>Yes</td>\n",
       "    </tr>\n",
       "    <tr>\n",
       "      <th>4</th>\n",
       "      <td>5</td>\n",
       "      <td>2022-02-01</td>\n",
       "      <td>APAC</td>\n",
       "      <td>ID</td>\n",
       "      <td>60439</td>\n",
       "      <td>CN</td>\n",
       "      <td>No</td>\n",
       "      <td>Sea</td>\n",
       "      <td>No</td>\n",
       "      <td>TRANSPORTATION ISSUE / DELAY</td>\n",
       "      <td>0</td>\n",
       "      <td>100</td>\n",
       "      <td>180</td>\n",
       "      <td>69</td>\n",
       "      <td>44</td>\n",
       "      <td>65</td>\n",
       "      <td>4</td>\n",
       "      <td>Late</td>\n",
       "      <td>-18</td>\n",
       "      <td>16-20 late</td>\n",
       "      <td>2</td>\n",
       "      <td>1</td>\n",
       "      <td>Yes</td>\n",
       "    </tr>\n",
       "  </tbody>\n",
       "</table>\n",
       "</div>"
      ],
      "text/plain": [
       "   Purchase Order # Purchase Order Receipt Month Givaudan Plant Region  \\\n",
       "0                 1                   2022-02-01                  APAC   \n",
       "1                 2                   2022-02-01                  APAC   \n",
       "2                 3                   2022-02-01                  APAC   \n",
       "3                 4                   2022-02-01                  APAC   \n",
       "4                 5                   2022-02-01                  APAC   \n",
       "\n",
       "  Givaudan Plant Country  Vendor Code Vendor Country Organized By Givaudan  \\\n",
       "0                     ID        60184             CN                    No   \n",
       "1                     ID        60216             SG                    No   \n",
       "2                     ID        60217             IN                    No   \n",
       "3                     ID        60217             IN                    No   \n",
       "4                     ID        60439             CN                    No   \n",
       "\n",
       "  Mode of Transport Violation by Givaudan  \\\n",
       "0               Sea                    No   \n",
       "1               Sea                   Yes   \n",
       "2               Sea                    No   \n",
       "3               Sea                    No   \n",
       "4               Sea                    No   \n",
       "\n",
       "             Late Purchase Order Reason Code  Service Level  \\\n",
       "0  VENDOR ISSUES UNTIL INCOTERMS FULFILLMENT              0   \n",
       "1                           Not assigned yet            100   \n",
       "2                           Not assigned yet            100   \n",
       "3  VENDOR ISSUES UNTIL INCOTERMS FULFILLMENT              0   \n",
       "4               TRANSPORTATION ISSUE / DELAY              0   \n",
       "\n",
       "   Service Level (Score Corrected)  Purchase Order Qty (kg)  Actual Lead Time  \\\n",
       "0                                0                     1360                63   \n",
       "1                              100                      400                44   \n",
       "2                              100                      600                69   \n",
       "3                                0                      180                93   \n",
       "4                              100                      180                69   \n",
       "\n",
       "   Lead Time in Givaudan System  Requested Lead Time by Givaudan  \\\n",
       "0                            31                               56   \n",
       "1                            61                               55   \n",
       "2                            41                               90   \n",
       "3                            41                               57   \n",
       "4                            44                               65   \n",
       "\n",
       "   Purchase Order Late (days) Late/Early Receipt  Purchase Order Release  \\\n",
       "0                           7              Late                        1   \n",
       "1                         -11             Early                       -6   \n",
       "2                         -21             Early                       15   \n",
       "3                          36              Late                        2   \n",
       "4                           4              Late                      -18   \n",
       "\n",
       "  Early Release buckets  Nr of Local Vendors  % of Vendor from Total Qty  \\\n",
       "0             1-5 early                    2                           1   \n",
       "1             6-10 late                    1                           1   \n",
       "2           11-15 early                    1                           1   \n",
       "3             1-5 early                    1                           1   \n",
       "4            16-20 late                    2                           1   \n",
       "\n",
       "  Top Vendor  \n",
       "0        Yes  \n",
       "1        Yes  \n",
       "2        Yes  \n",
       "3        Yes  \n",
       "4        Yes  "
      ]
     },
     "execution_count": 131,
     "metadata": {},
     "output_type": "execute_result"
    }
   ],
   "source": [
    "df2.head()"
   ]
  },
  {
   "cell_type": "markdown",
   "id": "e61ca6d6-c19b-4467-af0d-6b3b80673dc2",
   "metadata": {},
   "source": [
    "##### Top Vendor"
   ]
  },
  {
   "cell_type": "code",
   "execution_count": 132,
   "id": "c2efa700-8626-4cd8-b39f-ad8c8a4ed3f5",
   "metadata": {},
   "outputs": [
    {
     "data": {
      "text/plain": [
       "Top Vendor\n",
       "Yes      53254\n",
       "50-50      408\n",
       "Name: count, dtype: int64"
      ]
     },
     "execution_count": 132,
     "metadata": {},
     "output_type": "execute_result"
    }
   ],
   "source": [
    "df2['Top Vendor'].value_counts()"
   ]
  },
  {
   "cell_type": "code",
   "execution_count": null,
   "id": "d1ce88cf-f9f9-488d-b297-a860632bd4a0",
   "metadata": {},
   "outputs": [],
   "source": []
  },
  {
   "cell_type": "code",
   "execution_count": null,
   "id": "73a3be10-8e9e-44f0-b527-14b02bca5e40",
   "metadata": {},
   "outputs": [],
   "source": []
  },
  {
   "cell_type": "markdown",
   "id": "64d3e9fd-ff96-46ce-aed9-c8ebc12faefb",
   "metadata": {},
   "source": [
    "## Final Notes\n",
    "\n",
    "- **No of PO-s**: \n",
    "  - The highest was in January 2023, followed by March 2022 and March 2023.\n",
    "  - The lowest was in December 2022.\n",
    "\n",
    "- **Vendors and Orders**: \n",
    "  - 863 Vendors for 59,484 orders.\n",
    "\n",
    "- **Region Analysis**:\n",
    "  - Majority of the orders are shipped in the EMEA region:\n",
    "    - 633 vendors\n",
    "    - 115,136,669 kg (40% of the total weight of the orders)\n",
    "    - 26,359 orders shipped to EMEA Givaudan Plants.\n",
    "\n",
    "- **Organization by Givaudan**:\n",
    "  - Around 38% of the orders are organized by Givaudan.\n",
    "\n",
    "- **Transportation Mode**:\n",
    "  - Majority of the transportation mode is by road, followed by sea.\n",
    "\n",
    "- **Delays**:\n",
    "  - Most frequent reason for the delayed coding: **VENDOR ISSUES UNTIL INCOTERMS FULFILLMENT**.\n",
    "  - 50% of the orders are received late by Givaudan; however, Givaudan attempts to correct this gap by sending the orders earlier than agreed in the Vendor Agreement. \n",
    "  - Majority of the orders are from the early bucket.\n",
    "\n",
    "## Room for Improvement\n",
    "\n",
    "- **Contract Violations**:\n",
    "  - 25% of the contracts are violated by Givaudan.\n",
    "\n",
    "- **Assignment Status**:\n",
    "  - 41% is not assigned yet.\n",
    "  - Total 51% is not assigned for PO coding.\n",
    "\n",
    "- **Delivery Issues**:\n",
    "  - 17% failed to arrive on time to Givaudan Plant.\n",
    "\n",
    "- **PO Release Check**:\n",
    "  - 42% of the Givaudan PO release needs to be checked. to be checked.\r\n"
   ]
  },
  {
   "cell_type": "code",
   "execution_count": null,
   "id": "8f8571ea-ea39-45d2-a243-258247a781c3",
   "metadata": {},
   "outputs": [],
   "source": []
  }
 ],
 "metadata": {
  "kernelspec": {
   "display_name": "Python 3 (ipykernel)",
   "language": "python",
   "name": "python3"
  },
  "language_info": {
   "codemirror_mode": {
    "name": "ipython",
    "version": 3
   },
   "file_extension": ".py",
   "mimetype": "text/x-python",
   "name": "python",
   "nbconvert_exporter": "python",
   "pygments_lexer": "ipython3",
   "version": "3.11.9"
  }
 },
 "nbformat": 4,
 "nbformat_minor": 5
}
