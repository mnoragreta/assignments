{
 "cells": [
  {
   "cell_type": "markdown",
   "metadata": {},
   "source": [
    "Task 2 - Understanding how long users actively work on designs?\r\n",
    "You are part of a cross functional team who would like to improve product engagement of our modeling features. Your Product Manager would like to understand how long our users are working on a design before they export it. \r\n",
    "Your task is to give some insight on this from the provided dat.\r\n"
   ]
  },
  {
   "cell_type": "code",
   "execution_count": null,
   "metadata": {
    "id": "9Z0QCC-wl9sk"
   },
   "outputs": [],
   "source": [
    "import numpy as np\n",
    "import pandas as pd\n",
    "import warnings\n",
    "warnings.filterwarnings(\"ignore\")\n",
    "pd.set_option('display.max_colwidth', None)\n",
    "\n",
    "import sqlite3\n",
    "from tabulate import tabulate\n",
    "import matplotlib.pyplot as plt\n",
    "import seaborn as sns"
   ]
  },
  {
   "cell_type": "markdown",
   "metadata": {
    "id": "fojc_rzNm-qB"
   },
   "source": [
    "Action plan:\n",
    "1. design_event dataset: excluding workspace_uuid <> workspace_id\n",
    "2. design_event dataset: putting the workspace_uuid value where the workspace_id is NULL\n",
    "3. design_event dataset: putting the workspace_id value where the workspace_uuid is NULL\n",
    "4. both datasets: Join tables"
   ]
  },
  {
   "cell_type": "code",
   "execution_count": null,
   "metadata": {
    "id": "BNzLlVRTmCqp"
   },
   "outputs": [],
   "source": [
    "#design_events = pd.read_csv('/content/DA_home_task_files_design_events.csv')\n",
    "design_events = pd.read_csv(r\"C:\\Users\\lily\\Desktop\\DS interview prep\\Interviews\\Shapr3D\\DA_home_task_files_design_events.csv\")"
   ]
  },
  {
   "cell_type": "code",
   "execution_count": null,
   "metadata": {
    "id": "RJ97saOBmCtG"
   },
   "outputs": [],
   "source": [
    "#design_sessions = pd.read_csv('/content/DA_homework_files_design_sessions.csv')\n",
    "design_sessions = pd.read_csv(r\"C:\\Users\\lily\\Desktop\\DS interview prep\\Interviews\\Shapr3D\\DA_homework_files_design_sessions.csv\")"
   ]
  },
  {
   "cell_type": "markdown",
   "metadata": {
    "id": "Lub5LUovmTHC"
   },
   "source": [
    "*Colum names extraction*"
   ]
  },
  {
   "cell_type": "code",
   "execution_count": null,
   "metadata": {
    "colab": {
     "base_uri": "https://localhost:8080/"
    },
    "id": "cTgzv5mPmP8w",
    "outputId": "3f187603-dff1-4a80-83bb-420b848c25de"
   },
   "outputs": [
    {
     "data": {
      "text/plain": [
       "Index(['event_name', 'device_platform', 'event_time', 'user_id',\n",
       "       'active_team_id', 'app_version', 'workspace_id', 'workspace_uuid',\n",
       "       'file_format', 'resolution'],\n",
       "      dtype='object')"
      ]
     },
     "execution_count": 122,
     "metadata": {},
     "output_type": "execute_result"
    }
   ],
   "source": [
    "design_events.columns"
   ]
  },
  {
   "cell_type": "markdown",
   "metadata": {
    "id": "yvCNsE_nmYh7"
   },
   "source": [
    "*Connect to SQLite - automatical database file creation*"
   ]
  },
  {
   "cell_type": "code",
   "execution_count": null,
   "metadata": {
    "id": "uB1FKuZBmQAY"
   },
   "outputs": [],
   "source": [
    "conn = sqlite3.connect(\"shapr3d.db\")\n",
    "cursor = conn.cursor()"
   ]
  },
  {
   "cell_type": "markdown",
   "metadata": {
    "id": "zuHg5ctImdha"
   },
   "source": [
    "*Data load into SQLite table called design_events*"
   ]
  },
  {
   "cell_type": "code",
   "execution_count": null,
   "metadata": {
    "colab": {
     "base_uri": "https://localhost:8080/"
    },
    "id": "Gh0SefJPmeq5",
    "outputId": "50d52daa-18b1-4c04-fd04-2c4494eb92f1"
   },
   "outputs": [
    {
     "data": {
      "text/plain": [
       "73008"
      ]
     },
     "execution_count": 124,
     "metadata": {},
     "output_type": "execute_result"
    }
   ],
   "source": [
    "design_events.to_sql(\"temp_events\", conn, if_exists=\"replace\", index=False)"
   ]
  },
  {
   "cell_type": "markdown",
   "metadata": {
    "id": "zT4jHPU_mgd3"
   },
   "source": [
    "*Create the SQLite table creation (inside of the database) for efficient queries and adding primary key*"
   ]
  },
  {
   "cell_type": "code",
   "execution_count": null,
   "metadata": {
    "id": "FSMzDvKBml96"
   },
   "outputs": [],
   "source": [
    "cursor.execute(\"\"\"\n",
    "    CREATE TABLE events (\n",
    "        id INTEGER PRIMARY KEY AUTOINCREMENT,\n",
    "        event_name TEXT,\n",
    "        device_platform TEXT,\n",
    "        event_time TEXT,\n",
    "        user_id TEXT,\n",
    "        active_team_id TEXT,\n",
    "        app_version TEXT,\n",
    "        workspace_id TEXT,\n",
    "        workspace_uuid TEXT,\n",
    "        file_format TEXT,\n",
    "        resolution TEXT\n",
    "    )\n",
    "\"\"\")\n",
    "\n",
    "cursor.execute(\"\"\"\n",
    "    INSERT INTO events (event_name, device_platform, event_time, user_id, active_team_id, app_version, workspace_id, workspace_uuid, file_format, resolution)\n",
    "    SELECT event_name, device_platform, event_time, user_id, active_team_id, app_version, workspace_id, workspace_uuid, file_format, resolution FROM temp_events\n",
    "\"\"\")\n",
    "\n",
    "cursor.execute(\"DROP TABLE temp_events\")\n",
    "conn.commit()"
   ]
  },
  {
   "cell_type": "code",
   "execution_count": null,
   "metadata": {
    "colab": {
     "base_uri": "https://localhost:8080/"
    },
    "id": "2S7jnJtAmuBr",
    "outputId": "74ad939c-0d83-49d1-e886-1f5f6d45c657"
   },
   "outputs": [
    {
     "name": "stdout",
     "output_type": "stream",
     "text": [
      "(1, 'design_created', 'Windows', '2024-11-26 07:55:47.896000', '84d9a7e6-e84e-4498-b963-ab37f2422054', 'd34a926b-76c3-4f25-9fd7-c1bfdb45aebc', '5.650.7126.0', None, 'fdb471ff-6a91-49aa-8d33-e9cf129ad978', None, None)\n",
      "(2, 'design_created', 'Windows', '2024-10-23 14:54:54.831000', '47405968-d781-4fa1-8f63-85e54b58a7bc', 'd56aa67d-6879-46e7-bb20-3a086fcb0050', '5.730.7613.0', None, '2b586791-b98e-4ba7-8c27-c2ac1cb28918', None, None)\n"
     ]
    }
   ],
   "source": [
    "cursor.execute(\"SELECT * FROM events LIMIT 2\")\n",
    "rows = cursor.fetchall()\n",
    "for row in rows:\n",
    "    print(row)"
   ]
  },
  {
   "cell_type": "code",
   "execution_count": null,
   "metadata": {
    "id": "rP243L3YnSz9"
   },
   "outputs": [],
   "source": []
  },
  {
   "cell_type": "markdown",
   "metadata": {
    "id": "wm0cwGtpt-LD"
   },
   "source": [
    "*Deleting duplications*"
   ]
  },
  {
   "cell_type": "code",
   "execution_count": null,
   "metadata": {
    "id": "DqxdiNNSuBtX"
   },
   "outputs": [],
   "source": [
    "cursor.execute('''\n",
    "WITH Duplicates AS (\n",
    "    SELECT MIN(ROWID) AS keep_rowid\n",
    "    FROM events\n",
    "    GROUP BY event_name, device_platform, event_time, user_id, active_team_id, app_version, workspace_id, workspace_uuid, file_format, resolution\n",
    "    HAVING COUNT(*) > 1\n",
    ")\n",
    "\n",
    "DELETE FROM events\n",
    "WHERE ROWID NOT IN (\n",
    "    SELECT MIN(ROWID)\n",
    "    FROM events\n",
    "    GROUP BY event_name, device_platform, event_time, user_id, active_team_id, app_version, workspace_id, workspace_uuid, file_format, resolution\n",
    ")\n",
    "''')\n",
    "\n",
    "conn.commit()"
   ]
  },
  {
   "cell_type": "markdown",
   "metadata": {
    "id": "DY5KtXkgo_i1"
   },
   "source": [
    "**Excluding workspace_uuid <> workspace_id**"
   ]
  },
  {
   "cell_type": "code",
   "execution_count": null,
   "metadata": {
    "colab": {
     "base_uri": "https://localhost:8080/"
    },
    "id": "VJc80BaynS3H",
    "outputId": "14c2e679-245a-4d61-d1a2-5fc16dc5620a"
   },
   "outputs": [
    {
     "data": {
      "text/plain": [
       "[('NA', 61573), ('No', 11374), ('Yes', 17)]"
      ]
     },
     "execution_count": 128,
     "metadata": {},
     "output_type": "execute_result"
    }
   ],
   "source": [
    "cursor.execute('''\n",
    "SELECT different, COUNT(*)\n",
    "FROM (\n",
    "    SELECT *,\n",
    "        CASE\n",
    "            WHEN workspace_id IS NOT NULL AND workspace_uuid IS NOT NULL AND workspace_id <> workspace_uuid THEN 'Yes'\n",
    "            WHEN workspace_id IS NOT NULL AND workspace_uuid IS NOT NULL THEN 'No'\n",
    "            ELSE 'NA'\n",
    "        END AS different\n",
    "    FROM events\n",
    ")\n",
    "GROUP BY different;\n",
    "''')\n",
    "\n",
    "diff  = cursor.fetchall()\n",
    "diff"
   ]
  },
  {
   "cell_type": "code",
   "execution_count": null,
   "metadata": {
    "colab": {
     "base_uri": "https://localhost:8080/"
    },
    "id": "XS7bp8aGnS5V",
    "outputId": "93030c20-1168-4629-b77c-ca315d3eae72"
   },
   "outputs": [
    {
     "name": "stdout",
     "output_type": "stream",
     "text": [
      "+---------------------+----------------------------+--------------------------------------+--------------------------------------+--------------------------------------+\n",
      "| Event name          | Event time                 | User ID                              | Workspace ID                         | Workspace UUID                       |\n",
      "+=====================+============================+======================================+======================================+======================================+\n",
      "| design_open_tapped  | 2024-11-15 20:33:01.495000 | 512c9512-25d7-49b2-9665-6398b0fecd04 | 62e32c24-83ba-484b-a0da-25861f5e9be3 | 1398afc4-4efa-4776-ae8b-d3cbf60501a2 |\n",
      "+---------------------+----------------------------+--------------------------------------+--------------------------------------+--------------------------------------+\n",
      "| design_open_tapped  | 2025-01-20 18:58:20.839000 | 512c9512-25d7-49b2-9665-6398b0fecd04 | 7f383594-7d0d-4fb4-8a8c-25da74624552 | 92682a03-cfcf-4a26-abbe-002e1a38d3ee |\n",
      "+---------------------+----------------------------+--------------------------------------+--------------------------------------+--------------------------------------+\n",
      "| design_name_changed | 2024-11-22 18:06:44.498000 | 71eeaaa2-d943-4b30-9fae-c62cbc72a4d5 | f7321090-b422-4150-b43a-96a8df7a740d | f38cf586-6bcf-42c6-8560-80204e232ae1 |\n",
      "+---------------------+----------------------------+--------------------------------------+--------------------------------------+--------------------------------------+\n",
      "| design_open_tapped  | 2025-01-17 13:04:53.747000 | 9d517e5e-586e-4895-99ed-3e28b60ad619 | 6599898f-4d57-47a6-bb18-e42226f36f4e | 740dbdda-9a83-44f7-a4f0-3aa5469e6c6a |\n",
      "+---------------------+----------------------------+--------------------------------------+--------------------------------------+--------------------------------------+\n",
      "| design_open_tapped  | 2025-01-14 23:04:18.715000 | 9d517e5e-586e-4895-99ed-3e28b60ad619 | 6816b776-4b28-4620-b1a9-63eaca8b7768 | f3889d10-854e-4050-979a-ec750b0b4f42 |\n",
      "+---------------------+----------------------------+--------------------------------------+--------------------------------------+--------------------------------------+\n",
      "| design_open_tapped  | 2024-11-27 17:59:19.895000 | 4b33df1a-a60f-4b4b-918a-6f02fe2f10d0 | e1cc0038-c988-45eb-815d-cca9c817374f | 160aa423-6434-46cb-b009-c404a96765b7 |\n",
      "+---------------------+----------------------------+--------------------------------------+--------------------------------------+--------------------------------------+\n",
      "| design_open_tapped  | 2024-09-07 11:38:14.155000 | 7404bc22-5e02-47e4-8be5-4572f96055ff | d2982e8f-69b1-4d03-bb50-29b065ee9a59 | 2614d07f-a0a8-4da2-8dca-172b407dac26 |\n",
      "+---------------------+----------------------------+--------------------------------------+--------------------------------------+--------------------------------------+\n",
      "| design_name_changed | 2024-11-06 07:10:23.773000 | 7f389bad-8bfc-41eb-9c47-ebe049477039 | 7db3813b-57d5-42f6-a5b8-efe4f8fbceb9 | c25e3169-ab9c-4126-a1fd-713221cd4fcd |\n",
      "+---------------------+----------------------------+--------------------------------------+--------------------------------------+--------------------------------------+\n",
      "| design_open_tapped  | 2024-11-22 23:50:25.098000 | 31dc5007-25e2-46d8-83ff-59fa502c7013 | 6d75e6c1-2f5a-4f48-8750-8990d80a9799 | 0dd5b800-0794-4385-9786-44617cf759b6 |\n",
      "+---------------------+----------------------------+--------------------------------------+--------------------------------------+--------------------------------------+\n",
      "| design_open_tapped  | 2024-10-09 14:13:37.579000 | 18e362ce-579d-42c3-bf23-7d5749dc0ef0 | 93871f46-0584-4768-b5c8-01c6ac87c30c | 367c0f58-f330-48e2-bbd1-2d914e09dfd0 |\n",
      "+---------------------+----------------------------+--------------------------------------+--------------------------------------+--------------------------------------+\n",
      "| design_open_tapped  | 2024-12-04 16:18:49.295000 | f8ceb59d-34d3-4778-a8e3-5a43134271a2 | b11a19d4-9c99-48c8-97d0-8bfbc636e30e | 1e49bf0b-babf-404e-9bd7-217233233140 |\n",
      "+---------------------+----------------------------+--------------------------------------+--------------------------------------+--------------------------------------+\n",
      "| design_open_tapped  | 2024-12-04 16:18:49.317000 | f8ceb59d-34d3-4778-a8e3-5a43134271a2 | b11a19d4-9c99-48c8-97d0-8bfbc636e30e | 1e49bf0b-babf-404e-9bd7-217233233140 |\n",
      "+---------------------+----------------------------+--------------------------------------+--------------------------------------+--------------------------------------+\n",
      "| design_open_tapped  | 2024-10-03 12:44:44.826000 | 9ad2c3f2-82e6-438d-8c47-5e2e9432604e | 1f73a35a-7976-476e-bafa-64671b93cc8b | 159a3f23-b953-429b-bcd2-356e222e05f4 |\n",
      "+---------------------+----------------------------+--------------------------------------+--------------------------------------+--------------------------------------+\n",
      "| design_open_tapped  | 2024-11-03 13:56:43.532000 | dc38fdb4-8082-40c4-a5e5-fa346eed4cc3 | e457591b-4dcd-425f-88ce-cbc54fdb2543 | 052d9fa2-a224-4008-aad1-12219d2bda90 |\n",
      "+---------------------+----------------------------+--------------------------------------+--------------------------------------+--------------------------------------+\n",
      "| design_open_tapped  | 2024-12-21 17:22:39.970000 | b4eb6550-308e-4120-b685-819b0165c150 | 52463224-fdeb-4410-84c8-085d6b66c3f5 | d6bb4057-0ae8-44f9-84b2-e1a9cdcef1e4 |\n",
      "+---------------------+----------------------------+--------------------------------------+--------------------------------------+--------------------------------------+\n",
      "| design_open_tapped  | 2024-12-21 17:22:40.564000 | b4eb6550-308e-4120-b685-819b0165c150 | 52463224-fdeb-4410-84c8-085d6b66c3f5 | d6bb4057-0ae8-44f9-84b2-e1a9cdcef1e4 |\n",
      "+---------------------+----------------------------+--------------------------------------+--------------------------------------+--------------------------------------+\n",
      "| design_open_tapped  | 2024-12-21 17:22:39.117000 | b4eb6550-308e-4120-b685-819b0165c150 | 52463224-fdeb-4410-84c8-085d6b66c3f5 | d6bb4057-0ae8-44f9-84b2-e1a9cdcef1e4 |\n",
      "+---------------------+----------------------------+--------------------------------------+--------------------------------------+--------------------------------------+\n"
     ]
    }
   ],
   "source": [
    "cursor.execute('''\n",
    "    SELECT event_name, event_time, user_id, workspace_id, workspace_uuid\n",
    "    FROM events\n",
    "    WHERE workspace_id IS NOT NULL\n",
    "      AND workspace_uuid IS NOT NULL\n",
    "      AND workspace_id <> workspace_uuid;\n",
    "''')\n",
    "\n",
    "\n",
    "diff02 = cursor.fetchall()\n",
    "headers = [\"Event name\", \"Event time\", \"User ID\", \"Workspace ID\", \"Workspace UUID\"]\n",
    "\n",
    "print(tabulate(diff02, headers=headers, tablefmt=\"grid\"))"
   ]
  },
  {
   "cell_type": "code",
   "execution_count": null,
   "metadata": {
    "colab": {
     "base_uri": "https://localhost:8080/"
    },
    "id": "KxC9xb0itv0X",
    "outputId": "f80d5cd5-7097-4d6b-b66b-9cc8d02276bd"
   },
   "outputs": [
    {
     "name": "stdout",
     "output_type": "stream",
     "text": [
      "A copy of the 'events' table has been created as 'events_copy'.\n"
     ]
    }
   ],
   "source": [
    "cursor.execute('''\n",
    "    CREATE TABLE IF NOT EXISTS events_copy AS\n",
    "    SELECT * FROM events;\n",
    "''')\n",
    "\n",
    "conn.commit()\n",
    "\n",
    "print(\"A copy of the 'events' table has been created as 'events_copy'.\")"
   ]
  },
  {
   "cell_type": "code",
   "execution_count": null,
   "metadata": {
    "id": "6QqCc0Aioj1K"
   },
   "outputs": [],
   "source": [
    "cursor.execute('''\n",
    "    DELETE FROM events\n",
    "    WHERE workspace_id IS NOT NULL\n",
    "      AND workspace_uuid IS NOT NULL\n",
    "      AND workspace_id <> workspace_uuid;\n",
    "''')\n",
    "\n",
    "conn.commit()"
   ]
  },
  {
   "cell_type": "code",
   "execution_count": null,
   "metadata": {
    "colab": {
     "base_uri": "https://localhost:8080/"
    },
    "id": "OCn3g99FqaLp",
    "outputId": "93f854fb-c28b-4a87-e442-4e587685b09d"
   },
   "outputs": [
    {
     "data": {
      "text/plain": [
       "72947"
      ]
     },
     "execution_count": 132,
     "metadata": {},
     "output_type": "execute_result"
    }
   ],
   "source": [
    "cursor.execute('''\n",
    "    SELECT COUNT(*)\n",
    "    FROM events\n",
    "''')\n",
    "\n",
    "rows02 = cursor.fetchone()[0]\n",
    "rows02"
   ]
  },
  {
   "cell_type": "code",
   "execution_count": null,
   "metadata": {
    "id": "NWNgR2QZqaOc"
   },
   "outputs": [],
   "source": []
  },
  {
   "cell_type": "markdown",
   "metadata": {
    "id": "9Kj7OqUiu_Z0"
   },
   "source": [
    "**Workspace_uuid where workspace_id is NULL**"
   ]
  },
  {
   "cell_type": "code",
   "execution_count": null,
   "metadata": {
    "id": "nU6IolIDu-0U"
   },
   "outputs": [],
   "source": [
    "cursor.execute('''\n",
    "    UPDATE events\n",
    "    SET workspace_id = workspace_uuid\n",
    "    WHERE workspace_id IS NULL AND workspace_uuid IS NOT NULL;\n",
    "''')\n",
    "\n",
    "conn.commit()"
   ]
  },
  {
   "cell_type": "code",
   "execution_count": null,
   "metadata": {
    "colab": {
     "base_uri": "https://localhost:8080/"
    },
    "id": "Hn0xQSMxu-3H",
    "outputId": "47576af6-f1e0-4b8f-87ce-51e7625aa50c"
   },
   "outputs": [
    {
     "data": {
      "text/plain": [
       "[(0,)]"
      ]
     },
     "execution_count": 134,
     "metadata": {},
     "output_type": "execute_result"
    }
   ],
   "source": [
    "cursor.execute('''\n",
    "    SELECT COUNT(*)\n",
    "    FROM events\n",
    "    WHERE workspace_id IS NULL\n",
    "    LIMIT 2\n",
    "''')\n",
    "\n",
    "wpidnull = cursor.fetchall()\n",
    "wpidnull"
   ]
  },
  {
   "cell_type": "markdown",
   "metadata": {
    "id": "4lXJXw5LwFki"
   },
   "source": [
    "**Workspace_id where workspace_uuid is NULL**"
   ]
  },
  {
   "cell_type": "code",
   "execution_count": null,
   "metadata": {
    "id": "SiYf2INMu-57"
   },
   "outputs": [],
   "source": [
    "cursor.execute('''\n",
    "    UPDATE events\n",
    "    SET workspace_uuid = workspace_id\n",
    "    WHERE workspace_uuid IS NULL AND workspace_id IS NOT NULL;\n",
    "''')\n",
    "\n",
    "conn.commit()"
   ]
  },
  {
   "cell_type": "code",
   "execution_count": null,
   "metadata": {
    "colab": {
     "base_uri": "https://localhost:8080/"
    },
    "id": "PArPliPaqaRC",
    "outputId": "8fc9279a-8a8f-4fc3-880e-29f85b57654f"
   },
   "outputs": [
    {
     "data": {
      "text/plain": [
       "[(0,)]"
      ]
     },
     "execution_count": 136,
     "metadata": {},
     "output_type": "execute_result"
    }
   ],
   "source": [
    "cursor.execute('''\n",
    "    SELECT COUNT(*)\n",
    "    FROM events\n",
    "    WHERE workspace_uuid IS NULL\n",
    "    LIMIT 2\n",
    "''')\n",
    "\n",
    "wpuuidnull = cursor.fetchall()\n",
    "wpuuidnull"
   ]
  },
  {
   "cell_type": "markdown",
   "metadata": {
    "id": "dPde8_69xpZL"
   },
   "source": [
    "**workspace_uuid - workspace_iid check**"
   ]
  },
  {
   "cell_type": "code",
   "execution_count": null,
   "metadata": {
    "colab": {
     "base_uri": "https://localhost:8080/"
    },
    "id": "qvfIh6bxwOgc",
    "outputId": "64567333-626a-4029-a48b-d5fffbc97ffb"
   },
   "outputs": [
    {
     "data": {
      "text/plain": [
       "[('No', 72947)]"
      ]
     },
     "execution_count": 137,
     "metadata": {},
     "output_type": "execute_result"
    }
   ],
   "source": [
    "cursor.execute('''\n",
    "SELECT different, COUNT(*)\n",
    "FROM (\n",
    "    SELECT *,\n",
    "        CASE\n",
    "            WHEN workspace_id IS NOT NULL AND workspace_uuid IS NOT NULL AND workspace_id <> workspace_uuid THEN 'Yes'\n",
    "            WHEN workspace_id IS NOT NULL AND workspace_uuid IS NOT NULL THEN 'No'\n",
    "            ELSE 'NA'\n",
    "        END AS different\n",
    "    FROM events\n",
    ")\n",
    "GROUP BY different;\n",
    "''')\n",
    "\n",
    "diff03  = cursor.fetchall()\n",
    "diff03"
   ]
  },
  {
   "cell_type": "code",
   "execution_count": null,
   "metadata": {
    "id": "L6d9gBFSwOi5"
   },
   "outputs": [],
   "source": []
  },
  {
   "cell_type": "markdown",
   "metadata": {
    "id": "EtF19qLenfMa"
   },
   "source": [
    "*Column names extraction*"
   ]
  },
  {
   "cell_type": "code",
   "execution_count": null,
   "metadata": {
    "colab": {
     "base_uri": "https://localhost:8080/"
    },
    "id": "NWVesVoHnS76",
    "outputId": "66cd6afd-db5c-4338-dbbd-20ac19e7d76a"
   },
   "outputs": [
    {
     "data": {
      "text/plain": [
       "Index(['user_id', 'workspace_id', 'platform', 'session_start', 'session_end',\n",
       "       'session_length_secs', 'session_length_mins'],\n",
       "      dtype='object')"
      ]
     },
     "execution_count": 138,
     "metadata": {},
     "output_type": "execute_result"
    }
   ],
   "source": [
    "design_sessions.columns"
   ]
  },
  {
   "cell_type": "markdown",
   "metadata": {
    "id": "RnLwZMQDnZnE"
   },
   "source": [
    "*Data load into SQLite table called design_sessions*"
   ]
  },
  {
   "cell_type": "code",
   "execution_count": null,
   "metadata": {
    "colab": {
     "base_uri": "https://localhost:8080/"
    },
    "id": "DbH3J7hunS-K",
    "outputId": "9455b983-401f-4422-d20e-4c4a27b118b6"
   },
   "outputs": [
    {
     "data": {
      "text/plain": [
       "48747"
      ]
     },
     "execution_count": 139,
     "metadata": {},
     "output_type": "execute_result"
    }
   ],
   "source": [
    "design_sessions.to_sql(\"temp_events\", conn, if_exists=\"replace\", index=False)"
   ]
  },
  {
   "cell_type": "markdown",
   "metadata": {
    "id": "I3yeqswLnqt5"
   },
   "source": [
    "*Create the SQLite table creation (inside of the database) for efficient queries and adding primary key*"
   ]
  },
  {
   "cell_type": "code",
   "execution_count": null,
   "metadata": {
    "id": "EqhWEbQCnTBH"
   },
   "outputs": [],
   "source": [
    "cursor.execute(\"\"\"\n",
    "    CREATE TABLE sessions (\n",
    "        id INTEGER PRIMARY KEY AUTOINCREMENT,\n",
    "        user_id TEXT,\n",
    "        workspace_id TEXT,\n",
    "        platform TEXT,\n",
    "        session_start TEXT,\n",
    "        session_end TEXT,\n",
    "        session_length_secs INT,\n",
    "        session_length_mins INT\n",
    "    )\n",
    "\"\"\")\n",
    "\n",
    "cursor.execute(\"\"\"\n",
    "    INSERT INTO sessions (user_id, workspace_id, platform, session_start, session_end, session_length_secs, session_length_mins)\n",
    "    SELECT user_id, workspace_id, platform, session_start, session_end, session_length_secs, session_length_mins FROM temp_events\n",
    "\"\"\")\n",
    "\n",
    "cursor.execute(\"DROP TABLE temp_events\")\n",
    "conn.commit()"
   ]
  },
  {
   "cell_type": "code",
   "execution_count": null,
   "metadata": {
    "colab": {
     "base_uri": "https://localhost:8080/"
    },
    "id": "YbEP523wnTDb",
    "outputId": "b3b3cab7-52b3-4581-ce1c-5238cd80b7c3"
   },
   "outputs": [
    {
     "name": "stdout",
     "output_type": "stream",
     "text": [
      "(1, 'f24b3056-250c-4478-94c7-5da98207585e', '9a5b0aad-62ed-4f4d-b4eb-c099f7799060', 'iOS', '2024-10-12 18:04:54.033000', '2024-10-12 18:36:44.853000', 1910, 32)\n",
      "(2, '55439986-d893-4fb2-a37e-a6b814c988a6', '123db975-bb40-4052-8fa3-365614853a25', 'Windows', '2024-09-09 13:01:52.167000', '2024-09-09 13:01:52.302000', 0, 0)\n"
     ]
    }
   ],
   "source": [
    "cursor.execute(\"SELECT * FROM sessions LIMIT 2\")\n",
    "rows = cursor.fetchall()\n",
    "for row in rows:\n",
    "    print(row)"
   ]
  },
  {
   "cell_type": "markdown",
   "metadata": {
    "id": "pJtK8tGUyTRo"
   },
   "source": [
    "**Checking for duplicates**"
   ]
  },
  {
   "cell_type": "code",
   "execution_count": null,
   "metadata": {
    "colab": {
     "base_uri": "https://localhost:8080/"
    },
    "id": "zMgegd7LyM4f",
    "outputId": "995e1acb-c594-43d8-dfda-194cd39ff5d5"
   },
   "outputs": [
    {
     "data": {
      "text/plain": [
       "0"
      ]
     },
     "execution_count": 142,
     "metadata": {},
     "output_type": "execute_result"
    }
   ],
   "source": [
    "cursor.execute('''\n",
    "SELECT COUNT(*)\n",
    "FROM (\n",
    "    SELECT COUNT(*)\n",
    "    FROM sessions\n",
    "    GROUP BY user_id, workspace_id, platform, session_start, session_end, session_length_secs, session_length_mins\n",
    "    HAVING COUNT(*) > 1\n",
    ") AS duplicates\n",
    "''')\n",
    "\n",
    "duplicates_session = cursor.fetchone()[0]\n",
    "duplicates_session"
   ]
  },
  {
   "cell_type": "markdown",
   "metadata": {
    "id": "eCRu2WVDyerZ"
   },
   "source": [
    "No duplicates in the session dataset"
   ]
  },
  {
   "cell_type": "markdown",
   "metadata": {
    "id": "JIc-f3k2ykgC"
   },
   "source": [
    "**Checking for missing values**"
   ]
  },
  {
   "cell_type": "code",
   "execution_count": null,
   "metadata": {
    "colab": {
     "base_uri": "https://localhost:8080/",
     "height": 125
    },
    "id": "EDjOOIVkyM7M",
    "outputId": "c0fef97d-3c9a-4907-c075-2ddf581ae4c2"
   },
   "outputs": [
    {
     "name": "stdout",
     "output_type": "stream",
     "text": [
      "\n",
      "Missing values in each column:\n"
     ]
    },
    {
     "data": {
      "application/vnd.google.colaboratory.intrinsic+json": {
       "summary": "{\n  \"name\": \"missing_sessions\",\n  \"rows\": 1,\n  \"fields\": [\n    {\n      \"column\": \"user_id\",\n      \"properties\": {\n        \"dtype\": \"number\",\n        \"std\": null,\n        \"min\": 0,\n        \"max\": 0,\n        \"num_unique_values\": 1,\n        \"samples\": [\n          0\n        ],\n        \"semantic_type\": \"\",\n        \"description\": \"\"\n      }\n    },\n    {\n      \"column\": \"workspace_id\",\n      \"properties\": {\n        \"dtype\": \"number\",\n        \"std\": null,\n        \"min\": 0,\n        \"max\": 0,\n        \"num_unique_values\": 1,\n        \"samples\": [\n          0\n        ],\n        \"semantic_type\": \"\",\n        \"description\": \"\"\n      }\n    },\n    {\n      \"column\": \"platform\",\n      \"properties\": {\n        \"dtype\": \"number\",\n        \"std\": null,\n        \"min\": 0,\n        \"max\": 0,\n        \"num_unique_values\": 1,\n        \"samples\": [\n          0\n        ],\n        \"semantic_type\": \"\",\n        \"description\": \"\"\n      }\n    },\n    {\n      \"column\": \"session_start\",\n      \"properties\": {\n        \"dtype\": \"number\",\n        \"std\": null,\n        \"min\": 0,\n        \"max\": 0,\n        \"num_unique_values\": 1,\n        \"samples\": [\n          0\n        ],\n        \"semantic_type\": \"\",\n        \"description\": \"\"\n      }\n    },\n    {\n      \"column\": \"session_end\",\n      \"properties\": {\n        \"dtype\": \"number\",\n        \"std\": null,\n        \"min\": 0,\n        \"max\": 0,\n        \"num_unique_values\": 1,\n        \"samples\": [\n          0\n        ],\n        \"semantic_type\": \"\",\n        \"description\": \"\"\n      }\n    },\n    {\n      \"column\": \"session_length_secs\",\n      \"properties\": {\n        \"dtype\": \"number\",\n        \"std\": null,\n        \"min\": 0,\n        \"max\": 0,\n        \"num_unique_values\": 1,\n        \"samples\": [\n          0\n        ],\n        \"semantic_type\": \"\",\n        \"description\": \"\"\n      }\n    },\n    {\n      \"column\": \"session_length_mins\",\n      \"properties\": {\n        \"dtype\": \"number\",\n        \"std\": null,\n        \"min\": 0,\n        \"max\": 0,\n        \"num_unique_values\": 1,\n        \"samples\": [\n          0\n        ],\n        \"semantic_type\": \"\",\n        \"description\": \"\"\n      }\n    }\n  ]\n}",
       "type": "dataframe",
       "variable_name": "missing_sessions"
      },
      "text/html": [
       "\n",
       "  <div id=\"df-52c081c7-a71c-43b4-9972-7271e78fba91\" class=\"colab-df-container\">\n",
       "    <div>\n",
       "<style scoped>\n",
       "    .dataframe tbody tr th:only-of-type {\n",
       "        vertical-align: middle;\n",
       "    }\n",
       "\n",
       "    .dataframe tbody tr th {\n",
       "        vertical-align: top;\n",
       "    }\n",
       "\n",
       "    .dataframe thead th {\n",
       "        text-align: right;\n",
       "    }\n",
       "</style>\n",
       "<table border=\"1\" class=\"dataframe\">\n",
       "  <thead>\n",
       "    <tr style=\"text-align: right;\">\n",
       "      <th></th>\n",
       "      <th>user_id</th>\n",
       "      <th>workspace_id</th>\n",
       "      <th>platform</th>\n",
       "      <th>session_start</th>\n",
       "      <th>session_end</th>\n",
       "      <th>session_length_secs</th>\n",
       "      <th>session_length_mins</th>\n",
       "    </tr>\n",
       "  </thead>\n",
       "  <tbody>\n",
       "    <tr>\n",
       "      <th>0</th>\n",
       "      <td>0</td>\n",
       "      <td>0</td>\n",
       "      <td>0</td>\n",
       "      <td>0</td>\n",
       "      <td>0</td>\n",
       "      <td>0</td>\n",
       "      <td>0</td>\n",
       "    </tr>\n",
       "  </tbody>\n",
       "</table>\n",
       "</div>\n",
       "    <div class=\"colab-df-buttons\">\n",
       "\n",
       "  <div class=\"colab-df-container\">\n",
       "    <button class=\"colab-df-convert\" onclick=\"convertToInteractive('df-52c081c7-a71c-43b4-9972-7271e78fba91')\"\n",
       "            title=\"Convert this dataframe to an interactive table.\"\n",
       "            style=\"display:none;\">\n",
       "\n",
       "  <svg xmlns=\"http://www.w3.org/2000/svg\" height=\"24px\" viewBox=\"0 -960 960 960\">\n",
       "    <path d=\"M120-120v-720h720v720H120Zm60-500h600v-160H180v160Zm220 220h160v-160H400v160Zm0 220h160v-160H400v160ZM180-400h160v-160H180v160Zm440 0h160v-160H620v160ZM180-180h160v-160H180v160Zm440 0h160v-160H620v160Z\"/>\n",
       "  </svg>\n",
       "    </button>\n",
       "\n",
       "  <style>\n",
       "    .colab-df-container {\n",
       "      display:flex;\n",
       "      gap: 12px;\n",
       "    }\n",
       "\n",
       "    .colab-df-convert {\n",
       "      background-color: #E8F0FE;\n",
       "      border: none;\n",
       "      border-radius: 50%;\n",
       "      cursor: pointer;\n",
       "      display: none;\n",
       "      fill: #1967D2;\n",
       "      height: 32px;\n",
       "      padding: 0 0 0 0;\n",
       "      width: 32px;\n",
       "    }\n",
       "\n",
       "    .colab-df-convert:hover {\n",
       "      background-color: #E2EBFA;\n",
       "      box-shadow: 0px 1px 2px rgba(60, 64, 67, 0.3), 0px 1px 3px 1px rgba(60, 64, 67, 0.15);\n",
       "      fill: #174EA6;\n",
       "    }\n",
       "\n",
       "    .colab-df-buttons div {\n",
       "      margin-bottom: 4px;\n",
       "    }\n",
       "\n",
       "    [theme=dark] .colab-df-convert {\n",
       "      background-color: #3B4455;\n",
       "      fill: #D2E3FC;\n",
       "    }\n",
       "\n",
       "    [theme=dark] .colab-df-convert:hover {\n",
       "      background-color: #434B5C;\n",
       "      box-shadow: 0px 1px 3px 1px rgba(0, 0, 0, 0.15);\n",
       "      filter: drop-shadow(0px 1px 2px rgba(0, 0, 0, 0.3));\n",
       "      fill: #FFFFFF;\n",
       "    }\n",
       "  </style>\n",
       "\n",
       "    <script>\n",
       "      const buttonEl =\n",
       "        document.querySelector('#df-52c081c7-a71c-43b4-9972-7271e78fba91 button.colab-df-convert');\n",
       "      buttonEl.style.display =\n",
       "        google.colab.kernel.accessAllowed ? 'block' : 'none';\n",
       "\n",
       "      async function convertToInteractive(key) {\n",
       "        const element = document.querySelector('#df-52c081c7-a71c-43b4-9972-7271e78fba91');\n",
       "        const dataTable =\n",
       "          await google.colab.kernel.invokeFunction('convertToInteractive',\n",
       "                                                    [key], {});\n",
       "        if (!dataTable) return;\n",
       "\n",
       "        const docLinkHtml = 'Like what you see? Visit the ' +\n",
       "          '<a target=\"_blank\" href=https://colab.research.google.com/notebooks/data_table.ipynb>data table notebook</a>'\n",
       "          + ' to learn more about interactive tables.';\n",
       "        element.innerHTML = '';\n",
       "        dataTable['output_type'] = 'display_data';\n",
       "        await google.colab.output.renderOutput(dataTable, element);\n",
       "        const docLink = document.createElement('div');\n",
       "        docLink.innerHTML = docLinkHtml;\n",
       "        element.appendChild(docLink);\n",
       "      }\n",
       "    </script>\n",
       "  </div>\n",
       "\n",
       "\n",
       "  <div id=\"id_5ad0d4ba-d655-4e66-a5ad-38e0deed5902\">\n",
       "    <style>\n",
       "      .colab-df-generate {\n",
       "        background-color: #E8F0FE;\n",
       "        border: none;\n",
       "        border-radius: 50%;\n",
       "        cursor: pointer;\n",
       "        display: none;\n",
       "        fill: #1967D2;\n",
       "        height: 32px;\n",
       "        padding: 0 0 0 0;\n",
       "        width: 32px;\n",
       "      }\n",
       "\n",
       "      .colab-df-generate:hover {\n",
       "        background-color: #E2EBFA;\n",
       "        box-shadow: 0px 1px 2px rgba(60, 64, 67, 0.3), 0px 1px 3px 1px rgba(60, 64, 67, 0.15);\n",
       "        fill: #174EA6;\n",
       "      }\n",
       "\n",
       "      [theme=dark] .colab-df-generate {\n",
       "        background-color: #3B4455;\n",
       "        fill: #D2E3FC;\n",
       "      }\n",
       "\n",
       "      [theme=dark] .colab-df-generate:hover {\n",
       "        background-color: #434B5C;\n",
       "        box-shadow: 0px 1px 3px 1px rgba(0, 0, 0, 0.15);\n",
       "        filter: drop-shadow(0px 1px 2px rgba(0, 0, 0, 0.3));\n",
       "        fill: #FFFFFF;\n",
       "      }\n",
       "    </style>\n",
       "    <button class=\"colab-df-generate\" onclick=\"generateWithVariable('missing_sessions')\"\n",
       "            title=\"Generate code using this dataframe.\"\n",
       "            style=\"display:none;\">\n",
       "\n",
       "  <svg xmlns=\"http://www.w3.org/2000/svg\" height=\"24px\"viewBox=\"0 0 24 24\"\n",
       "       width=\"24px\">\n",
       "    <path d=\"M7,19H8.4L18.45,9,17,7.55,7,17.6ZM5,21V16.75L18.45,3.32a2,2,0,0,1,2.83,0l1.4,1.43a1.91,1.91,0,0,1,.58,1.4,1.91,1.91,0,0,1-.58,1.4L9.25,21ZM18.45,9,17,7.55Zm-12,3A5.31,5.31,0,0,0,4.9,8.1,5.31,5.31,0,0,0,1,6.5,5.31,5.31,0,0,0,4.9,4.9,5.31,5.31,0,0,0,6.5,1,5.31,5.31,0,0,0,8.1,4.9,5.31,5.31,0,0,0,12,6.5,5.46,5.46,0,0,0,6.5,12Z\"/>\n",
       "  </svg>\n",
       "    </button>\n",
       "    <script>\n",
       "      (() => {\n",
       "      const buttonEl =\n",
       "        document.querySelector('#id_5ad0d4ba-d655-4e66-a5ad-38e0deed5902 button.colab-df-generate');\n",
       "      buttonEl.style.display =\n",
       "        google.colab.kernel.accessAllowed ? 'block' : 'none';\n",
       "\n",
       "      buttonEl.onclick = () => {\n",
       "        google.colab.notebook.generateWithVariable('missing_sessions');\n",
       "      }\n",
       "      })();\n",
       "    </script>\n",
       "  </div>\n",
       "\n",
       "    </div>\n",
       "  </div>\n"
      ],
      "text/plain": [
       "   user_id  workspace_id  platform  session_start  session_end  \\\n",
       "0        0             0         0              0            0   \n",
       "\n",
       "   session_length_secs  session_length_mins  \n",
       "0                    0                    0  "
      ]
     },
     "execution_count": 143,
     "metadata": {},
     "output_type": "execute_result"
    }
   ],
   "source": [
    "query = '''\n",
    "SELECT\n",
    "    SUM(CASE WHEN user_id IS NULL THEN 1 ELSE 0 END) AS missing_event_name,\n",
    "    SUM(CASE WHEN workspace_id IS NULL THEN 1 ELSE 0 END) AS missing_device_platform,\n",
    "    SUM(CASE WHEN platform IS NULL THEN 1 ELSE 0 END) AS missing_event_time,\n",
    "    SUM(CASE WHEN session_start IS NULL THEN 1 ELSE 0 END) AS missing_user_id,\n",
    "    SUM(CASE WHEN session_end IS NULL THEN 1 ELSE 0 END) AS missing_active_team_id,\n",
    "    SUM(CASE WHEN session_length_secs IS NULL THEN 1 ELSE 0 END) AS missing_app_version,\n",
    "    SUM(CASE WHEN session_length_mins IS NULL THEN 1 ELSE 0 END) AS missing_workspace_id\n",
    "FROM sessions\n",
    "'''\n",
    "\n",
    "cursor.execute(query)\n",
    "missing_values_sessions = cursor.fetchall()\n",
    "\n",
    "columns = [\n",
    "    'user_id', 'workspace_id', 'platform', 'session_start', 'session_end', 'session_length_secs', 'session_length_mins'\n",
    "]\n",
    "\n",
    "missing_sessions = pd.DataFrame(missing_values_sessions, columns=columns)\n",
    "\n",
    "print(\"\\nMissing values in each column:\")\n",
    "missing_sessions"
   ]
  },
  {
   "cell_type": "markdown",
   "metadata": {
    "id": "UDLEqfsr49eR"
   },
   "source": [
    "**Null values in session_length_mins**"
   ]
  },
  {
   "cell_type": "code",
   "execution_count": null,
   "metadata": {
    "colab": {
     "base_uri": "https://localhost:8080/"
    },
    "id": "-0W2vdRi5CWW",
    "outputId": "e86d6f4d-a9ad-4960-9505-6f1c0fc53520"
   },
   "outputs": [
    {
     "name": "stdout",
     "output_type": "stream",
     "text": [
      "+---------------------------------+\n",
      "|   Num_workspaces_with_zero_mins |\n",
      "+=================================+\n",
      "|                            5998 |\n",
      "+---------------------------------+\n"
     ]
    }
   ],
   "source": [
    "cursor.execute('''\n",
    "SELECT COUNT(DISTINCT workspace_id) AS num_workspaces_with_zero_mins\n",
    "FROM sessions\n",
    "WHERE session_length_mins = 0;\n",
    "''')\n",
    "\n",
    "null_mins = cursor.fetchall()\n",
    "null_mins\n",
    "\n",
    "headers = [\"Num_workspaces_with_zero_mins\"]\n",
    "\n",
    "print(tabulate(null_mins, headers=headers, tablefmt=\"grid\"))"
   ]
  },
  {
   "cell_type": "markdown",
   "metadata": {
    "id": "GvCf60ogzXRC"
   },
   "source": [
    "No missing values in session dataset"
   ]
  },
  {
   "cell_type": "markdown",
   "metadata": {
    "id": "xGru9ivF6ZWq"
   },
   "source": [
    "**Same workspace hasin zero value for mins - but also having non-zeros too**"
   ]
  },
  {
   "cell_type": "code",
   "execution_count": null,
   "metadata": {
    "colab": {
     "base_uri": "https://localhost:8080/"
    },
    "id": "P4j-UVg36dyR",
    "outputId": "df5259aa-51da-4ae0-a71a-83dc82f260ba"
   },
   "outputs": [
    {
     "name": "stdout",
     "output_type": "stream",
     "text": [
      "+----------------------+\n",
      "|   Both_zero_nonzero  |\n",
      "+======================+\n",
      "|                 4107 |\n",
      "+----------------------+\n"
     ]
    }
   ],
   "source": [
    "cursor.execute('''\n",
    "SELECT COUNT(*)\n",
    "FROM (\n",
    "    SELECT workspace_id\n",
    "    FROM sessions\n",
    "    WHERE session_length_mins = 0\n",
    "    INTERSECT\n",
    "    SELECT workspace_id\n",
    "    FROM sessions\n",
    "    WHERE session_length_mins > 0\n",
    ") AS mixed_workspaces;\n",
    "''')\n",
    "\n",
    "both_zero_nonzero = cursor.fetchall()\n",
    "both_zero_nonzero\n",
    "\n",
    "headers = [\"Both_zero_nonzero \"]\n",
    "\n",
    "print(tabulate(both_zero_nonzero , headers=headers, tablefmt=\"grid\"))"
   ]
  },
  {
   "cell_type": "code",
   "execution_count": null,
   "metadata": {
    "colab": {
     "base_uri": "https://localhost:8080/"
    },
    "id": "SAXaCFjDBuGL",
    "outputId": "bc8bf183-0d9d-4fae-cc62-a660750d1e42"
   },
   "outputs": [
    {
     "name": "stdout",
     "output_type": "stream",
     "text": [
      "+--------------------------+\n",
      "|   Single_zero_workspaces |\n",
      "+==========================+\n",
      "|                     1891 |\n",
      "+--------------------------+\n"
     ]
    }
   ],
   "source": [
    "cursor.execute('''\n",
    "SELECT COUNT(*)\n",
    "FROM (\n",
    "    SELECT workspace_id\n",
    "    FROM sessions\n",
    "    GROUP BY workspace_id\n",
    "    HAVING MAX(session_length_mins) = 0\n",
    ") AS all_zero_workspaces;\n",
    "''')\n",
    "\n",
    "single_zero_workspaces = cursor.fetchall()\n",
    "single_zero_workspaces\n",
    "\n",
    "headers = [\"Single_zero_workspaces\"]\n",
    "\n",
    "print(tabulate(single_zero_workspaces, headers=headers, tablefmt=\"grid\"))"
   ]
  },
  {
   "cell_type": "code",
   "execution_count": null,
   "metadata": {
    "colab": {
     "base_uri": "https://localhost:8080/"
    },
    "id": "EjGqHpirAn8o",
    "outputId": "662a24da-0a20-4ad5-8b4c-9b124ed1b306"
   },
   "outputs": [
    {
     "data": {
      "text/plain": [
       "5998"
      ]
     },
     "execution_count": 147,
     "metadata": {},
     "output_type": "execute_result"
    }
   ],
   "source": [
    "4107 + 1891"
   ]
  },
  {
   "cell_type": "markdown",
   "metadata": {
    "id": "QELbFRDkKAxS"
   },
   "source": [
    "**Minutes spent on number of sessions**"
   ]
  },
  {
   "cell_type": "code",
   "execution_count": null,
   "metadata": {
    "colab": {
     "base_uri": "https://localhost:8080/"
    },
    "id": "h_PbHIPrKMaZ",
    "outputId": "11ba4307-f53e-4bb3-91de-35e216c31337"
   },
   "outputs": [
    {
     "name": "stdout",
     "output_type": "stream",
     "text": [
      "+-----------+-----------------------------+\n",
      "|   Minutes |   Number of workspace_count |\n",
      "+===========+=============================+\n",
      "|         0 |                       10153 |\n",
      "+-----------+-----------------------------+\n",
      "|         1 |                        4706 |\n",
      "+-----------+-----------------------------+\n",
      "|         2 |                        3228 |\n",
      "+-----------+-----------------------------+\n",
      "|         3 |                        2678 |\n",
      "+-----------+-----------------------------+\n",
      "|         4 |                        2281 |\n",
      "+-----------+-----------------------------+\n",
      "|         5 |                        2035 |\n",
      "+-----------+-----------------------------+\n",
      "|         6 |                        1836 |\n",
      "+-----------+-----------------------------+\n",
      "|         7 |                        1638 |\n",
      "+-----------+-----------------------------+\n",
      "|         8 |                        1472 |\n",
      "+-----------+-----------------------------+\n",
      "|         9 |                        1291 |\n",
      "+-----------+-----------------------------+\n",
      "|        10 |                        1183 |\n",
      "+-----------+-----------------------------+\n",
      "|        11 |                        1089 |\n",
      "+-----------+-----------------------------+\n",
      "|        12 |                         973 |\n",
      "+-----------+-----------------------------+\n",
      "|        13 |                         893 |\n",
      "+-----------+-----------------------------+\n",
      "|        14 |                         826 |\n",
      "+-----------+-----------------------------+\n"
     ]
    }
   ],
   "source": [
    "cursor.execute('''\n",
    "SELECT session_length_mins, COUNT(workspace_id) AS workspace_count\n",
    "FROM sessions\n",
    "GROUP BY session_length_mins\n",
    "ORDER BY workspace_count DESC\n",
    "LIMIT 15;\n",
    "''')\n",
    "\n",
    "minutes_sessions = cursor.fetchall()\n",
    "minutes_sessions\n",
    "\n",
    "headers = [\"Minutes\", \"Number of workspace_count\"]\n",
    "\n",
    "print(tabulate(minutes_sessions, headers=headers, tablefmt=\"grid\"))"
   ]
  },
  {
   "cell_type": "markdown",
   "metadata": {
    "id": "h6PxKD-Y0216"
   },
   "source": [
    "**Calculating hours and adding as new column**"
   ]
  },
  {
   "cell_type": "code",
   "execution_count": null,
   "metadata": {
    "id": "4dWvFfVs019S"
   },
   "outputs": [],
   "source": [
    "cursor.execute('ALTER TABLE sessions ADD COLUMN session_length_hours REAL')\n",
    "\n",
    "cursor.execute('''\n",
    "UPDATE sessions\n",
    "SET session_length_hours = session_length_mins / 60;\n",
    "''')\n",
    "\n",
    "conn.commit()"
   ]
  },
  {
   "cell_type": "code",
   "execution_count": null,
   "metadata": {
    "colab": {
     "base_uri": "https://localhost:8080/"
    },
    "id": "DAB7zyOY1oT_",
    "outputId": "0d25839a-f1ff-4605-ae2c-f74fcd4219ae"
   },
   "outputs": [
    {
     "data": {
      "text/plain": [
       "[]"
      ]
     },
     "execution_count": 150,
     "metadata": {},
     "output_type": "execute_result"
    }
   ],
   "source": [
    "cursor.execute('''\n",
    "SELECT *\n",
    "FROM sessions\n",
    "WHERE session_length_mins > 60\n",
    "AND session_length_hours IS NULL\n",
    "LIMIT 3\n",
    "''')\n",
    "\n",
    "added_hour_check = cursor.fetchall()\n",
    "added_hour_check"
   ]
  },
  {
   "cell_type": "markdown",
   "metadata": {
    "id": "5akQufLdzkXC"
   },
   "source": [
    "**Joining the events and the session tables**"
   ]
  },
  {
   "cell_type": "code",
   "execution_count": null,
   "metadata": {
    "colab": {
     "base_uri": "https://localhost:8080/"
    },
    "id": "_NybNUsz2ndp",
    "outputId": "329268a8-df3c-435a-9bd0-0f996b56cf04"
   },
   "outputs": [
    {
     "name": "stdout",
     "output_type": "stream",
     "text": [
      "+-----------------------------+\n",
      "|   Unmatched_workspace_count |\n",
      "+=============================+\n",
      "|                           0 |\n",
      "+-----------------------------+\n"
     ]
    }
   ],
   "source": [
    "cursor.execute('''\n",
    "SELECT COUNT(DISTINCT s.workspace_id) AS unmatched_workspace_count\n",
    "FROM sessions s\n",
    "LEFT JOIN events e\n",
    "    ON s.workspace_id = e.workspace_id\n",
    "WHERE e.workspace_id IS NULL;\n",
    "''')\n",
    "\n",
    "unmatched_workspace_count = cursor.fetchall()\n",
    "unmatched_workspace_count\n",
    "\n",
    "headers = [\"Unmatched_workspace_count\"]\n",
    "\n",
    "print(tabulate(unmatched_workspace_count, headers=headers, tablefmt=\"grid\"))"
   ]
  },
  {
   "cell_type": "code",
   "execution_count": null,
   "metadata": {
    "colab": {
     "base_uri": "https://localhost:8080/"
    },
    "id": "RfMZ_bjD0x-D",
    "outputId": "f9218795-dbce-4e03-f39c-d4ad5c59888e"
   },
   "outputs": [
    {
     "name": "stdout",
     "output_type": "stream",
     "text": [
      "+--------------------------+\n",
      "|   Common_workspace_count |\n",
      "+==========================+\n",
      "|                    14884 |\n",
      "+--------------------------+\n"
     ]
    }
   ],
   "source": [
    "cursor.execute('''\n",
    "SELECT COUNT(DISTINCT s.workspace_id) AS common_workspace_count\n",
    "FROM sessions s\n",
    "JOIN events e\n",
    "    ON s.workspace_id = e.workspace_id;\n",
    "''')\n",
    "\n",
    "common_workspace_count = cursor.fetchall()\n",
    "common_workspace_count\n",
    "\n",
    "headers = [\"Common_workspace_count\"]\n",
    "\n",
    "print(tabulate(common_workspace_count, headers=headers, tablefmt=\"grid\"))"
   ]
  },
  {
   "cell_type": "markdown",
   "metadata": {
    "id": "XnEVk3S82w-O"
   },
   "source": [
    "All the workspace_id are in both of the tables."
   ]
  },
  {
   "cell_type": "markdown",
   "metadata": {
    "id": "cJ16gFakDlpV"
   },
   "source": [
    "**Top15 longest time spent on workspace**"
   ]
  },
  {
   "cell_type": "code",
   "execution_count": null,
   "metadata": {
    "colab": {
     "base_uri": "https://localhost:8080/"
    },
    "id": "tbS3GSe0yM-Q",
    "outputId": "f1ca5665-5c21-4b8b-d032-bf563b47b5f3"
   },
   "outputs": [
    {
     "name": "stdout",
     "output_type": "stream",
     "text": [
      "+--------------------------------------+------------------+-----------------------------+------------------------------+\n",
      "| Workspace_id                         |   Total_sessions |   Total_session_length_mins |   Total_session_length_hours |\n",
      "+======================================+==================+=============================+==============================+\n",
      "| 62e32c24-83ba-484b-a0da-25861f5e9be3 |            53120 |                      700160 |                         3200 |\n",
      "+--------------------------------------+------------------+-----------------------------+------------------------------+\n",
      "| e05fe368-3533-4a84-bb32-fec24d8a50fb |            18900 |                      283320 |                         1260 |\n",
      "+--------------------------------------+------------------+-----------------------------+------------------------------+\n",
      "| 5ac0b8c1-6c83-405e-b6bd-c4c1e14bbe5f |            52334 |                      558866 |                         1146 |\n",
      "+--------------------------------------+------------------+-----------------------------+------------------------------+\n",
      "| 69f35e81-29e2-4ccb-9c1d-959ff576b724 |            10320 |                      187560 |                          600 |\n",
      "+--------------------------------------+------------------+-----------------------------+------------------------------+\n",
      "| bea17af7-e293-48b4-ad8f-dbd758083209 |             6435 |                      116028 |                          495 |\n",
      "+--------------------------------------+------------------+-----------------------------+------------------------------+\n",
      "| a155f847-6808-4928-8e19-7e3077166f4c |             3874 |                       83408 |                          494 |\n",
      "+--------------------------------------+------------------+-----------------------------+------------------------------+\n",
      "| 20ea2866-bac9-4163-b6ea-5a64dbfa9b6d |             2015 |                       52650 |                          455 |\n",
      "+--------------------------------------+------------------+-----------------------------+------------------------------+\n",
      "| 1ea086aa-553c-4ec4-9b3b-3ae3e9c3dfee |             5148 |                       70980 |                          312 |\n",
      "+--------------------------------------+------------------+-----------------------------+------------------------------+\n"
     ]
    }
   ],
   "source": [
    "cursor.execute('''\n",
    "SELECT\n",
    "    e.workspace_id,\n",
    "    COUNT(s.session_start) AS total_sessions,\n",
    "    SUM(s.session_length_mins) AS total_session_length_mins,\n",
    "    SUM(s.session_length_hours) AS total_session_length_hours\n",
    "FROM events e\n",
    "JOIN sessions s\n",
    "    ON e.workspace_id = s.workspace_id\n",
    "GROUP BY e.workspace_id\n",
    "ORDER BY total_session_length_hours DESC\n",
    "LIMIT 8\n",
    "''')\n",
    "\n",
    "wpid_sessionlength_top15 = cursor.fetchall()\n",
    "wpid_sessionlength_top15\n",
    "\n",
    "headers = [\"Workspace_id\", \"Total_sessions\",\"Total_session_length_mins\", \"Total_session_length_hours\"]\n",
    "\n",
    "print(tabulate(wpid_sessionlength_top15, headers=headers, tablefmt=\"grid\"))"
   ]
  },
  {
   "cell_type": "code",
   "execution_count": null,
   "metadata": {
    "colab": {
     "base_uri": "https://localhost:8080/"
    },
    "id": "AuZzuiSqL69P",
    "outputId": "8f0d5f71-0e8c-44bb-d6fd-3015fc672832"
   },
   "outputs": [
    {
     "name": "stdout",
     "output_type": "stream",
     "text": [
      "+--------------------------------------+------------------+-----------------------------+------------------------------+\n",
      "| Workspace_id                         |   Total_sessions |   Total_session_length_mins |   Total_session_length_hours |\n",
      "+======================================+==================+=============================+==============================+\n",
      "| 62e32c24-83ba-484b-a0da-25861f5e9be3 |            53120 |                      700160 |                         3200 |\n",
      "+--------------------------------------+------------------+-----------------------------+------------------------------+\n",
      "| 5ac0b8c1-6c83-405e-b6bd-c4c1e14bbe5f |            52334 |                      558866 |                         1146 |\n",
      "+--------------------------------------+------------------+-----------------------------+------------------------------+\n",
      "| fe147c57-9525-466d-94db-0e267e7bb5bf |            21684 |                      129636 |                            0 |\n",
      "+--------------------------------------+------------------+-----------------------------+------------------------------+\n",
      "| e05fe368-3533-4a84-bb32-fec24d8a50fb |            18900 |                      283320 |                         1260 |\n",
      "+--------------------------------------+------------------+-----------------------------+------------------------------+\n",
      "| 4a5e4e45-820c-41dd-96c3-0b46847859b0 |            15250 |                      130418 |                            0 |\n",
      "+--------------------------------------+------------------+-----------------------------+------------------------------+\n"
     ]
    }
   ],
   "source": [
    "cursor.execute('''\n",
    "SELECT\n",
    "    e.workspace_id,\n",
    "    COUNT(s.session_start) AS total_sessions,\n",
    "    SUM(s.session_length_mins) AS total_session_length_mins,\n",
    "    SUM(s.session_length_hours) AS total_session_length_hours\n",
    "FROM events e\n",
    "JOIN sessions s\n",
    "    ON e.workspace_id = s.workspace_id\n",
    "GROUP BY e.workspace_id\n",
    "ORDER BY total_sessions DESC\n",
    "LIMIT 5\n",
    "''')\n",
    "\n",
    "total_sessions = cursor.fetchall()\n",
    "total_sessions\n",
    "\n",
    "headers = [\"Workspace_id\", \"Total_sessions\",\"Total_session_length_mins\", \"Total_session_length_hours\"]\n",
    "\n",
    "print(tabulate(total_sessions, headers=headers, tablefmt=\"grid\"))"
   ]
  },
  {
   "cell_type": "code",
   "execution_count": null,
   "metadata": {
    "colab": {
     "base_uri": "https://localhost:8080/"
    },
    "id": "PBqjEd-h3e8N",
    "outputId": "c046970d-2b9e-4433-cdd4-4ae7f3907118"
   },
   "outputs": [
    {
     "name": "stdout",
     "output_type": "stream",
     "text": [
      "+--------------------------------------+------------------+------------------------------+\n",
      "| Workspace_id                         |   Total_sessions |   Total_session_length_hours |\n",
      "+======================================+==================+==============================+\n",
      "| 001c09e8-5b7a-432d-af5a-2e52ecbf5848 |              468 |                            0 |\n",
      "+--------------------------------------+------------------+------------------------------+\n",
      "| 0020129b-116b-4310-873e-b8a36940888d |                2 |                            0 |\n",
      "+--------------------------------------+------------------+------------------------------+\n",
      "| 00233201-88f2-4756-87c1-3966e584c7b7 |                1 |                            0 |\n",
      "+--------------------------------------+------------------+------------------------------+\n",
      "| 00295501-9c2e-4403-bcd6-4b1d1320626a |                6 |                            0 |\n",
      "+--------------------------------------+------------------+------------------------------+\n",
      "| 0029a86e-d0e4-4b83-a3c1-0316b1eff793 |                1 |                            0 |\n",
      "+--------------------------------------+------------------+------------------------------+\n",
      "| 0035e589-6bd9-4533-a2fe-31079e121952 |                1 |                            0 |\n",
      "+--------------------------------------+------------------+------------------------------+\n",
      "| 00379631-085f-4614-bab0-c11576a708fd |                2 |                            0 |\n",
      "+--------------------------------------+------------------+------------------------------+\n"
     ]
    }
   ],
   "source": [
    "cursor.execute('''\n",
    "SELECT\n",
    "    e.workspace_id,\n",
    "    COUNT(s.session_start) AS total_sessions,\n",
    "    SUM(s.session_length_hours) AS total_session_length_hours\n",
    "FROM events e\n",
    "JOIN sessions s\n",
    "    ON e.workspace_id = s.workspace_id\n",
    "GROUP BY e.workspace_id\n",
    "ORDER BY total_session_length_hours ASC\n",
    "LIMIT 7\n",
    "''')\n",
    "\n",
    "wpid_sessionlength_last15 = cursor.fetchall()\n",
    "wpid_sessionlength_last15\n",
    "\n",
    "headers = [\"Workspace_id\", \"Total_sessions\", \"Total_session_length_hours\"]\n",
    "\n",
    "print(tabulate(wpid_sessionlength_last15, headers=headers, tablefmt=\"grid\"))"
   ]
  },
  {
   "cell_type": "markdown",
   "metadata": {
    "id": "k0JgyPY3CYji"
   },
   "source": [
    "**Copy & deleting the session_length_minutes with zero values**"
   ]
  },
  {
   "cell_type": "code",
   "execution_count": null,
   "metadata": {
    "id": "foPYT3LHzpzt"
   },
   "outputs": [],
   "source": [
    "cursor.execute('''\n",
    "CREATE TABLE sessions_backup AS\n",
    "SELECT * FROM sessions;\n",
    "''')\n",
    "\n",
    "conn.commit()\n"
   ]
  },
  {
   "cell_type": "code",
   "execution_count": null,
   "metadata": {
    "id": "FsEvjQ3_zp6B"
   },
   "outputs": [],
   "source": [
    "cursor.execute('''\n",
    "DELETE FROM sessions\n",
    "WHERE session_length_mins = 0;\n",
    "''')\n",
    "\n",
    "conn.commit()"
   ]
  },
  {
   "cell_type": "code",
   "execution_count": null,
   "metadata": {
    "colab": {
     "base_uri": "https://localhost:8080/"
    },
    "id": "hFiCOYAVEKk4",
    "outputId": "5608e825-15e1-496f-8dcf-0bbccc13170b"
   },
   "outputs": [
    {
     "data": {
      "text/plain": [
       "[(0, 'id', 'INTEGER', 0, None, 1),\n",
       " (1, 'user_id', 'TEXT', 0, None, 0),\n",
       " (2, 'workspace_id', 'TEXT', 0, None, 0),\n",
       " (3, 'platform', 'TEXT', 0, None, 0),\n",
       " (4, 'session_start', 'TEXT', 0, None, 0),\n",
       " (5, 'session_end', 'TEXT', 0, None, 0),\n",
       " (6, 'session_length_secs', 'INT', 0, None, 0),\n",
       " (7, 'session_length_mins', 'INT', 0, None, 0),\n",
       " (8, 'session_length_hours', 'REAL', 0, None, 0)]"
      ]
     },
     "execution_count": 158,
     "metadata": {},
     "output_type": "execute_result"
    }
   ],
   "source": [
    "cursor.execute('''\n",
    "PRAGMA table_info(sessions);\n",
    "''')\n",
    "\n",
    "columns = cursor.fetchall()\n",
    "columns"
   ]
  },
  {
   "cell_type": "code",
   "execution_count": null,
   "metadata": {
    "colab": {
     "base_uri": "https://localhost:8080/"
    },
    "id": "gd0WLmYmDyoI",
    "outputId": "4adfe7af-a849-41db-eea9-8ff17f20468d"
   },
   "outputs": [
    {
     "name": "stdout",
     "output_type": "stream",
     "text": [
      "+-----------------------------+------------------------------+\n",
      "|   Total_session_length_mins |   Total_session_length_hours |\n",
      "+=============================+==============================+\n",
      "|                          32 |                            0 |\n",
      "+-----------------------------+------------------------------+\n",
      "|                           6 |                            0 |\n",
      "+-----------------------------+------------------------------+\n",
      "|                          11 |                            0 |\n",
      "+-----------------------------+------------------------------+\n"
     ]
    }
   ],
   "source": [
    "cursor.execute('''\n",
    "SELECT session_length_mins,session_length_hours\n",
    "FROM sessions\n",
    "LIMIT 3\n",
    "''')\n",
    "\n",
    "zero_deleted = cursor.fetchall()\n",
    "zero_deleted\n",
    "\n",
    "headers = [\"Total_session_length_mins\", \"Total_session_length_hours\"]\n",
    "\n",
    "print(tabulate(zero_deleted, headers=headers, tablefmt=\"grid\"))\n"
   ]
  },
  {
   "cell_type": "markdown",
   "metadata": {
    "id": "99Op9p09DHel"
   },
   "source": [
    "**Checeking the last 15 -after zero values deleted**"
   ]
  },
  {
   "cell_type": "code",
   "execution_count": null,
   "metadata": {
    "colab": {
     "base_uri": "https://localhost:8080/"
    },
    "id": "3GORKyNzzp-t",
    "outputId": "4e7c3195-77fe-4b20-f71c-cd6c263cbeb4"
   },
   "outputs": [
    {
     "name": "stdout",
     "output_type": "stream",
     "text": [
      "+--------------------------------------+------------------+-----------------------------+------------------------------+\n",
      "| Workspace_id                         |   Total_sessions |   Total_session_length_mins |   Total_session_length_hours |\n",
      "+======================================+==================+=============================+==============================+\n",
      "| 0066bbbf-5000-4e58-90d8-0f87a7d9264b |                1 |                           1 |                    0.0166667 |\n",
      "+--------------------------------------+------------------+-----------------------------+------------------------------+\n",
      "| 00a8afcd-a8e2-4524-aa68-4a4ae0a92984 |                1 |                           1 |                    0.0166667 |\n",
      "+--------------------------------------+------------------+-----------------------------+------------------------------+\n",
      "| 01918d34-3cd0-4f60-af33-b9f26613f282 |                1 |                           1 |                    0.0166667 |\n",
      "+--------------------------------------+------------------+-----------------------------+------------------------------+\n",
      "| 01a806bd-d305-42d5-b8db-6aa5050f18fe |                1 |                           1 |                    0.0166667 |\n",
      "+--------------------------------------+------------------+-----------------------------+------------------------------+\n",
      "| 0212735b-bdfb-4d43-aa09-89003e362f0b |                1 |                           1 |                    0.0166667 |\n",
      "+--------------------------------------+------------------+-----------------------------+------------------------------+\n",
      "| 02509016-2568-4db3-8cb2-c18157974f93 |                1 |                           1 |                    0.0166667 |\n",
      "+--------------------------------------+------------------+-----------------------------+------------------------------+\n",
      "| 0369e0e4-a3ee-4ea4-a657-2df12f410320 |                1 |                           1 |                    0.0166667 |\n",
      "+--------------------------------------+------------------+-----------------------------+------------------------------+\n"
     ]
    }
   ],
   "source": [
    "cursor.execute('''\n",
    "SELECT\n",
    "    e.workspace_id,\n",
    "    COUNT(s.session_start) AS total_sessions,\n",
    "    SUM(s.session_length_mins) AS total_session_length_mins,\n",
    "    SUM(s.session_length_mins) / 60.0 AS total_session_length_hours\n",
    "FROM events e\n",
    "JOIN sessions s\n",
    "    ON e.workspace_id = s.workspace_id\n",
    "GROUP BY e.workspace_id\n",
    "ORDER BY total_session_length_hours ASC\n",
    "LIMIT 7\n",
    "''')\n",
    "\n",
    "wpid_sessionlength_last15_02 = cursor.fetchall()\n",
    "wpid_sessionlength_last15_02\n",
    "\n",
    "headers = [\"Workspace_id\", \"Total_sessions\", \"Total_session_length_mins\", \"Total_session_length_hours\"]\n",
    "\n",
    "print(tabulate(wpid_sessionlength_last15_02, headers=headers, tablefmt=\"grid\"))"
   ]
  },
  {
   "cell_type": "markdown",
   "metadata": {
    "id": "JmXggqMcM2-z"
   },
   "source": [
    "Since there are many 1,2,3 minutes sessions, even though I deleted the zero values, this could also distort our average time spent on workspaces."
   ]
  },
  {
   "cell_type": "code",
   "execution_count": null,
   "metadata": {
    "id": "obS0MztGOzFu"
   },
   "outputs": [],
   "source": [
    "conn.close()"
   ]
  }
 ],
 "metadata": {
  "colab": {
   "provenance": []
  },
  "kernelspec": {
   "display_name": "Python 3 (ipykernel)",
   "language": "python",
   "name": "python3"
  },
  "language_info": {
   "codemirror_mode": {
    "name": "ipython",
    "version": 3
   },
   "file_extension": ".py",
   "mimetype": "text/x-python",
   "name": "python",
   "nbconvert_exporter": "python",
   "pygments_lexer": "ipython3",
   "version": "3.11.9"
  }
 },
 "nbformat": 4,
 "nbformat_minor": 4
}
