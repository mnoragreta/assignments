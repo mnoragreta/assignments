{
 "cells": [
  {
   "cell_type": "markdown",
   "id": "323e7c8e-dbec-46b3-8721-08e363bad721",
   "metadata": {},
   "source": [
    "Task 1: Define and implement a “design creation to export” metric\n",
    "a.\tPlease take a deeper look at the design events dataset! Run an exploratory data analysis to understand what the data represents! Summarize your understanding, findings and insights!\n",
    "b.\tDefine a  “design creation to export” rate you would use!\n",
    "c.\tWhat are your insights and learnings from the analyses? How would you present it to your team and Product manager?"
   ]
  },
  {
   "cell_type": "markdown",
   "id": "809f1936-c8f1-4818-b410-0883d035ee2e",
   "metadata": {
    "id": "8b32ce74-57d1-43c4-af1f-b70e0712dc1e"
   },
   "source": [
    "#### Additional info based on my research on understanding the product.\n",
    "\n",
    "#### Typical User Workflow in Shapr3D:\n",
    "\n",
    "##### 1. Creating a Design\n",
    "The user **starts a new project** in Shapr3D. Not all created designs are developed further.This could be a quick test or an actual product design.  \n",
    "\n",
    "##### 2. Modifying the Design  \n",
    "Renaming suggests the user **organizes their work**. Usually happens when the user sees value in their design and wants to save it properly.  \n",
    "\n",
    "##### 3. Opening & Working on the Design\n",
    "Users **revisit their projects multiple times**, meaning they are **actively working** on designs over multiple sessions. Indicates engagement with the software.  \n",
    "\n",
    "##### 4. Exporting the Design  \n",
    "Shows the intention of **using the design outside** Shapr3D (e.g., for manufacturing, 3D printing, or sharing). Indicates **serious usage** rather than just testing the tool.  "
   ]
  },
  {
   "cell_type": "code",
   "execution_count": 3,
   "id": "3d119a23-b4ce-4cbc-a481-aae8588064de",
   "metadata": {
    "id": "3d119a23-b4ce-4cbc-a481-aae8588064de"
   },
   "outputs": [],
   "source": [
    "import numpy as np\n",
    "import pandas as pd\n",
    "import warnings\n",
    "warnings.filterwarnings(\"ignore\")\n",
    "pd.set_option('display.max_colwidth', None)\n",
    "\n",
    "import sqlite3\n",
    "from tabulate import tabulate\n",
    "import matplotlib.pyplot as plt\n",
    "import seaborn as sns"
   ]
  },
  {
   "cell_type": "code",
   "execution_count": 4,
   "id": "48eb607d-2e21-4a16-9797-236cc38fcd64",
   "metadata": {
    "id": "48eb607d-2e21-4a16-9797-236cc38fcd64"
   },
   "outputs": [],
   "source": [
    "design_events = pd.read_csv(r\"C:\\Users\\lily\\Desktop\\DS interview prep\\Interviews\\Shapr3D\\DA_homework_files_design_events.csv\")\n",
    "#design_events = pd.read_csv('/content/DA_home_task_files_design_events.csv')"
   ]
  },
  {
   "cell_type": "code",
   "execution_count": 4,
   "id": "SJFSk5oeduzL",
   "metadata": {
    "id": "SJFSk5oeduzL"
   },
   "outputs": [],
   "source": []
  },
  {
   "cell_type": "markdown",
   "id": "aa8e5c05-0f9a-4e92-a64f-63932bd32e68",
   "metadata": {
    "id": "aa8e5c05-0f9a-4e92-a64f-63932bd32e68"
   },
   "source": [
    "#### SQLite EDA"
   ]
  },
  {
   "cell_type": "markdown",
   "id": "7b089df0-3d81-4102-9087-f26271acac2f",
   "metadata": {
    "id": "7b089df0-3d81-4102-9087-f26271acac2f"
   },
   "source": [
    "*Colum names extraction*"
   ]
  },
  {
   "cell_type": "code",
   "execution_count": 5,
   "id": "3d41a613-7316-451a-9846-cabe2eb77f64",
   "metadata": {
    "colab": {
     "base_uri": "https://localhost:8080/"
    },
    "id": "3d41a613-7316-451a-9846-cabe2eb77f64",
    "outputId": "06d5d37f-455b-4fed-a22b-6f7c7a26f482"
   },
   "outputs": [
    {
     "data": {
      "text/plain": [
       "Index(['event_name', 'device_platform', 'event_time', 'user_id',\n",
       "       'active_team_id', 'app_version', 'workspace_id', 'workspace_uuid',\n",
       "       'file_format', 'resolution'],\n",
       "      dtype='object')"
      ]
     },
     "execution_count": 5,
     "metadata": {},
     "output_type": "execute_result"
    }
   ],
   "source": [
    "design_events.columns"
   ]
  },
  {
   "cell_type": "markdown",
   "id": "381ca6e1-5d7e-4bdb-bdd0-ef15217db51e",
   "metadata": {
    "id": "381ca6e1-5d7e-4bdb-bdd0-ef15217db51e"
   },
   "source": [
    "*Connect to SQLite - automatical database file creation* \n",
    "\n",
    "*Create an in-memory database*"
   ]
  },
  {
   "cell_type": "code",
   "execution_count": 6,
   "id": "454f2c7c-3e03-4e2c-afff-8caf1901908f",
   "metadata": {
    "id": "454f2c7c-3e03-4e2c-afff-8caf1901908f"
   },
   "outputs": [],
   "source": [
    "conn = sqlite3.connect(\"shapr3d.db\")\n",
    "cursor = conn.cursor()"
   ]
  },
  {
   "cell_type": "markdown",
   "id": "03d24b99-f795-4b86-8b10-027c7e8b28c2",
   "metadata": {
    "id": "03d24b99-f795-4b86-8b10-027c7e8b28c2"
   },
   "source": [
    "*Data load into SQLite table called design_events*"
   ]
  },
  {
   "cell_type": "code",
   "execution_count": 7,
   "id": "WXZi0PJMkUcl",
   "metadata": {
    "colab": {
     "base_uri": "https://localhost:8080/"
    },
    "id": "WXZi0PJMkUcl",
    "outputId": "45229c1a-5885-46a3-c30a-279217589be6"
   },
   "outputs": [
    {
     "data": {
      "text/plain": [
       "73008"
      ]
     },
     "execution_count": 7,
     "metadata": {},
     "output_type": "execute_result"
    }
   ],
   "source": [
    "#This loads the dataset into SQLite without modifications.\n",
    "design_events.to_sql(\"temp_events\", conn, if_exists=\"replace\", index=False)"
   ]
  },
  {
   "cell_type": "markdown",
   "id": "a0a54b90-ddcf-41d8-9110-2f7ec3d8e87e",
   "metadata": {
    "id": "a0a54b90-ddcf-41d8-9110-2f7ec3d8e87e"
   },
   "source": [
    "*Create the SQLite table (inside of the database) for efficient queries and adding primary key*"
   ]
  },
  {
   "cell_type": "code",
   "execution_count": 8,
   "id": "407138d6-6aa3-49a4-8966-653099d0e7cb",
   "metadata": {
    "id": "407138d6-6aa3-49a4-8966-653099d0e7cb"
   },
   "outputs": [],
   "source": [
    "cursor.execute(\"\"\"\n",
    "    CREATE TABLE events (\n",
    "        id INTEGER PRIMARY KEY AUTOINCREMENT,\n",
    "        event_name TEXT,\n",
    "        device_platform TEXT,\n",
    "        event_time TEXT,\n",
    "        user_id TEXT,\n",
    "        active_team_id TEXT,\n",
    "        app_version TEXT,\n",
    "        workspace_id TEXT,\n",
    "        workspace_uuid TEXT,\n",
    "        file_format TEXT,\n",
    "        resolution TEXT\n",
    "    )\n",
    "\"\"\")\n",
    "\n",
    "cursor.execute(\"\"\"\n",
    "    INSERT INTO events (event_name, device_platform, event_time, user_id, active_team_id, app_version, workspace_id, workspace_uuid, file_format, resolution)\n",
    "    SELECT event_name, device_platform, event_time, user_id, active_team_id, app_version, workspace_id, workspace_uuid, file_format, resolution \n",
    "    FROM temp_events\n",
    "\"\"\")\n",
    "\n",
    "#Simple Queries Don't Need Triple Quotes\n",
    "cursor.execute(\"DROP TABLE temp_events\")\n",
    "conn.commit()"
   ]
  },
  {
   "cell_type": "code",
   "execution_count": 8,
   "id": "eafc2e75-2906-4755-8409-2450200fa554",
   "metadata": {
    "id": "eafc2e75-2906-4755-8409-2450200fa554"
   },
   "outputs": [],
   "source": []
  },
  {
   "cell_type": "markdown",
   "id": "f6384de8-d6b1-488f-923f-f693c845aa23",
   "metadata": {
    "id": "f6384de8-d6b1-488f-923f-f693c845aa23"
   },
   "source": [
    "#### Table rows & columns"
   ]
  },
  {
   "cell_type": "code",
   "execution_count": 9,
   "id": "48e9352d-47c9-4b10-a3b6-012a67f0d878",
   "metadata": {
    "colab": {
     "base_uri": "https://localhost:8080/"
    },
    "id": "48e9352d-47c9-4b10-a3b6-012a67f0d878",
    "outputId": "d32cdd36-26c1-4fb6-f3d5-7ed6d1d2a4a8"
   },
   "outputs": [
    {
     "data": {
      "text/plain": [
       "73008"
      ]
     },
     "execution_count": 9,
     "metadata": {},
     "output_type": "execute_result"
    }
   ],
   "source": [
    "cursor.execute('''\n",
    "    SELECT COUNT(*)\n",
    "    FROM events\n",
    "''')\n",
    "\n",
    "rows = cursor.fetchone()[0]\n",
    "rows"
   ]
  },
  {
   "cell_type": "code",
   "execution_count": 10,
   "id": "22571823-32a7-4941-a67e-98b68e5d0246",
   "metadata": {
    "colab": {
     "base_uri": "https://localhost:8080/"
    },
    "id": "22571823-32a7-4941-a67e-98b68e5d0246",
    "outputId": "863fc7ef-3661-46e6-aecf-4f79313e3182"
   },
   "outputs": [
    {
     "name": "stdout",
     "output_type": "stream",
     "text": [
      "(1, 'design_created', 'Windows', '2024-11-26 07:55:47.896000', '84d9a7e6-e84e-4498-b963-ab37f2422054', 'd34a926b-76c3-4f25-9fd7-c1bfdb45aebc', '5.650.7126.0', None, 'fdb471ff-6a91-49aa-8d33-e9cf129ad978', None, None)\n",
      "(2, 'design_created', 'Windows', '2024-10-23 14:54:54.831000', '47405968-d781-4fa1-8f63-85e54b58a7bc', 'd56aa67d-6879-46e7-bb20-3a086fcb0050', '5.730.7613.0', None, '2b586791-b98e-4ba7-8c27-c2ac1cb28918', None, None)\n"
     ]
    }
   ],
   "source": [
    "cursor.execute(\"SELECT * FROM events LIMIT 2\")\n",
    "rows = cursor.fetchall()\n",
    "for row in rows:\n",
    "    print(row)"
   ]
  },
  {
   "cell_type": "code",
   "execution_count": 11,
   "id": "b8002e92-8dd7-4810-863f-22eb6e50400d",
   "metadata": {
    "colab": {
     "base_uri": "https://localhost:8080/"
    },
    "id": "b8002e92-8dd7-4810-863f-22eb6e50400d",
    "outputId": "102532dd-e470-4c37-ef3d-9edd90ae67d0"
   },
   "outputs": [
    {
     "data": {
      "text/plain": [
       "['id',\n",
       " 'event_name',\n",
       " 'device_platform',\n",
       " 'event_time',\n",
       " 'user_id',\n",
       " 'active_team_id',\n",
       " 'app_version',\n",
       " 'workspace_id',\n",
       " 'workspace_uuid',\n",
       " 'file_format',\n",
       " 'resolution']"
      ]
     },
     "execution_count": 11,
     "metadata": {},
     "output_type": "execute_result"
    }
   ],
   "source": [
    "cursor.execute('''\n",
    "    SELECT *\n",
    "    FROM events\n",
    "    LIMIT 1\n",
    "''')\n",
    "\n",
    "#cursor.description is an attribute of a database cursor - ATTRIBUTE\n",
    "column_names = [description[0] for description in cursor.description]\n",
    "column_names"
   ]
  },
  {
   "cell_type": "markdown",
   "id": "3757d27a-a328-46f2-88a0-7bd56b2b5922",
   "metadata": {
    "id": "3757d27a-a328-46f2-88a0-7bd56b2b5922"
   },
   "source": [
    "#### Checking for duplicates"
   ]
  },
  {
   "cell_type": "code",
   "execution_count": 12,
   "id": "92bcdbfd-e7a0-49d2-9fe2-dbb23c33fb83",
   "metadata": {
    "colab": {
     "base_uri": "https://localhost:8080/"
    },
    "id": "92bcdbfd-e7a0-49d2-9fe2-dbb23c33fb83",
    "outputId": "0b713d37-f311-45e6-bd80-fd5872505e1c"
   },
   "outputs": [
    {
     "data": {
      "text/plain": [
       "44"
      ]
     },
     "execution_count": 12,
     "metadata": {},
     "output_type": "execute_result"
    }
   ],
   "source": [
    "cursor.execute('''\n",
    "SELECT COUNT(*)\n",
    "FROM (\n",
    "    SELECT COUNT(*)\n",
    "    FROM events\n",
    "    GROUP BY event_name, device_platform, event_time, user_id, active_team_id, app_version, workspace_id, workspace_uuid, file_format, resolution\n",
    "    HAVING COUNT(*) > 1\n",
    ") AS duplicates\n",
    "''')\n",
    "\n",
    "duplicates = cursor.fetchone()[0]\n",
    "duplicates"
   ]
  },
  {
   "cell_type": "markdown",
   "id": "61a52363-6126-430e-9de6-4ffbe2f0e764",
   "metadata": {
    "id": "61a52363-6126-430e-9de6-4ffbe2f0e764"
   },
   "source": [
    "#### Deleting duplications"
   ]
  },
  {
   "cell_type": "code",
   "execution_count": 13,
   "id": "bd32999b-dd27-4e19-bd77-0bf3409f47bf",
   "metadata": {
    "id": "bd32999b-dd27-4e19-bd77-0bf3409f47bf"
   },
   "outputs": [],
   "source": [
    "# Common Table Expression (CTE)\n",
    "# From each duplicate group, it selects the minimum ROWID the \"first\" row to keep \n",
    "\n",
    "cursor.execute('''\n",
    "WITH Duplicates AS (\n",
    "    SELECT MIN(ROWID) AS keep_rowid\n",
    "    FROM events\n",
    "    GROUP BY event_name, device_platform, event_time, user_id, active_team_id, app_version, workspace_id, workspace_uuid, file_format, resolution\n",
    "    HAVING COUNT(*) > 1\n",
    ")\n",
    "\n",
    "DELETE FROM events\n",
    "WHERE ROWID NOT IN (\n",
    "    SELECT MIN(ROWID)\n",
    "    FROM events\n",
    "    GROUP BY event_name, device_platform, event_time, user_id, active_team_id, app_version, workspace_id, workspace_uuid, file_format, resolution\n",
    ")\n",
    "''')\n",
    "#All the unique rows in the nested query\n",
    "#The ROWID NOT IN (...) part means \"delete all rows whose ROWID is not in the list returned by the inner query\"\n",
    "conn.commit()"
   ]
  },
  {
   "cell_type": "code",
   "execution_count": 14,
   "id": "3f0a08c8-601f-4e45-95c6-480e6ee30ec1",
   "metadata": {
    "colab": {
     "base_uri": "https://localhost:8080/"
    },
    "id": "3f0a08c8-601f-4e45-95c6-480e6ee30ec1",
    "outputId": "8aeee826-a16b-45db-93db-f8e6c5159e54"
   },
   "outputs": [
    {
     "data": {
      "text/plain": [
       "72964"
      ]
     },
     "execution_count": 14,
     "metadata": {},
     "output_type": "execute_result"
    }
   ],
   "source": [
    "cursor.execute('''\n",
    "    SELECT COUNT(*)\n",
    "    FROM events\n",
    "''')\n",
    "\n",
    "rows02 = cursor.fetchone()[0]\n",
    "rows02"
   ]
  },
  {
   "cell_type": "markdown",
   "id": "e1a14e0e-53ca-44b4-95bd-8b46ff61a29c",
   "metadata": {
    "id": "e1a14e0e-53ca-44b4-95bd-8b46ff61a29c"
   },
   "source": [
    "#### Checking for non-null values"
   ]
  },
  {
   "cell_type": "code",
   "execution_count": 15,
   "id": "c1d7952f-e036-48b2-8c69-ffdb8df38e7e",
   "metadata": {
    "colab": {
     "base_uri": "https://localhost:8080/",
     "height": 125
    },
    "id": "c1d7952f-e036-48b2-8c69-ffdb8df38e7e",
    "outputId": "eafffbbf-1527-4e1d-f0c3-ca1c9274d9bf"
   },
   "outputs": [
    {
     "name": "stdout",
     "output_type": "stream",
     "text": [
      "\n",
      "Non-null values in each column:\n"
     ]
    },
    {
     "data": {
      "application/vnd.google.colaboratory.intrinsic+json": {
       "summary": "{\n  \"name\": \"non_null\",\n  \"rows\": 1,\n  \"fields\": [\n    {\n      \"column\": \"event_name\",\n      \"properties\": {\n        \"dtype\": \"number\",\n        \"std\": null,\n        \"min\": 72964,\n        \"max\": 72964,\n        \"num_unique_values\": 1,\n        \"samples\": [\n          72964\n        ],\n        \"semantic_type\": \"\",\n        \"description\": \"\"\n      }\n    },\n    {\n      \"column\": \"device_platform\",\n      \"properties\": {\n        \"dtype\": \"number\",\n        \"std\": null,\n        \"min\": 72964,\n        \"max\": 72964,\n        \"num_unique_values\": 1,\n        \"samples\": [\n          72964\n        ],\n        \"semantic_type\": \"\",\n        \"description\": \"\"\n      }\n    },\n    {\n      \"column\": \"event_time\",\n      \"properties\": {\n        \"dtype\": \"number\",\n        \"std\": null,\n        \"min\": 72964,\n        \"max\": 72964,\n        \"num_unique_values\": 1,\n        \"samples\": [\n          72964\n        ],\n        \"semantic_type\": \"\",\n        \"description\": \"\"\n      }\n    },\n    {\n      \"column\": \"user_id\",\n      \"properties\": {\n        \"dtype\": \"number\",\n        \"std\": null,\n        \"min\": 72964,\n        \"max\": 72964,\n        \"num_unique_values\": 1,\n        \"samples\": [\n          72964\n        ],\n        \"semantic_type\": \"\",\n        \"description\": \"\"\n      }\n    },\n    {\n      \"column\": \"active_team_id\",\n      \"properties\": {\n        \"dtype\": \"number\",\n        \"std\": null,\n        \"min\": 72123,\n        \"max\": 72123,\n        \"num_unique_values\": 1,\n        \"samples\": [\n          72123\n        ],\n        \"semantic_type\": \"\",\n        \"description\": \"\"\n      }\n    },\n    {\n      \"column\": \"app_version\",\n      \"properties\": {\n        \"dtype\": \"number\",\n        \"std\": null,\n        \"min\": 72964,\n        \"max\": 72964,\n        \"num_unique_values\": 1,\n        \"samples\": [\n          72964\n        ],\n        \"semantic_type\": \"\",\n        \"description\": \"\"\n      }\n    },\n    {\n      \"column\": \"workspace_id\",\n      \"properties\": {\n        \"dtype\": \"number\",\n        \"std\": null,\n        \"min\": 27321,\n        \"max\": 27321,\n        \"num_unique_values\": 1,\n        \"samples\": [\n          27321\n        ],\n        \"semantic_type\": \"\",\n        \"description\": \"\"\n      }\n    },\n    {\n      \"column\": \"workspace_uuid\",\n      \"properties\": {\n        \"dtype\": \"number\",\n        \"std\": null,\n        \"min\": 57034,\n        \"max\": 57034,\n        \"num_unique_values\": 1,\n        \"samples\": [\n          57034\n        ],\n        \"semantic_type\": \"\",\n        \"description\": \"\"\n      }\n    },\n    {\n      \"column\": \"file_format\",\n      \"properties\": {\n        \"dtype\": \"number\",\n        \"std\": null,\n        \"min\": 15928,\n        \"max\": 15928,\n        \"num_unique_values\": 1,\n        \"samples\": [\n          15928\n        ],\n        \"semantic_type\": \"\",\n        \"description\": \"\"\n      }\n    },\n    {\n      \"column\": \"resolution\",\n      \"properties\": {\n        \"dtype\": \"number\",\n        \"std\": null,\n        \"min\": 2351,\n        \"max\": 2351,\n        \"num_unique_values\": 1,\n        \"samples\": [\n          2351\n        ],\n        \"semantic_type\": \"\",\n        \"description\": \"\"\n      }\n    }\n  ]\n}",
       "type": "dataframe",
       "variable_name": "non_null"
      },
      "text/html": [
       "\n",
       "  <div id=\"df-7030bb5f-21db-4d1d-92d7-33827cb19453\" class=\"colab-df-container\">\n",
       "    <div>\n",
       "<style scoped>\n",
       "    .dataframe tbody tr th:only-of-type {\n",
       "        vertical-align: middle;\n",
       "    }\n",
       "\n",
       "    .dataframe tbody tr th {\n",
       "        vertical-align: top;\n",
       "    }\n",
       "\n",
       "    .dataframe thead th {\n",
       "        text-align: right;\n",
       "    }\n",
       "</style>\n",
       "<table border=\"1\" class=\"dataframe\">\n",
       "  <thead>\n",
       "    <tr style=\"text-align: right;\">\n",
       "      <th></th>\n",
       "      <th>event_name</th>\n",
       "      <th>device_platform</th>\n",
       "      <th>event_time</th>\n",
       "      <th>user_id</th>\n",
       "      <th>active_team_id</th>\n",
       "      <th>app_version</th>\n",
       "      <th>workspace_id</th>\n",
       "      <th>workspace_uuid</th>\n",
       "      <th>file_format</th>\n",
       "      <th>resolution</th>\n",
       "    </tr>\n",
       "  </thead>\n",
       "  <tbody>\n",
       "    <tr>\n",
       "      <th>0</th>\n",
       "      <td>72964</td>\n",
       "      <td>72964</td>\n",
       "      <td>72964</td>\n",
       "      <td>72964</td>\n",
       "      <td>72123</td>\n",
       "      <td>72964</td>\n",
       "      <td>27321</td>\n",
       "      <td>57034</td>\n",
       "      <td>15928</td>\n",
       "      <td>2351</td>\n",
       "    </tr>\n",
       "  </tbody>\n",
       "</table>\n",
       "</div>\n",
       "    <div class=\"colab-df-buttons\">\n",
       "\n",
       "  <div class=\"colab-df-container\">\n",
       "    <button class=\"colab-df-convert\" onclick=\"convertToInteractive('df-7030bb5f-21db-4d1d-92d7-33827cb19453')\"\n",
       "            title=\"Convert this dataframe to an interactive table.\"\n",
       "            style=\"display:none;\">\n",
       "\n",
       "  <svg xmlns=\"http://www.w3.org/2000/svg\" height=\"24px\" viewBox=\"0 -960 960 960\">\n",
       "    <path d=\"M120-120v-720h720v720H120Zm60-500h600v-160H180v160Zm220 220h160v-160H400v160Zm0 220h160v-160H400v160ZM180-400h160v-160H180v160Zm440 0h160v-160H620v160ZM180-180h160v-160H180v160Zm440 0h160v-160H620v160Z\"/>\n",
       "  </svg>\n",
       "    </button>\n",
       "\n",
       "  <style>\n",
       "    .colab-df-container {\n",
       "      display:flex;\n",
       "      gap: 12px;\n",
       "    }\n",
       "\n",
       "    .colab-df-convert {\n",
       "      background-color: #E8F0FE;\n",
       "      border: none;\n",
       "      border-radius: 50%;\n",
       "      cursor: pointer;\n",
       "      display: none;\n",
       "      fill: #1967D2;\n",
       "      height: 32px;\n",
       "      padding: 0 0 0 0;\n",
       "      width: 32px;\n",
       "    }\n",
       "\n",
       "    .colab-df-convert:hover {\n",
       "      background-color: #E2EBFA;\n",
       "      box-shadow: 0px 1px 2px rgba(60, 64, 67, 0.3), 0px 1px 3px 1px rgba(60, 64, 67, 0.15);\n",
       "      fill: #174EA6;\n",
       "    }\n",
       "\n",
       "    .colab-df-buttons div {\n",
       "      margin-bottom: 4px;\n",
       "    }\n",
       "\n",
       "    [theme=dark] .colab-df-convert {\n",
       "      background-color: #3B4455;\n",
       "      fill: #D2E3FC;\n",
       "    }\n",
       "\n",
       "    [theme=dark] .colab-df-convert:hover {\n",
       "      background-color: #434B5C;\n",
       "      box-shadow: 0px 1px 3px 1px rgba(0, 0, 0, 0.15);\n",
       "      filter: drop-shadow(0px 1px 2px rgba(0, 0, 0, 0.3));\n",
       "      fill: #FFFFFF;\n",
       "    }\n",
       "  </style>\n",
       "\n",
       "    <script>\n",
       "      const buttonEl =\n",
       "        document.querySelector('#df-7030bb5f-21db-4d1d-92d7-33827cb19453 button.colab-df-convert');\n",
       "      buttonEl.style.display =\n",
       "        google.colab.kernel.accessAllowed ? 'block' : 'none';\n",
       "\n",
       "      async function convertToInteractive(key) {\n",
       "        const element = document.querySelector('#df-7030bb5f-21db-4d1d-92d7-33827cb19453');\n",
       "        const dataTable =\n",
       "          await google.colab.kernel.invokeFunction('convertToInteractive',\n",
       "                                                    [key], {});\n",
       "        if (!dataTable) return;\n",
       "\n",
       "        const docLinkHtml = 'Like what you see? Visit the ' +\n",
       "          '<a target=\"_blank\" href=https://colab.research.google.com/notebooks/data_table.ipynb>data table notebook</a>'\n",
       "          + ' to learn more about interactive tables.';\n",
       "        element.innerHTML = '';\n",
       "        dataTable['output_type'] = 'display_data';\n",
       "        await google.colab.output.renderOutput(dataTable, element);\n",
       "        const docLink = document.createElement('div');\n",
       "        docLink.innerHTML = docLinkHtml;\n",
       "        element.appendChild(docLink);\n",
       "      }\n",
       "    </script>\n",
       "  </div>\n",
       "\n",
       "\n",
       "  <div id=\"id_a040c154-9ed3-4414-945d-97a86850b6bc\">\n",
       "    <style>\n",
       "      .colab-df-generate {\n",
       "        background-color: #E8F0FE;\n",
       "        border: none;\n",
       "        border-radius: 50%;\n",
       "        cursor: pointer;\n",
       "        display: none;\n",
       "        fill: #1967D2;\n",
       "        height: 32px;\n",
       "        padding: 0 0 0 0;\n",
       "        width: 32px;\n",
       "      }\n",
       "\n",
       "      .colab-df-generate:hover {\n",
       "        background-color: #E2EBFA;\n",
       "        box-shadow: 0px 1px 2px rgba(60, 64, 67, 0.3), 0px 1px 3px 1px rgba(60, 64, 67, 0.15);\n",
       "        fill: #174EA6;\n",
       "      }\n",
       "\n",
       "      [theme=dark] .colab-df-generate {\n",
       "        background-color: #3B4455;\n",
       "        fill: #D2E3FC;\n",
       "      }\n",
       "\n",
       "      [theme=dark] .colab-df-generate:hover {\n",
       "        background-color: #434B5C;\n",
       "        box-shadow: 0px 1px 3px 1px rgba(0, 0, 0, 0.15);\n",
       "        filter: drop-shadow(0px 1px 2px rgba(0, 0, 0, 0.3));\n",
       "        fill: #FFFFFF;\n",
       "      }\n",
       "    </style>\n",
       "    <button class=\"colab-df-generate\" onclick=\"generateWithVariable('non_null')\"\n",
       "            title=\"Generate code using this dataframe.\"\n",
       "            style=\"display:none;\">\n",
       "\n",
       "  <svg xmlns=\"http://www.w3.org/2000/svg\" height=\"24px\"viewBox=\"0 0 24 24\"\n",
       "       width=\"24px\">\n",
       "    <path d=\"M7,19H8.4L18.45,9,17,7.55,7,17.6ZM5,21V16.75L18.45,3.32a2,2,0,0,1,2.83,0l1.4,1.43a1.91,1.91,0,0,1,.58,1.4,1.91,1.91,0,0,1-.58,1.4L9.25,21ZM18.45,9,17,7.55Zm-12,3A5.31,5.31,0,0,0,4.9,8.1,5.31,5.31,0,0,0,1,6.5,5.31,5.31,0,0,0,4.9,4.9,5.31,5.31,0,0,0,6.5,1,5.31,5.31,0,0,0,8.1,4.9,5.31,5.31,0,0,0,12,6.5,5.46,5.46,0,0,0,6.5,12Z\"/>\n",
       "  </svg>\n",
       "    </button>\n",
       "    <script>\n",
       "      (() => {\n",
       "      const buttonEl =\n",
       "        document.querySelector('#id_a040c154-9ed3-4414-945d-97a86850b6bc button.colab-df-generate');\n",
       "      buttonEl.style.display =\n",
       "        google.colab.kernel.accessAllowed ? 'block' : 'none';\n",
       "\n",
       "      buttonEl.onclick = () => {\n",
       "        google.colab.notebook.generateWithVariable('non_null');\n",
       "      }\n",
       "      })();\n",
       "    </script>\n",
       "  </div>\n",
       "\n",
       "    </div>\n",
       "  </div>\n"
      ],
      "text/plain": [
       "   event_name  device_platform  event_time  user_id  active_team_id  \\\n",
       "0       72964            72964       72964    72964           72123   \n",
       "\n",
       "   app_version  workspace_id  workspace_uuid  file_format  resolution  \n",
       "0        72964         27321           57034        15928        2351  "
      ]
     },
     "execution_count": 15,
     "metadata": {},
     "output_type": "execute_result"
    }
   ],
   "source": [
    "query = '''\n",
    "SELECT\n",
    "    COUNT(event_name) AS count_event_name,\n",
    "    COUNT(device_platform) AS count_device_platform,\n",
    "    COUNT(event_time) AS count_event_time,\n",
    "    COUNT(user_id) AS count_user_id,\n",
    "    COUNT(active_team_id) AS count_active_team_id,\n",
    "    COUNT(app_version) AS count_app_version,\n",
    "    COUNT(workspace_id) AS count_workspace_id,\n",
    "    COUNT(workspace_uuid) AS count_workspace_uuid,\n",
    "    COUNT(file_format) AS count_file_format,\n",
    "    COUNT(resolution) AS count_resolution\n",
    "FROM events;\n",
    "'''\n",
    "\n",
    "cursor.execute(query)\n",
    "\n",
    "non_null_values = cursor.fetchall()\n",
    "\n",
    "columns = [\n",
    "    'event_name', 'device_platform', 'event_time', 'user_id',\n",
    "    'active_team_id', 'app_version', 'workspace_id', 'workspace_uuid',\n",
    "    'file_format', 'resolution'\n",
    "]\n",
    "\n",
    "non_null = pd.DataFrame(non_null_values, columns=columns)\n",
    "\n",
    "print(\"\\nNon-null values in each column:\")\n",
    "non_null\n"
   ]
  },
  {
   "cell_type": "markdown",
   "id": "4822d396-5d24-42b0-933a-1b539a9ebf85",
   "metadata": {
    "id": "4822d396-5d24-42b0-933a-1b539a9ebf85"
   },
   "source": [
    "#### Complementary check for missing values"
   ]
  },
  {
   "cell_type": "code",
   "execution_count": 16,
   "id": "ee801717-3e18-4b58-8001-f0be3a02acb0",
   "metadata": {
    "colab": {
     "base_uri": "https://localhost:8080/",
     "height": 125
    },
    "id": "ee801717-3e18-4b58-8001-f0be3a02acb0",
    "outputId": "31c05c8d-3041-45c7-a943-a09eec6a81d5"
   },
   "outputs": [
    {
     "name": "stdout",
     "output_type": "stream",
     "text": [
      "\n",
      "Missing values in each column:\n"
     ]
    },
    {
     "data": {
      "application/vnd.google.colaboratory.intrinsic+json": {
       "summary": "{\n  \"name\": \"missing\",\n  \"rows\": 1,\n  \"fields\": [\n    {\n      \"column\": \"event_name\",\n      \"properties\": {\n        \"dtype\": \"number\",\n        \"std\": null,\n        \"min\": 0,\n        \"max\": 0,\n        \"num_unique_values\": 1,\n        \"samples\": [\n          0\n        ],\n        \"semantic_type\": \"\",\n        \"description\": \"\"\n      }\n    },\n    {\n      \"column\": \"device_platform\",\n      \"properties\": {\n        \"dtype\": \"number\",\n        \"std\": null,\n        \"min\": 0,\n        \"max\": 0,\n        \"num_unique_values\": 1,\n        \"samples\": [\n          0\n        ],\n        \"semantic_type\": \"\",\n        \"description\": \"\"\n      }\n    },\n    {\n      \"column\": \"event_time\",\n      \"properties\": {\n        \"dtype\": \"number\",\n        \"std\": null,\n        \"min\": 0,\n        \"max\": 0,\n        \"num_unique_values\": 1,\n        \"samples\": [\n          0\n        ],\n        \"semantic_type\": \"\",\n        \"description\": \"\"\n      }\n    },\n    {\n      \"column\": \"user_id\",\n      \"properties\": {\n        \"dtype\": \"number\",\n        \"std\": null,\n        \"min\": 0,\n        \"max\": 0,\n        \"num_unique_values\": 1,\n        \"samples\": [\n          0\n        ],\n        \"semantic_type\": \"\",\n        \"description\": \"\"\n      }\n    },\n    {\n      \"column\": \"active_team_id\",\n      \"properties\": {\n        \"dtype\": \"number\",\n        \"std\": null,\n        \"min\": 841,\n        \"max\": 841,\n        \"num_unique_values\": 1,\n        \"samples\": [\n          841\n        ],\n        \"semantic_type\": \"\",\n        \"description\": \"\"\n      }\n    },\n    {\n      \"column\": \"app_version\",\n      \"properties\": {\n        \"dtype\": \"number\",\n        \"std\": null,\n        \"min\": 0,\n        \"max\": 0,\n        \"num_unique_values\": 1,\n        \"samples\": [\n          0\n        ],\n        \"semantic_type\": \"\",\n        \"description\": \"\"\n      }\n    },\n    {\n      \"column\": \"workspace_id\",\n      \"properties\": {\n        \"dtype\": \"number\",\n        \"std\": null,\n        \"min\": 45643,\n        \"max\": 45643,\n        \"num_unique_values\": 1,\n        \"samples\": [\n          45643\n        ],\n        \"semantic_type\": \"\",\n        \"description\": \"\"\n      }\n    },\n    {\n      \"column\": \"workspace_uuid\",\n      \"properties\": {\n        \"dtype\": \"number\",\n        \"std\": null,\n        \"min\": 15930,\n        \"max\": 15930,\n        \"num_unique_values\": 1,\n        \"samples\": [\n          15930\n        ],\n        \"semantic_type\": \"\",\n        \"description\": \"\"\n      }\n    },\n    {\n      \"column\": \"file_format\",\n      \"properties\": {\n        \"dtype\": \"number\",\n        \"std\": null,\n        \"min\": 57036,\n        \"max\": 57036,\n        \"num_unique_values\": 1,\n        \"samples\": [\n          57036\n        ],\n        \"semantic_type\": \"\",\n        \"description\": \"\"\n      }\n    },\n    {\n      \"column\": \"resolution\",\n      \"properties\": {\n        \"dtype\": \"number\",\n        \"std\": null,\n        \"min\": 70613,\n        \"max\": 70613,\n        \"num_unique_values\": 1,\n        \"samples\": [\n          70613\n        ],\n        \"semantic_type\": \"\",\n        \"description\": \"\"\n      }\n    }\n  ]\n}",
       "type": "dataframe",
       "variable_name": "missing"
      },
      "text/html": [
       "\n",
       "  <div id=\"df-0d485ff7-fdc1-4cfe-92d7-7639430d7cfa\" class=\"colab-df-container\">\n",
       "    <div>\n",
       "<style scoped>\n",
       "    .dataframe tbody tr th:only-of-type {\n",
       "        vertical-align: middle;\n",
       "    }\n",
       "\n",
       "    .dataframe tbody tr th {\n",
       "        vertical-align: top;\n",
       "    }\n",
       "\n",
       "    .dataframe thead th {\n",
       "        text-align: right;\n",
       "    }\n",
       "</style>\n",
       "<table border=\"1\" class=\"dataframe\">\n",
       "  <thead>\n",
       "    <tr style=\"text-align: right;\">\n",
       "      <th></th>\n",
       "      <th>event_name</th>\n",
       "      <th>device_platform</th>\n",
       "      <th>event_time</th>\n",
       "      <th>user_id</th>\n",
       "      <th>active_team_id</th>\n",
       "      <th>app_version</th>\n",
       "      <th>workspace_id</th>\n",
       "      <th>workspace_uuid</th>\n",
       "      <th>file_format</th>\n",
       "      <th>resolution</th>\n",
       "    </tr>\n",
       "  </thead>\n",
       "  <tbody>\n",
       "    <tr>\n",
       "      <th>0</th>\n",
       "      <td>0</td>\n",
       "      <td>0</td>\n",
       "      <td>0</td>\n",
       "      <td>0</td>\n",
       "      <td>841</td>\n",
       "      <td>0</td>\n",
       "      <td>45643</td>\n",
       "      <td>15930</td>\n",
       "      <td>57036</td>\n",
       "      <td>70613</td>\n",
       "    </tr>\n",
       "  </tbody>\n",
       "</table>\n",
       "</div>\n",
       "    <div class=\"colab-df-buttons\">\n",
       "\n",
       "  <div class=\"colab-df-container\">\n",
       "    <button class=\"colab-df-convert\" onclick=\"convertToInteractive('df-0d485ff7-fdc1-4cfe-92d7-7639430d7cfa')\"\n",
       "            title=\"Convert this dataframe to an interactive table.\"\n",
       "            style=\"display:none;\">\n",
       "\n",
       "  <svg xmlns=\"http://www.w3.org/2000/svg\" height=\"24px\" viewBox=\"0 -960 960 960\">\n",
       "    <path d=\"M120-120v-720h720v720H120Zm60-500h600v-160H180v160Zm220 220h160v-160H400v160Zm0 220h160v-160H400v160ZM180-400h160v-160H180v160Zm440 0h160v-160H620v160ZM180-180h160v-160H180v160Zm440 0h160v-160H620v160Z\"/>\n",
       "  </svg>\n",
       "    </button>\n",
       "\n",
       "  <style>\n",
       "    .colab-df-container {\n",
       "      display:flex;\n",
       "      gap: 12px;\n",
       "    }\n",
       "\n",
       "    .colab-df-convert {\n",
       "      background-color: #E8F0FE;\n",
       "      border: none;\n",
       "      border-radius: 50%;\n",
       "      cursor: pointer;\n",
       "      display: none;\n",
       "      fill: #1967D2;\n",
       "      height: 32px;\n",
       "      padding: 0 0 0 0;\n",
       "      width: 32px;\n",
       "    }\n",
       "\n",
       "    .colab-df-convert:hover {\n",
       "      background-color: #E2EBFA;\n",
       "      box-shadow: 0px 1px 2px rgba(60, 64, 67, 0.3), 0px 1px 3px 1px rgba(60, 64, 67, 0.15);\n",
       "      fill: #174EA6;\n",
       "    }\n",
       "\n",
       "    .colab-df-buttons div {\n",
       "      margin-bottom: 4px;\n",
       "    }\n",
       "\n",
       "    [theme=dark] .colab-df-convert {\n",
       "      background-color: #3B4455;\n",
       "      fill: #D2E3FC;\n",
       "    }\n",
       "\n",
       "    [theme=dark] .colab-df-convert:hover {\n",
       "      background-color: #434B5C;\n",
       "      box-shadow: 0px 1px 3px 1px rgba(0, 0, 0, 0.15);\n",
       "      filter: drop-shadow(0px 1px 2px rgba(0, 0, 0, 0.3));\n",
       "      fill: #FFFFFF;\n",
       "    }\n",
       "  </style>\n",
       "\n",
       "    <script>\n",
       "      const buttonEl =\n",
       "        document.querySelector('#df-0d485ff7-fdc1-4cfe-92d7-7639430d7cfa button.colab-df-convert');\n",
       "      buttonEl.style.display =\n",
       "        google.colab.kernel.accessAllowed ? 'block' : 'none';\n",
       "\n",
       "      async function convertToInteractive(key) {\n",
       "        const element = document.querySelector('#df-0d485ff7-fdc1-4cfe-92d7-7639430d7cfa');\n",
       "        const dataTable =\n",
       "          await google.colab.kernel.invokeFunction('convertToInteractive',\n",
       "                                                    [key], {});\n",
       "        if (!dataTable) return;\n",
       "\n",
       "        const docLinkHtml = 'Like what you see? Visit the ' +\n",
       "          '<a target=\"_blank\" href=https://colab.research.google.com/notebooks/data_table.ipynb>data table notebook</a>'\n",
       "          + ' to learn more about interactive tables.';\n",
       "        element.innerHTML = '';\n",
       "        dataTable['output_type'] = 'display_data';\n",
       "        await google.colab.output.renderOutput(dataTable, element);\n",
       "        const docLink = document.createElement('div');\n",
       "        docLink.innerHTML = docLinkHtml;\n",
       "        element.appendChild(docLink);\n",
       "      }\n",
       "    </script>\n",
       "  </div>\n",
       "\n",
       "\n",
       "  <div id=\"id_58f7ae78-afe4-418e-b006-c3b5f06afd5f\">\n",
       "    <style>\n",
       "      .colab-df-generate {\n",
       "        background-color: #E8F0FE;\n",
       "        border: none;\n",
       "        border-radius: 50%;\n",
       "        cursor: pointer;\n",
       "        display: none;\n",
       "        fill: #1967D2;\n",
       "        height: 32px;\n",
       "        padding: 0 0 0 0;\n",
       "        width: 32px;\n",
       "      }\n",
       "\n",
       "      .colab-df-generate:hover {\n",
       "        background-color: #E2EBFA;\n",
       "        box-shadow: 0px 1px 2px rgba(60, 64, 67, 0.3), 0px 1px 3px 1px rgba(60, 64, 67, 0.15);\n",
       "        fill: #174EA6;\n",
       "      }\n",
       "\n",
       "      [theme=dark] .colab-df-generate {\n",
       "        background-color: #3B4455;\n",
       "        fill: #D2E3FC;\n",
       "      }\n",
       "\n",
       "      [theme=dark] .colab-df-generate:hover {\n",
       "        background-color: #434B5C;\n",
       "        box-shadow: 0px 1px 3px 1px rgba(0, 0, 0, 0.15);\n",
       "        filter: drop-shadow(0px 1px 2px rgba(0, 0, 0, 0.3));\n",
       "        fill: #FFFFFF;\n",
       "      }\n",
       "    </style>\n",
       "    <button class=\"colab-df-generate\" onclick=\"generateWithVariable('missing')\"\n",
       "            title=\"Generate code using this dataframe.\"\n",
       "            style=\"display:none;\">\n",
       "\n",
       "  <svg xmlns=\"http://www.w3.org/2000/svg\" height=\"24px\"viewBox=\"0 0 24 24\"\n",
       "       width=\"24px\">\n",
       "    <path d=\"M7,19H8.4L18.45,9,17,7.55,7,17.6ZM5,21V16.75L18.45,3.32a2,2,0,0,1,2.83,0l1.4,1.43a1.91,1.91,0,0,1,.58,1.4,1.91,1.91,0,0,1-.58,1.4L9.25,21ZM18.45,9,17,7.55Zm-12,3A5.31,5.31,0,0,0,4.9,8.1,5.31,5.31,0,0,0,1,6.5,5.31,5.31,0,0,0,4.9,4.9,5.31,5.31,0,0,0,6.5,1,5.31,5.31,0,0,0,8.1,4.9,5.31,5.31,0,0,0,12,6.5,5.46,5.46,0,0,0,6.5,12Z\"/>\n",
       "  </svg>\n",
       "    </button>\n",
       "    <script>\n",
       "      (() => {\n",
       "      const buttonEl =\n",
       "        document.querySelector('#id_58f7ae78-afe4-418e-b006-c3b5f06afd5f button.colab-df-generate');\n",
       "      buttonEl.style.display =\n",
       "        google.colab.kernel.accessAllowed ? 'block' : 'none';\n",
       "\n",
       "      buttonEl.onclick = () => {\n",
       "        google.colab.notebook.generateWithVariable('missing');\n",
       "      }\n",
       "      })();\n",
       "    </script>\n",
       "  </div>\n",
       "\n",
       "    </div>\n",
       "  </div>\n"
      ],
      "text/plain": [
       "   event_name  device_platform  event_time  user_id  active_team_id  \\\n",
       "0           0                0           0        0             841   \n",
       "\n",
       "   app_version  workspace_id  workspace_uuid  file_format  resolution  \n",
       "0            0         45643           15930        57036       70613  "
      ]
     },
     "execution_count": 16,
     "metadata": {},
     "output_type": "execute_result"
    }
   ],
   "source": [
    "query = '''\n",
    "SELECT\n",
    "    SUM(CASE WHEN event_name IS NULL THEN 1 ELSE 0 END) AS missing_event_name,\n",
    "    SUM(CASE WHEN device_platform IS NULL THEN 1 ELSE 0 END) AS missing_device_platform,\n",
    "    SUM(CASE WHEN event_time IS NULL THEN 1 ELSE 0 END) AS missing_event_time,\n",
    "    SUM(CASE WHEN user_id IS NULL THEN 1 ELSE 0 END) AS missing_user_id,\n",
    "    SUM(CASE WHEN active_team_id IS NULL THEN 1 ELSE 0 END) AS missing_active_team_id,\n",
    "    SUM(CASE WHEN app_version IS NULL THEN 1 ELSE 0 END) AS missing_app_version,\n",
    "    SUM(CASE WHEN workspace_id IS NULL THEN 1 ELSE 0 END) AS missing_workspace_id,\n",
    "    SUM(CASE WHEN workspace_uuid IS NULL THEN 1 ELSE 0 END) AS missing_workspace_uuid,\n",
    "    SUM(CASE WHEN file_format IS NULL THEN 1 ELSE 0 END) AS missing_file_format,\n",
    "    SUM(CASE WHEN resolution IS NULL THEN 1 ELSE 0 END) AS missing_resolution\n",
    "FROM events;\n",
    "'''\n",
    "\n",
    "cursor.execute(query)\n",
    "missing_values = cursor.fetchall()\n",
    "\n",
    "columns = [\n",
    "    'event_name', 'device_platform', 'event_time', 'user_id',\n",
    "    'active_team_id', 'app_version', 'workspace_id', 'workspace_uuid',\n",
    "    'file_format', 'resolution'\n",
    "]\n",
    "\n",
    "missing = pd.DataFrame(missing_values, columns=columns)\n",
    "\n",
    "print(\"\\nMissing values in each column:\")\n",
    "missing"
   ]
  },
  {
   "cell_type": "markdown",
   "id": "9dba45a6-d62f-417b-8c4d-520cf6c19184",
   "metadata": {
    "id": "9dba45a6-d62f-417b-8c4d-520cf6c19184"
   },
   "source": [
    "*Note:*\n",
    "- workspace_id: 27,342 / 73,008 -> 37.5%. Indicates that not all events are directly related to a workspace, less needed & available?\n",
    "- workspace_uuid: 57,061 / 73,008 -> 78%. Indicates that more widely used to track the design or workspace across different events."
   ]
  },
  {
   "cell_type": "markdown",
   "id": "b5f1f22d-d8c5-40b3-966d-6d9677f8773a",
   "metadata": {
    "id": "b5f1f22d-d8c5-40b3-966d-6d9677f8773a"
   },
   "source": [
    "#### No of event types"
   ]
  },
  {
   "cell_type": "code",
   "execution_count": 17,
   "id": "cd38d9c0-130e-48fc-9c3e-f5388d057bda",
   "metadata": {
    "colab": {
     "base_uri": "https://localhost:8080/"
    },
    "id": "cd38d9c0-130e-48fc-9c3e-f5388d057bda",
    "outputId": "e383ee40-12c4-4d4c-ed4b-c4ec47cf7195"
   },
   "outputs": [
    {
     "name": "stdout",
     "output_type": "stream",
     "text": [
      "\n",
      "Event Counts:\n",
      "design_created: 14883\n",
      "design_deleted: 2\n",
      "design_exported: 15928\n",
      "design_name_changed: 5085\n",
      "design_open_tapped: 37066\n"
     ]
    }
   ],
   "source": [
    "cursor.execute('''\n",
    "    SELECT event_name, COUNT(*)\n",
    "    FROM events\n",
    "    GROUP BY event_name\n",
    "''')\n",
    "\n",
    "event_counts = cursor.fetchall()\n",
    "\n",
    "print(\"\\nEvent Counts:\")\n",
    "for event, count in event_counts:\n",
    "    print(f\"{event}: {count}\")"
   ]
  },
  {
   "cell_type": "markdown",
   "id": "2b358df5-4d86-4dee-ab5c-003c8d8ad940",
   "metadata": {
    "id": "2b358df5-4d86-4dee-ab5c-003c8d8ad940"
   },
   "source": [
    "#### Unique users"
   ]
  },
  {
   "cell_type": "code",
   "execution_count": 18,
   "id": "dbaef082-4fb7-4dd3-a331-7677c06c745d",
   "metadata": {
    "colab": {
     "base_uri": "https://localhost:8080/"
    },
    "id": "dbaef082-4fb7-4dd3-a331-7677c06c745d",
    "outputId": "ae6426eb-d467-4ec5-b0c2-b759953e515f"
   },
   "outputs": [
    {
     "name": "stdout",
     "output_type": "stream",
     "text": [
      "\n",
      "Unique Users: 2993\n"
     ]
    }
   ],
   "source": [
    "cursor.execute('''\n",
    "SELECT COUNT(DISTINCT user_id)\n",
    "FROM events\n",
    "''')\n",
    "\n",
    "unique_users = cursor.fetchone()[0]\n",
    "print(f\"\\nUnique Users: {unique_users}\")\n"
   ]
  },
  {
   "cell_type": "markdown",
   "id": "4fff95fa-94be-4faf-afc7-dc5eaffab081",
   "metadata": {
    "id": "4fff95fa-94be-4faf-afc7-dc5eaffab081"
   },
   "source": [
    "#### Unique desings"
   ]
  },
  {
   "cell_type": "markdown",
   "id": "9d270d89-d9d9-4369-bfb8-f19679a6598c",
   "metadata": {
    "id": "9d270d89-d9d9-4369-bfb8-f19679a6598c"
   },
   "source": [
    "Number of unique files"
   ]
  },
  {
   "cell_type": "code",
   "execution_count": 19,
   "id": "9afce693-8c09-4d44-bebf-7648d064341d",
   "metadata": {
    "colab": {
     "base_uri": "https://localhost:8080/"
    },
    "id": "9afce693-8c09-4d44-bebf-7648d064341d",
    "outputId": "7e95ebf3-e382-4cec-cd38-231c95e7db67"
   },
   "outputs": [
    {
     "data": {
      "text/plain": [
       "14887"
      ]
     },
     "execution_count": 19,
     "metadata": {},
     "output_type": "execute_result"
    }
   ],
   "source": [
    "cursor.execute('''\n",
    "SELECT COUNT(DISTINCT workspace_uuid)\n",
    "FROM events\n",
    "''')\n",
    "\n",
    "no_designs = cursor.fetchone()[0]\n",
    "no_designs"
   ]
  },
  {
   "cell_type": "markdown",
   "id": "68beab47-a542-4f26-b4d6-f04bd31027d0",
   "metadata": {
    "id": "68beab47-a542-4f26-b4d6-f04bd31027d0"
   },
   "source": [
    "#### Workspace_uuid"
   ]
  },
  {
   "cell_type": "code",
   "execution_count": 20,
   "id": "f0442cf6-b4eb-4842-9c7f-98d604b63e14",
   "metadata": {
    "colab": {
     "base_uri": "https://localhost:8080/"
    },
    "id": "f0442cf6-b4eb-4842-9c7f-98d604b63e14",
    "outputId": "04e85ab1-466f-4bb3-c1b6-14a723ea7066"
   },
   "outputs": [
    {
     "name": "stdout",
     "output_type": "stream",
     "text": [
      "\n",
      "Workspace UUID:\n",
      "design_created: 14883\n",
      "design_deleted: 0\n",
      "design_exported: 0\n",
      "design_name_changed: 5085\n",
      "design_open_tapped: 37066\n"
     ]
    }
   ],
   "source": [
    "cursor.execute('''\n",
    "SELECT event_name, COUNT(workspace_uuid) AS workspace_uuid_count\n",
    "FROM events\n",
    "GROUP BY event_name\n",
    "''')\n",
    "\n",
    "wp_uuid = cursor.fetchall()\n",
    "\n",
    "print(\"\\nWorkspace UUID:\")\n",
    "for event, count in wp_uuid:\n",
    "    print(f\"{event}: {count}\")"
   ]
  },
  {
   "cell_type": "markdown",
   "id": "4c2c5bad-8b17-47b9-b2c2-42f3fae58128",
   "metadata": {
    "id": "4c2c5bad-8b17-47b9-b2c2-42f3fae58128"
   },
   "source": [
    "*Note: so since there is no data exported under the workspace uuid, then I will need to use the workspace_id. It looks like that the export are assigned to the workspace ID.*"
   ]
  },
  {
   "cell_type": "markdown",
   "id": "8267b6be-bc4c-4660-bc17-5207ea213033",
   "metadata": {
    "id": "8267b6be-bc4c-4660-bc17-5207ea213033"
   },
   "source": [
    "#### Workspace_id"
   ]
  },
  {
   "cell_type": "code",
   "execution_count": 21,
   "id": "884b530f-1409-4f8b-89b7-bbcdec119bab",
   "metadata": {
    "colab": {
     "base_uri": "https://localhost:8080/"
    },
    "id": "884b530f-1409-4f8b-89b7-bbcdec119bab",
    "outputId": "e2831bc2-039c-4093-b687-8a0bd7da0032"
   },
   "outputs": [
    {
     "name": "stdout",
     "output_type": "stream",
     "text": [
      "\n",
      "Workspace ID:\n",
      "design_created: 8187\n",
      "design_deleted: 2\n",
      "design_exported: 15928\n",
      "design_name_changed: 3169\n",
      "design_open_tapped: 35\n"
     ]
    }
   ],
   "source": [
    "cursor.execute('''\n",
    "SELECT event_name, COUNT(workspace_id) AS workspace_id_count\n",
    "FROM events\n",
    "GROUP BY event_name\n",
    "''')\n",
    "\n",
    "wp_id = cursor.fetchall()\n",
    "\n",
    "print(\"\\nWorkspace ID:\")\n",
    "for event, count in wp_id:\n",
    "    print(f\"{event}: {count}\")"
   ]
  },
  {
   "cell_type": "markdown",
   "id": "281993fc-084e-4f83-b8fa-ec82be81d442",
   "metadata": {
    "id": "281993fc-084e-4f83-b8fa-ec82be81d442"
   },
   "source": [
    "workspace_id and workspace_uuid check"
   ]
  },
  {
   "cell_type": "code",
   "execution_count": 22,
   "id": "zm-W55GOiTIB",
   "metadata": {
    "colab": {
     "base_uri": "https://localhost:8080/"
    },
    "id": "zm-W55GOiTIB",
    "outputId": "5b63c77c-2f0f-4fa9-be97-09d27bb03925"
   },
   "outputs": [
    {
     "data": {
      "text/plain": [
       "[('NA', 61573), ('No', 11374), ('Yes', 17)]"
      ]
     },
     "execution_count": 22,
     "metadata": {},
     "output_type": "execute_result"
    }
   ],
   "source": [
    "cursor.execute('''\n",
    "SELECT different, COUNT(*)\n",
    "FROM (\n",
    "    SELECT *,\n",
    "        CASE\n",
    "            WHEN workspace_id IS NOT NULL AND workspace_uuid IS NOT NULL AND workspace_id <> workspace_uuid THEN 'Yes'\n",
    "            WHEN workspace_id IS NOT NULL AND workspace_uuid IS NOT NULL THEN 'No'\n",
    "            ELSE 'NA'\n",
    "        END AS different\n",
    "    FROM events\n",
    ")\n",
    "GROUP BY different;\n",
    "''')\n",
    "\n",
    "diff  = cursor.fetchall()\n",
    "diff"
   ]
  },
  {
   "cell_type": "code",
   "execution_count": 23,
   "id": "aWrtob9wjrJZ",
   "metadata": {
    "colab": {
     "base_uri": "https://localhost:8080/"
    },
    "id": "aWrtob9wjrJZ",
    "outputId": "cc2b6513-626a-4eda-ab70-e1b597e0df01"
   },
   "outputs": [
    {
     "name": "stdout",
     "output_type": "stream",
     "text": [
      "+---------------------+----------------------------+--------------------------------------+--------------------------------------+--------------------------------------+\n",
      "| Event name          | Event time                 | User ID                              | Workspace ID                         | Workspace UUID                       |\n",
      "+=====================+============================+======================================+======================================+======================================+\n",
      "| design_open_tapped  | 2024-11-15 20:33:01.495000 | 512c9512-25d7-49b2-9665-6398b0fecd04 | 62e32c24-83ba-484b-a0da-25861f5e9be3 | 1398afc4-4efa-4776-ae8b-d3cbf60501a2 |\n",
      "+---------------------+----------------------------+--------------------------------------+--------------------------------------+--------------------------------------+\n",
      "| design_open_tapped  | 2025-01-20 18:58:20.839000 | 512c9512-25d7-49b2-9665-6398b0fecd04 | 7f383594-7d0d-4fb4-8a8c-25da74624552 | 92682a03-cfcf-4a26-abbe-002e1a38d3ee |\n",
      "+---------------------+----------------------------+--------------------------------------+--------------------------------------+--------------------------------------+\n",
      "| design_name_changed | 2024-11-22 18:06:44.498000 | 71eeaaa2-d943-4b30-9fae-c62cbc72a4d5 | f7321090-b422-4150-b43a-96a8df7a740d | f38cf586-6bcf-42c6-8560-80204e232ae1 |\n",
      "+---------------------+----------------------------+--------------------------------------+--------------------------------------+--------------------------------------+\n",
      "| design_open_tapped  | 2025-01-17 13:04:53.747000 | 9d517e5e-586e-4895-99ed-3e28b60ad619 | 6599898f-4d57-47a6-bb18-e42226f36f4e | 740dbdda-9a83-44f7-a4f0-3aa5469e6c6a |\n",
      "+---------------------+----------------------------+--------------------------------------+--------------------------------------+--------------------------------------+\n",
      "| design_open_tapped  | 2025-01-14 23:04:18.715000 | 9d517e5e-586e-4895-99ed-3e28b60ad619 | 6816b776-4b28-4620-b1a9-63eaca8b7768 | f3889d10-854e-4050-979a-ec750b0b4f42 |\n",
      "+---------------------+----------------------------+--------------------------------------+--------------------------------------+--------------------------------------+\n",
      "| design_open_tapped  | 2024-11-27 17:59:19.895000 | 4b33df1a-a60f-4b4b-918a-6f02fe2f10d0 | e1cc0038-c988-45eb-815d-cca9c817374f | 160aa423-6434-46cb-b009-c404a96765b7 |\n",
      "+---------------------+----------------------------+--------------------------------------+--------------------------------------+--------------------------------------+\n",
      "| design_open_tapped  | 2024-09-07 11:38:14.155000 | 7404bc22-5e02-47e4-8be5-4572f96055ff | d2982e8f-69b1-4d03-bb50-29b065ee9a59 | 2614d07f-a0a8-4da2-8dca-172b407dac26 |\n",
      "+---------------------+----------------------------+--------------------------------------+--------------------------------------+--------------------------------------+\n",
      "| design_name_changed | 2024-11-06 07:10:23.773000 | 7f389bad-8bfc-41eb-9c47-ebe049477039 | 7db3813b-57d5-42f6-a5b8-efe4f8fbceb9 | c25e3169-ab9c-4126-a1fd-713221cd4fcd |\n",
      "+---------------------+----------------------------+--------------------------------------+--------------------------------------+--------------------------------------+\n",
      "| design_open_tapped  | 2024-11-22 23:50:25.098000 | 31dc5007-25e2-46d8-83ff-59fa502c7013 | 6d75e6c1-2f5a-4f48-8750-8990d80a9799 | 0dd5b800-0794-4385-9786-44617cf759b6 |\n",
      "+---------------------+----------------------------+--------------------------------------+--------------------------------------+--------------------------------------+\n",
      "| design_open_tapped  | 2024-10-09 14:13:37.579000 | 18e362ce-579d-42c3-bf23-7d5749dc0ef0 | 93871f46-0584-4768-b5c8-01c6ac87c30c | 367c0f58-f330-48e2-bbd1-2d914e09dfd0 |\n",
      "+---------------------+----------------------------+--------------------------------------+--------------------------------------+--------------------------------------+\n",
      "| design_open_tapped  | 2024-12-04 16:18:49.295000 | f8ceb59d-34d3-4778-a8e3-5a43134271a2 | b11a19d4-9c99-48c8-97d0-8bfbc636e30e | 1e49bf0b-babf-404e-9bd7-217233233140 |\n",
      "+---------------------+----------------------------+--------------------------------------+--------------------------------------+--------------------------------------+\n",
      "| design_open_tapped  | 2024-12-04 16:18:49.317000 | f8ceb59d-34d3-4778-a8e3-5a43134271a2 | b11a19d4-9c99-48c8-97d0-8bfbc636e30e | 1e49bf0b-babf-404e-9bd7-217233233140 |\n",
      "+---------------------+----------------------------+--------------------------------------+--------------------------------------+--------------------------------------+\n",
      "| design_open_tapped  | 2024-10-03 12:44:44.826000 | 9ad2c3f2-82e6-438d-8c47-5e2e9432604e | 1f73a35a-7976-476e-bafa-64671b93cc8b | 159a3f23-b953-429b-bcd2-356e222e05f4 |\n",
      "+---------------------+----------------------------+--------------------------------------+--------------------------------------+--------------------------------------+\n",
      "| design_open_tapped  | 2024-11-03 13:56:43.532000 | dc38fdb4-8082-40c4-a5e5-fa346eed4cc3 | e457591b-4dcd-425f-88ce-cbc54fdb2543 | 052d9fa2-a224-4008-aad1-12219d2bda90 |\n",
      "+---------------------+----------------------------+--------------------------------------+--------------------------------------+--------------------------------------+\n",
      "| design_open_tapped  | 2024-12-21 17:22:39.970000 | b4eb6550-308e-4120-b685-819b0165c150 | 52463224-fdeb-4410-84c8-085d6b66c3f5 | d6bb4057-0ae8-44f9-84b2-e1a9cdcef1e4 |\n",
      "+---------------------+----------------------------+--------------------------------------+--------------------------------------+--------------------------------------+\n",
      "| design_open_tapped  | 2024-12-21 17:22:40.564000 | b4eb6550-308e-4120-b685-819b0165c150 | 52463224-fdeb-4410-84c8-085d6b66c3f5 | d6bb4057-0ae8-44f9-84b2-e1a9cdcef1e4 |\n",
      "+---------------------+----------------------------+--------------------------------------+--------------------------------------+--------------------------------------+\n",
      "| design_open_tapped  | 2024-12-21 17:22:39.117000 | b4eb6550-308e-4120-b685-819b0165c150 | 52463224-fdeb-4410-84c8-085d6b66c3f5 | d6bb4057-0ae8-44f9-84b2-e1a9cdcef1e4 |\n",
      "+---------------------+----------------------------+--------------------------------------+--------------------------------------+--------------------------------------+\n"
     ]
    }
   ],
   "source": [
    "# 5 duplicates - might be technical issue: ID:64214, 64215 , 72300, 72301, 72302\n",
    "\n",
    "cursor.execute('''\n",
    "    SELECT event_name, event_time, user_id, workspace_id, workspace_uuid\n",
    "    FROM events\n",
    "    WHERE workspace_id IS NOT NULL\n",
    "      AND workspace_uuid IS NOT NULL\n",
    "      AND workspace_id <> workspace_uuid;\n",
    "''')\n",
    "\n",
    "\n",
    "results = cursor.fetchall()\n",
    "\n",
    "headers = [\"Event name\", \"Event time\", \"User ID\", \"Workspace ID\", \"Workspace UUID\"]\n",
    "\n",
    "print(tabulate(results, headers=headers, tablefmt=\"grid\"))"
   ]
  },
  {
   "cell_type": "markdown",
   "id": "wEhuyXGTrB10",
   "metadata": {
    "id": "wEhuyXGTrB10"
   },
   "source": [
    "No of rows where no workspace id and workspace uuid"
   ]
  },
  {
   "cell_type": "code",
   "execution_count": 24,
   "id": "zJju1bJTqokH",
   "metadata": {
    "colab": {
     "base_uri": "https://localhost:8080/"
    },
    "id": "zJju1bJTqokH",
    "outputId": "c259d96c-1d9c-4070-c3f5-2ea67adab5a9"
   },
   "outputs": [
    {
     "data": {
      "text/plain": [
       "0"
      ]
     },
     "execution_count": 24,
     "metadata": {},
     "output_type": "execute_result"
    }
   ],
   "source": [
    "cursor.execute('''\n",
    "SELECT COUNT(*) AS missing_count\n",
    "FROM events\n",
    "WHERE workspace_id IS NULL AND workspace_uuid IS NULL;\n",
    "''')\n",
    "\n",
    "missing = cursor.fetchone()[0]\n",
    "missing"
   ]
  },
  {
   "cell_type": "markdown",
   "id": "Ws9MUa3rkudx",
   "metadata": {
    "id": "Ws9MUa3rkudx"
   },
   "source": [
    "Number of workspace_uuid where there is no corresponging workspace_id"
   ]
  },
  {
   "cell_type": "code",
   "execution_count": 25,
   "id": "nHJSVm4Zl7Q9",
   "metadata": {
    "colab": {
     "base_uri": "https://localhost:8080/"
    },
    "id": "nHJSVm4Zl7Q9",
    "outputId": "4aaa4c65-4418-451d-e208-c13a91c900d9"
   },
   "outputs": [
    {
     "data": {
      "text/plain": [
       "[('design_created', 6696),\n",
       " ('design_name_changed', 1548),\n",
       " ('design_open_tapped', 8996)]"
      ]
     },
     "execution_count": 25,
     "metadata": {},
     "output_type": "execute_result"
    }
   ],
   "source": [
    "cursor.execute('''\n",
    "SELECT event_name, COUNT(DISTINCT workspace_uuid) AS missing_workspace_id_count\n",
    "FROM events\n",
    "WHERE workspace_id IS NULL\n",
    "GROUP BY event_name\n",
    "''')\n",
    "\n",
    "no_id_event = cursor.fetchall()\n",
    "no_id_event"
   ]
  },
  {
   "cell_type": "markdown",
   "id": "524cbe4a-24fb-40f8-aa3e-fbef8bb6c72d",
   "metadata": {
    "id": "524cbe4a-24fb-40f8-aa3e-fbef8bb6c72d"
   },
   "source": [
    "#### Designs created & exported Rate"
   ]
  },
  {
   "cell_type": "markdown",
   "id": "d4a11ef2-ac54-48ef-9bb5-40f9b0f37433",
   "metadata": {
    "id": "d4a11ef2-ac54-48ef-9bb5-40f9b0f37433"
   },
   "source": [
    "*Note: Since there is no value for design export under workspace_uuid, therfore will use workspace, however it has huge number of missing values. This will show that from the design created under certain workspace - how many files were exported in the end.*"
   ]
  },
  {
   "cell_type": "code",
   "execution_count": 26,
   "id": "34d8c740-c15a-4053-8e3d-fc6f04d21858",
   "metadata": {
    "colab": {
     "base_uri": "https://localhost:8080/"
    },
    "id": "34d8c740-c15a-4053-8e3d-fc6f04d21858",
    "outputId": "2a0b4e5f-ba8c-42ec-f26c-48cbe6574dfa"
   },
   "outputs": [
    {
     "data": {
      "text/plain": [
       "14883"
      ]
     },
     "execution_count": 26,
     "metadata": {},
     "output_type": "execute_result"
    }
   ],
   "source": [
    "cursor.execute('''\n",
    "SELECT COUNT(*)\n",
    "FROM events\n",
    "WHERE event_name = 'design_created'\n",
    "''')\n",
    "\n",
    "created_designs = cursor.fetchone()[0]\n",
    "created_designs"
   ]
  },
  {
   "cell_type": "code",
   "execution_count": 27,
   "id": "3da1bc93-2ef0-49ec-92d7-46e02fb52b4d",
   "metadata": {
    "colab": {
     "base_uri": "https://localhost:8080/"
    },
    "id": "3da1bc93-2ef0-49ec-92d7-46e02fb52b4d",
    "outputId": "44a3020c-6b3f-4ff1-e1f6-15cf2fb402f6"
   },
   "outputs": [
    {
     "data": {
      "text/plain": [
       "15928"
      ]
     },
     "execution_count": 27,
     "metadata": {},
     "output_type": "execute_result"
    }
   ],
   "source": [
    "cursor.execute('''\n",
    "SELECT COUNT(*)\n",
    "FROM events\n",
    "WHERE event_name = 'design_exported'\n",
    "''')\n",
    "\n",
    "exported_designs = cursor.fetchone()[0]\n",
    "exported_designs"
   ]
  },
  {
   "cell_type": "markdown",
   "id": "3bb4f590-5763-40c9-afe0-8af3e621df4e",
   "metadata": {
    "id": "3bb4f590-5763-40c9-afe0-8af3e621df4e"
   },
   "source": [
    "#### Creation/Export Rate"
   ]
  },
  {
   "cell_type": "markdown",
   "id": "hILDPkoJYI4_",
   "metadata": {
    "id": "hILDPkoJYI4_"
   },
   "source": [
    "This is an overall export rate the total number of exported design / the total created design."
   ]
  },
  {
   "cell_type": "code",
   "execution_count": 28,
   "id": "15ed636f-6495-41bf-8607-946d379a378f",
   "metadata": {
    "colab": {
     "base_uri": "https://localhost:8080/"
    },
    "id": "15ed636f-6495-41bf-8607-946d379a378f",
    "outputId": "17b8c224-e403-4e24-a28d-4a1eb688fe4a"
   },
   "outputs": [
    {
     "name": "stdout",
     "output_type": "stream",
     "text": [
      "\n",
      "Design Creation to Export Rate: 107.02%\n"
     ]
    }
   ],
   "source": [
    "export_rate = exported_designs / created_designs #if created_designs > 0 else 0\n",
    "print(f\"\\nDesign Creation to Export Rate: {export_rate:.2%}\")"
   ]
  },
  {
   "cell_type": "markdown",
   "id": "0c26560b-7643-49ba-9e47-1416ca194339",
   "metadata": {
    "id": "0c26560b-7643-49ba-9e47-1416ca194339"
   },
   "source": [
    "*This rate shows that the exported design value (15945) is higher than the created design value. So my first thought was that a certain design is exported either from different users or from different platform that the explains the rate above 100%."
   ]
  },
  {
   "cell_type": "markdown",
   "id": "2RoL5-2lgAJV",
   "metadata": {
    "id": "2RoL5-2lgAJV"
   },
   "source": [
    "Unique design export per device_platforms"
   ]
  },
  {
   "cell_type": "code",
   "execution_count": 29,
   "id": "pe9ME7JoctAk",
   "metadata": {
    "colab": {
     "base_uri": "https://localhost:8080/"
    },
    "id": "pe9ME7JoctAk",
    "outputId": "9d9fb606-e842-43a9-9897-2e28db545a3f"
   },
   "outputs": [
    {
     "name": "stdout",
     "output_type": "stream",
     "text": [
      "+-------------------+---------------------------+\n",
      "| Design Exported   | Unique Device Platforms   |\n",
      "+===================+===========================+\n",
      "+-------------------+---------------------------+\n"
     ]
    }
   ],
   "source": [
    "cursor.execute('''\n",
    "    SELECT\n",
    "        workspace_id AS design_exported,\n",
    "        COUNT(DISTINCT device_platform) AS unique_device_platforms\n",
    "    FROM events\n",
    "    WHERE event_name = 'design_exported'\n",
    "    GROUP BY workspace_id\n",
    "    HAVING COUNT(DISTINCT user_id) > 1\n",
    "''')\n",
    "\n",
    "\n",
    "desing_per_platform = cursor.fetchall()\n",
    "headers = [\"Design Exported\", \"Unique Device Platforms\"]\n",
    "\n",
    "print(tabulate(desing_per_platform, headers=headers, tablefmt=\"grid\"))\n"
   ]
  },
  {
   "cell_type": "markdown",
   "id": "cYzmfKI3gMoi",
   "metadata": {
    "id": "cYzmfKI3gMoi"
   },
   "source": [
    "Unique design export per unique user_ids"
   ]
  },
  {
   "cell_type": "code",
   "execution_count": 30,
   "id": "74b4149d-fe56-44ae-9461-ae99db965eb3",
   "metadata": {
    "colab": {
     "base_uri": "https://localhost:8080/"
    },
    "id": "74b4149d-fe56-44ae-9461-ae99db965eb3",
    "outputId": "5c917ed8-4e8f-4224-9fba-bafa213ec2ff"
   },
   "outputs": [
    {
     "name": "stdout",
     "output_type": "stream",
     "text": [
      "+-------------------+----------------+\n",
      "| Design Exported   | Unique Users   |\n",
      "+===================+================+\n",
      "+-------------------+----------------+\n"
     ]
    }
   ],
   "source": [
    "cursor.execute('''\n",
    "    SELECT\n",
    "        workspace_id AS design_exported,\n",
    "        COUNT(DISTINCT user_id) AS unique_users\n",
    "    FROM events\n",
    "    WHERE event_name = 'design_exported'\n",
    "    GROUP BY workspace_id\n",
    "    HAVING COUNT(DISTINCT user_id) > 1\n",
    "''')\n",
    "\n",
    "\n",
    "design_per_user = cursor.fetchall()\n",
    "headers = [\"Design Exported\", \"Unique Users\"]\n",
    "\n",
    "print(tabulate(design_per_user, headers=headers, tablefmt=\"grid\"))"
   ]
  },
  {
   "cell_type": "markdown",
   "id": "H_f24Ls9gRpp",
   "metadata": {
    "id": "H_f24Ls9gRpp"
   },
   "source": [
    "However the query clearly shows that there are no more than one user_id and platform beloning to the same design export.So my further assumption was that a design may be exported multiple times after its creation for different purposes:  either due to updates, revisions, or additional users working with the design."
   ]
  },
  {
   "cell_type": "markdown",
   "id": "d7aa1296-d8ff-4c24-9ec4-731c18f728ce",
   "metadata": {
    "id": "d7aa1296-d8ff-4c24-9ec4-731c18f728ce"
   },
   "source": [
    "#### Number of export per design"
   ]
  },
  {
   "cell_type": "code",
   "execution_count": 31,
   "id": "gAFtj6Reh6Wg",
   "metadata": {
    "colab": {
     "base_uri": "https://localhost:8080/"
    },
    "id": "gAFtj6Reh6Wg",
    "outputId": "6a75aba4-4d3a-4dea-f656-54915da76cc1"
   },
   "outputs": [
    {
     "name": "stdout",
     "output_type": "stream",
     "text": [
      "+--------------------------------------+-----------------+\n",
      "| Design Exported                      |   No of exports |\n",
      "+======================================+=================+\n",
      "| 5ac0b8c1-6c83-405e-b6bd-c4c1e14bbe5f |             288 |\n",
      "+--------------------------------------+-----------------+\n",
      "| 62e32c24-83ba-484b-a0da-25861f5e9be3 |             224 |\n",
      "+--------------------------------------+-----------------+\n",
      "| e05fe368-3533-4a84-bb32-fec24d8a50fb |             122 |\n",
      "+--------------------------------------+-----------------+\n",
      "| 2b101208-8d32-450d-b13b-1611b2878b10 |              74 |\n",
      "+--------------------------------------+-----------------+\n",
      "| 4a5e4e45-820c-41dd-96c3-0b46847859b0 |              67 |\n",
      "+--------------------------------------+-----------------+\n",
      "| b5747256-e625-434c-9c16-33f05a6b029c |              63 |\n",
      "+--------------------------------------+-----------------+\n",
      "| 50db2546-525b-414f-b1be-7984b6752d2a |              59 |\n",
      "+--------------------------------------+-----------------+\n",
      "| 44074abf-6085-4d55-abcc-14bb9a935ada |              57 |\n",
      "+--------------------------------------+-----------------+\n",
      "| 6933ba29-d229-4e14-b468-81bdefc6195f |              55 |\n",
      "+--------------------------------------+-----------------+\n",
      "| d78164c9-0363-4dd6-9b08-792a85d5bf38 |              54 |\n",
      "+--------------------------------------+-----------------+\n",
      "| dc01e968-3bb8-45b8-8626-3becda830983 |              50 |\n",
      "+--------------------------------------+-----------------+\n",
      "| 81f56d42-2c68-46b2-8a8c-d3e6369098f0 |              47 |\n",
      "+--------------------------------------+-----------------+\n",
      "| 9019b43a-38cd-4b17-8c75-dcd3a0057bb3 |              45 |\n",
      "+--------------------------------------+-----------------+\n",
      "| 1b2b9773-cb2a-4fe0-b9ec-d1ed431c5875 |              45 |\n",
      "+--------------------------------------+-----------------+\n",
      "| e662863c-9f88-48da-a4bf-2e05599039e1 |              44 |\n",
      "+--------------------------------------+-----------------+\n",
      "| 796c6c3f-3d6f-489e-b116-7721f8767dab |              42 |\n",
      "+--------------------------------------+-----------------+\n",
      "| 33695772-6c5c-462c-a377-989a1a393ef5 |              42 |\n",
      "+--------------------------------------+-----------------+\n",
      "| c4a08a00-836a-423e-ad29-693935dccfee |              41 |\n",
      "+--------------------------------------+-----------------+\n",
      "| 91eb70ca-c0f1-473c-8262-7172c0f6be42 |              41 |\n",
      "+--------------------------------------+-----------------+\n",
      "| f1b01717-a71c-4b8f-9b7e-3b9a3314c379 |              40 |\n",
      "+--------------------------------------+-----------------+\n"
     ]
    }
   ],
   "source": [
    "cursor.execute('''\n",
    "SELECT workspace_id, COUNT(*) AS export_count\n",
    "FROM events\n",
    "WHERE event_name = 'design_exported'\n",
    "GROUP BY workspace_id\n",
    "ORDER BY export_count DESC\n",
    "LIMIT 20\n",
    "''')\n",
    "\n",
    "multiple_export = cursor.fetchall()\n",
    "headers = [\"Design Exported\", \"No of exports\"]\n",
    "\n",
    "print(tabulate(multiple_export, headers=headers, tablefmt=\"grid\"))"
   ]
  },
  {
   "cell_type": "markdown",
   "id": "J-8Z7zWTjckI",
   "metadata": {
    "id": "J-8Z7zWTjckI"
   },
   "source": [
    "#### Multiple exports"
   ]
  },
  {
   "cell_type": "code",
   "execution_count": 32,
   "id": "fOu3x76rjVrZ",
   "metadata": {
    "colab": {
     "base_uri": "https://localhost:8080/"
    },
    "id": "fOu3x76rjVrZ",
    "outputId": "996ef0bf-b253-4195-9936-bde211ac46d4"
   },
   "outputs": [
    {
     "name": "stdout",
     "output_type": "stream",
     "text": [
      "+-------------------------+\n",
      "|   Total_multiple_export |\n",
      "+=========================+\n",
      "|                    2678 |\n",
      "+-------------------------+\n"
     ]
    }
   ],
   "source": [
    "cursor.execute('''\n",
    "SELECT COUNT(*) AS total_multiple_export\n",
    "FROM (\n",
    "    SELECT workspace_id\n",
    "    FROM events\n",
    "    WHERE event_name = 'design_exported'\n",
    "    GROUP BY workspace_id\n",
    "    HAVING COUNT(*) > 1\n",
    ") AS subquery;\n",
    "''')\n",
    "\n",
    "total_multiple_export = cursor.fetchall()\n",
    "headers = [ \"Total_multiple_export\"]\n",
    "\n",
    "print(tabulate(total_multiple_export , headers=headers, tablefmt=\"grid\"))"
   ]
  },
  {
   "cell_type": "markdown",
   "id": "VvrIuc1BjW2t",
   "metadata": {
    "id": "VvrIuc1BjW2t"
   },
   "source": [
    "#### One-time exports"
   ]
  },
  {
   "cell_type": "code",
   "execution_count": 33,
   "id": "q1TfNSknix5d",
   "metadata": {
    "colab": {
     "base_uri": "https://localhost:8080/"
    },
    "id": "q1TfNSknix5d",
    "outputId": "d9d0cfbf-2fa3-47c4-cd04-493f7db68bba"
   },
   "outputs": [
    {
     "name": "stdout",
     "output_type": "stream",
     "text": [
      "+--------------------------+\n",
      "|   No of one_time exports |\n",
      "+==========================+\n",
      "|                     2127 |\n",
      "+--------------------------+\n"
     ]
    }
   ],
   "source": [
    "cursor.execute('''\n",
    "SELECT COUNT(*) AS total_unique_designs_exported_once\n",
    "FROM (\n",
    "    SELECT workspace_id\n",
    "    FROM events\n",
    "    WHERE event_name = 'design_exported'\n",
    "    GROUP BY workspace_id\n",
    "    HAVING COUNT(*) = 1\n",
    ") AS subquery;\n",
    "''')\n",
    "\n",
    "onetime_export = cursor.fetchall()\n",
    "headers = [ \"No of one_time exports\"]\n",
    "\n",
    "print(tabulate(onetime_export, headers=headers, tablefmt=\"grid\"))"
   ]
  },
  {
   "cell_type": "markdown",
   "id": "VSeJ17DCYU1L",
   "metadata": {
    "id": "VSeJ17DCYU1L"
   },
   "source": [
    "#### Export rate per unique file"
   ]
  },
  {
   "cell_type": "markdown",
   "id": "59VD0H4zYXtE",
   "metadata": {
    "id": "59VD0H4zYXtE"
   },
   "source": [
    "Another approach is if we would like to know how many certain products will be exported comparing to the creation number."
   ]
  },
  {
   "cell_type": "code",
   "execution_count": 35,
   "id": "ies-Qst4ZTVs",
   "metadata": {
    "id": "ies-Qst4ZTVs"
   },
   "outputs": [],
   "source": [
    "total_multiple_export_value = total_multiple_export[0][0]\n",
    "onetime_export_value = onetime_export[0][0]"
   ]
  },
  {
   "cell_type": "code",
   "execution_count": 36,
   "id": "zo4RPpPNYTwR",
   "metadata": {
    "colab": {
     "base_uri": "https://localhost:8080/"
    },
    "id": "zo4RPpPNYTwR",
    "outputId": "0383695f-b3df-4d36-a3c6-baab7f43b672"
   },
   "outputs": [
    {
     "name": "stdout",
     "output_type": "stream",
     "text": [
      "\n",
      "Design Creation to Export Rate: 32.29%\n"
     ]
    }
   ],
   "source": [
    "export_rate02 = (total_multiple_export_value + onetime_export_value) / created_designs #Maybe exported_designs????? #if created_designs > 0 else 0\n",
    "print(f\"\\nDesign Creation to Export Rate: {export_rate02:.2%}\")"
   ]
  },
  {
   "cell_type": "markdown",
   "id": "Lb_L5CPoZax8",
   "metadata": {
    "id": "Lb_L5CPoZax8"
   },
   "source": [
    "Outcome: every third created design will end up being exported."
   ]
  },
  {
   "cell_type": "markdown",
   "id": "E8Vlokg4rtqz",
   "metadata": {
    "id": "E8Vlokg4rtqz"
   },
   "source": [
    "#### User_ids and Active teams"
   ]
  },
  {
   "cell_type": "code",
   "execution_count": 37,
   "id": "2567bd58-eae8-4f34-8319-158c0591704d",
   "metadata": {
    "colab": {
     "base_uri": "https://localhost:8080/"
    },
    "id": "2567bd58-eae8-4f34-8319-158c0591704d",
    "outputId": "665f973f-440d-4e93-c52f-d63c4ce14389"
   },
   "outputs": [
    {
     "name": "stdout",
     "output_type": "stream",
     "text": [
      "+--------------------------------------+---------+\n",
      "| Teams                                |   Users |\n",
      "+======================================+=========+\n",
      "|                                      |      83 |\n",
      "+--------------------------------------+---------+\n",
      "| cd4fd957-0142-452b-bfe5-4361d09804d2 |       3 |\n",
      "+--------------------------------------+---------+\n",
      "| ffaab8a1-6a26-4686-aaf6-3acc03518311 |       1 |\n",
      "+--------------------------------------+---------+\n",
      "| ffa85abe-9492-47ae-b96f-da72e6262dd8 |       1 |\n",
      "+--------------------------------------+---------+\n",
      "| ff55b18b-5f99-4567-80f0-13f3fe418443 |       1 |\n",
      "+--------------------------------------+---------+\n",
      "| ff558f0e-4ec3-4dd9-a102-31fc3268a46c |       1 |\n",
      "+--------------------------------------+---------+\n",
      "| ff45b8f4-4840-482e-84df-f38c7ef58506 |       1 |\n",
      "+--------------------------------------+---------+\n",
      "| ff443391-fc9f-4b21-b159-45d5fd38a7dc |       1 |\n",
      "+--------------------------------------+---------+\n",
      "| ff3ae4f1-da25-4c17-8d54-ed2b65d283bc |       1 |\n",
      "+--------------------------------------+---------+\n",
      "| ff1f9fe8-1f82-4abe-b400-8e12ab3ba3b5 |       1 |\n",
      "+--------------------------------------+---------+\n"
     ]
    }
   ],
   "source": [
    "cursor.execute('''\n",
    "SELECT active_team_id, COUNT(DISTINCT user_id) AS users\n",
    "FROM events\n",
    "GROUP BY active_team_id\n",
    "ORDER BY users DESC\n",
    "LIMIT 7\n",
    "''')\n",
    "\n",
    "teams_users = cursor.fetchall()\n",
    "headers = [\"Teams\", \"Users\"]\n",
    "\n",
    "print(tabulate(teams_users, headers=headers, tablefmt=\"grid\"))\n",
    "\n",
    "#The 83 comes from how many distinct user_ids are in that group where the active_team_id is missing"
   ]
  },
  {
   "cell_type": "markdown",
   "id": "5-8uG996tP0P",
   "metadata": {
    "id": "5-8uG996tP0P"
   },
   "source": [
    "#### Unique users"
   ]
  },
  {
   "cell_type": "code",
   "execution_count": 38,
   "id": "986c56a3-82cd-4466-b15d-b4a291ff2d9c",
   "metadata": {
    "colab": {
     "base_uri": "https://localhost:8080/"
    },
    "id": "986c56a3-82cd-4466-b15d-b4a291ff2d9c",
    "outputId": "ced66ccd-f6b2-480f-bd45-9fca210e8abd"
   },
   "outputs": [
    {
     "name": "stdout",
     "output_type": "stream",
     "text": [
      "+---------+\n",
      "|   Users |\n",
      "+=========+\n",
      "|    2993 |\n",
      "+---------+\n"
     ]
    }
   ],
   "source": [
    "cursor.execute('''\n",
    "SELECT COUNT(DISTINCT user_id) AS users\n",
    "FROM events\n",
    "''')\n",
    "\n",
    "users = cursor.fetchall()\n",
    "headers = [\"Users\"]\n",
    "\n",
    "print(tabulate(users, headers=headers, tablefmt=\"grid\"))"
   ]
  },
  {
   "cell_type": "markdown",
   "id": "1I9YBFkTtRq7",
   "metadata": {
    "id": "1I9YBFkTtRq7"
   },
   "source": [
    "####  Unique teams"
   ]
  },
  {
   "cell_type": "code",
   "execution_count": 39,
   "id": "TdTgmWfRtCwJ",
   "metadata": {
    "colab": {
     "base_uri": "https://localhost:8080/"
    },
    "id": "TdTgmWfRtCwJ",
    "outputId": "3a65110f-5293-4057-e431-96489545be55"
   },
   "outputs": [
    {
     "name": "stdout",
     "output_type": "stream",
     "text": [
      "+---------+\n",
      "|   Teams |\n",
      "+=========+\n",
      "|    2941 |\n",
      "+---------+\n"
     ]
    }
   ],
   "source": [
    "cursor.execute('''\n",
    "SELECT COUNT(DISTINCT active_team_id) AS teams\n",
    "FROM events\n",
    "''')\n",
    "\n",
    "teams = cursor.fetchall()\n",
    "headers = [\"Teams\"]\n",
    "\n",
    "print(tabulate(teams, headers=headers, tablefmt=\"grid\"))"
   ]
  },
  {
   "cell_type": "markdown",
   "id": "7VMtS9fCtdzy",
   "metadata": {
    "id": "7VMtS9fCtdzy"
   },
   "source": [
    "User behaviour: Usually there is one per per team (there are some exceptions), meaning that the engineering designers is working on the product and not big teams."
   ]
  },
  {
   "cell_type": "code",
   "execution_count": 39,
   "id": "39cqbmEntC1e",
   "metadata": {
    "id": "39cqbmEntC1e"
   },
   "outputs": [],
   "source": []
  },
  {
   "cell_type": "markdown",
   "id": "r0klTVN-vvhg",
   "metadata": {
    "id": "r0klTVN-vvhg"
   },
   "source": [
    "####  Event times"
   ]
  },
  {
   "cell_type": "code",
   "execution_count": 40,
   "id": "CFpltSg0BW4v",
   "metadata": {
    "colab": {
     "base_uri": "https://localhost:8080/"
    },
    "id": "CFpltSg0BW4v",
    "outputId": "2a9c4855-f38b-480e-c369-03566eeb8a3d"
   },
   "outputs": [
    {
     "name": "stdout",
     "output_type": "stream",
     "text": [
      "+----------------------------+-----------------+\n",
      "| Event Time                 |   YearMonthWeek |\n",
      "+============================+=================+\n",
      "| 2024-11-26 07:55:47.896000 |          241104 |\n",
      "+----------------------------+-----------------+\n",
      "| 2024-10-23 14:54:54.831000 |          241004 |\n",
      "+----------------------------+-----------------+\n",
      "| 2024-10-23 15:09:03.016000 |          241004 |\n",
      "+----------------------------+-----------------+\n",
      "| 2024-10-08 13:30:10.584000 |          241002 |\n",
      "+----------------------------+-----------------+\n",
      "| 2024-10-08 13:37:17.752000 |          241002 |\n",
      "+----------------------------+-----------------+\n",
      "| 2024-10-08 13:21:10.966000 |          241002 |\n",
      "+----------------------------+-----------------+\n",
      "| 2024-10-27 08:02:05.313000 |          241004 |\n",
      "+----------------------------+-----------------+\n",
      "| 2024-10-26 08:52:34.319000 |          241004 |\n",
      "+----------------------------+-----------------+\n",
      "| 2024-10-24 12:11:12.647000 |          241004 |\n",
      "+----------------------------+-----------------+\n",
      "| 2024-10-24 11:08:22.461000 |          241004 |\n",
      "+----------------------------+-----------------+\n"
     ]
    }
   ],
   "source": [
    "cursor.execute('''\n",
    "SELECT\n",
    "    event_time,\n",
    "    substr(strftime('%Y', event_time), 3, 2) ||\n",
    "    strftime('%m', event_time) ||\n",
    "    printf('%02d', ((CAST(strftime('%d', event_time) AS INTEGER) - 1) / 7 + 1))\n",
    "    AS year_month_week\n",
    "FROM events\n",
    "LIMIT 10;\n",
    "''')\n",
    "\n",
    "weeks = cursor.fetchall()\n",
    "headers = [\"Event Time\", \"YearMonthWeek\"]\n",
    "\n",
    "print(tabulate(weeks, headers=headers, tablefmt=\"grid\"))"
   ]
  },
  {
   "cell_type": "markdown",
   "id": "6sP65qWg_JNp",
   "metadata": {
    "id": "6sP65qWg_JNp"
   },
   "source": [
    "####  Adding it as a new column"
   ]
  },
  {
   "cell_type": "code",
   "execution_count": 41,
   "id": "U3pvdBXt8-9A",
   "metadata": {
    "id": "U3pvdBXt8-9A"
   },
   "outputs": [],
   "source": [
    "cursor.execute('ALTER TABLE events ADD COLUMN YearMonthWeek TEXT')\n",
    "\n",
    "cursor.execute('''\n",
    "    UPDATE events\n",
    "    SET YearMonthWeek =\n",
    "        substr(strftime('%Y', event_time), 3, 2) ||\n",
    "        strftime('%m', event_time) ||\n",
    "        printf('%02d', ((CAST(strftime('%d', event_time) AS INTEGER) - 1) / 7 + 1))\n",
    "''')\n",
    "\n",
    "conn.commit()"
   ]
  },
  {
   "cell_type": "markdown",
   "id": "QZLgmgCw_Ljq",
   "metadata": {
    "id": "QZLgmgCw_Ljq"
   },
   "source": [
    "#### Checking if added correctly"
   ]
  },
  {
   "cell_type": "code",
   "execution_count": 42,
   "id": "JDhcVpc3-P5x",
   "metadata": {
    "colab": {
     "base_uri": "https://localhost:8080/"
    },
    "id": "JDhcVpc3-P5x",
    "outputId": "b3f9b5d2-7583-41f9-fd50-14924ddead1e"
   },
   "outputs": [
    {
     "data": {
      "text/plain": [
       "[(1,\n",
       "  'design_created',\n",
       "  'Windows',\n",
       "  '2024-11-26 07:55:47.896000',\n",
       "  '84d9a7e6-e84e-4498-b963-ab37f2422054',\n",
       "  'd34a926b-76c3-4f25-9fd7-c1bfdb45aebc',\n",
       "  '5.650.7126.0',\n",
       "  None,\n",
       "  'fdb471ff-6a91-49aa-8d33-e9cf129ad978',\n",
       "  None,\n",
       "  None,\n",
       "  '241104'),\n",
       " (2,\n",
       "  'design_created',\n",
       "  'Windows',\n",
       "  '2024-10-23 14:54:54.831000',\n",
       "  '47405968-d781-4fa1-8f63-85e54b58a7bc',\n",
       "  'd56aa67d-6879-46e7-bb20-3a086fcb0050',\n",
       "  '5.730.7613.0',\n",
       "  None,\n",
       "  '2b586791-b98e-4ba7-8c27-c2ac1cb28918',\n",
       "  None,\n",
       "  None,\n",
       "  '241004'),\n",
       " (3,\n",
       "  'design_exported',\n",
       "  'Windows',\n",
       "  '2024-10-23 15:09:03.016000',\n",
       "  '47405968-d781-4fa1-8f63-85e54b58a7bc',\n",
       "  'd56aa67d-6879-46e7-bb20-3a086fcb0050',\n",
       "  '5.730.7613.0',\n",
       "  '2b586791-b98e-4ba7-8c27-c2ac1cb28918',\n",
       "  None,\n",
       "  'three_mf',\n",
       "  None,\n",
       "  '241004')]"
      ]
     },
     "execution_count": 42,
     "metadata": {},
     "output_type": "execute_result"
    }
   ],
   "source": [
    "cursor.execute('''\n",
    "SELECT *\n",
    "FROM events\n",
    "LIMIT 3\n",
    "''')\n",
    "\n",
    "added = cursor.fetchall()\n",
    "added"
   ]
  },
  {
   "cell_type": "markdown",
   "id": "fbc39306-7d0f-4fa6-a17f-a93d9a2c4108",
   "metadata": {
    "id": "fbc39306-7d0f-4fa6-a17f-a93d9a2c4108"
   },
   "source": [
    "#### Events per week (YearMonthWeek)"
   ]
  },
  {
   "cell_type": "code",
   "execution_count": 43,
   "id": "LejBZgD2GWsS",
   "metadata": {
    "colab": {
     "base_uri": "https://localhost:8080/"
    },
    "id": "LejBZgD2GWsS",
    "outputId": "dde4a1d2-e3a9-46bb-ff30-d51de4b9f711"
   },
   "outputs": [
    {
     "name": "stdout",
     "output_type": "stream",
     "text": [
      "+--------+------------------+------------------+-------------------+-----------------------+----------------------+\n",
      "|    YMW |   Design Created |   Design Deleted |   Design Exported |   Design Name Changed |   Design Open Tapped |\n",
      "+========+==================+==================+===================+=======================+======================+\n",
      "| 240901 |              670 |                0 |               393 |                   205 |                  858 |\n",
      "+--------+------------------+------------------+-------------------+-----------------------+----------------------+\n",
      "| 240902 |              910 |                0 |               721 |                   316 |                 1549 |\n",
      "+--------+------------------+------------------+-------------------+-----------------------+----------------------+\n",
      "| 240903 |              901 |                0 |               856 |                   323 |                 1566 |\n",
      "+--------+------------------+------------------+-------------------+-----------------------+----------------------+\n",
      "| 240904 |              966 |                0 |               960 |                   297 |                 1701 |\n",
      "+--------+------------------+------------------+-------------------+-----------------------+----------------------+\n",
      "| 240905 |              234 |                0 |               229 |                    73 |                  444 |\n",
      "+--------+------------------+------------------+-------------------+-----------------------+----------------------+\n",
      "| 241001 |             1235 |                0 |              1139 |                   463 |                 2427 |\n",
      "+--------+------------------+------------------+-------------------+-----------------------+----------------------+\n",
      "| 241002 |             1338 |                0 |              1106 |                   420 |                 2456 |\n",
      "+--------+------------------+------------------+-------------------+-----------------------+----------------------+\n",
      "| 241003 |             1360 |                0 |              1130 |                   470 |                 2900 |\n",
      "+--------+------------------+------------------+-------------------+-----------------------+----------------------+\n",
      "| 241004 |             1203 |                0 |              1033 |                   408 |                 2524 |\n",
      "+--------+------------------+------------------+-------------------+-----------------------+----------------------+\n",
      "| 241005 |              417 |                0 |               419 |                   138 |                 1031 |\n",
      "+--------+------------------+------------------+-------------------+-----------------------+----------------------+\n",
      "| 241101 |             1228 |                0 |              1362 |                   428 |                 2834 |\n",
      "+--------+------------------+------------------+-------------------+-----------------------+----------------------+\n",
      "| 241102 |             1244 |                0 |              1239 |                   316 |                 2754 |\n",
      "+--------+------------------+------------------+-------------------+-----------------------+----------------------+\n",
      "| 241103 |             1363 |                0 |              1508 |                   454 |                 3206 |\n",
      "+--------+------------------+------------------+-------------------+-----------------------+----------------------+\n",
      "| 241104 |             1446 |                0 |              1501 |                   386 |                 3134 |\n",
      "+--------+------------------+------------------+-------------------+-----------------------+----------------------+\n",
      "| 241105 |              368 |                0 |               364 |                   133 |                  770 |\n",
      "+--------+------------------+------------------+-------------------+-----------------------+----------------------+\n",
      "| 241201 |                0 |                0 |               398 |                    80 |                 1549 |\n",
      "+--------+------------------+------------------+-------------------+-----------------------+----------------------+\n",
      "| 241202 |                0 |                0 |               274 |                    32 |                 1055 |\n",
      "+--------+------------------+------------------+-------------------+-----------------------+----------------------+\n",
      "| 241203 |                0 |                0 |               169 |                    18 |                  832 |\n",
      "+--------+------------------+------------------+-------------------+-----------------------+----------------------+\n",
      "| 241204 |                0 |                0 |               120 |                     9 |                  334 |\n",
      "+--------+------------------+------------------+-------------------+-----------------------+----------------------+\n",
      "| 241205 |                0 |                0 |                44 |                     4 |                  118 |\n",
      "+--------+------------------+------------------+-------------------+-----------------------+----------------------+\n",
      "| 250101 |                0 |                0 |               226 |                     9 |                  419 |\n",
      "+--------+------------------+------------------+-------------------+-----------------------+----------------------+\n",
      "| 250102 |                0 |                0 |               140 |                    21 |                  468 |\n",
      "+--------+------------------+------------------+-------------------+-----------------------+----------------------+\n",
      "| 250103 |                0 |                2 |               104 |                    14 |                  358 |\n",
      "+--------+------------------+------------------+-------------------+-----------------------+----------------------+\n",
      "| 250104 |                0 |                0 |                88 |                    12 |                  330 |\n",
      "+--------+------------------+------------------+-------------------+-----------------------+----------------------+\n",
      "| 250105 |                0 |                0 |                26 |                     5 |                  108 |\n",
      "+--------+------------------+------------------+-------------------+-----------------------+----------------------+\n",
      "| 250201 |                0 |                0 |                49 |                    11 |                  321 |\n",
      "+--------+------------------+------------------+-------------------+-----------------------+----------------------+\n",
      "| 250202 |                0 |                0 |                50 |                    16 |                  397 |\n",
      "+--------+------------------+------------------+-------------------+-----------------------+----------------------+\n",
      "| 250203 |                0 |                0 |                52 |                    12 |                  203 |\n",
      "+--------+------------------+------------------+-------------------+-----------------------+----------------------+\n",
      "| 250204 |                0 |                0 |               180 |                    10 |                  194 |\n",
      "+--------+------------------+------------------+-------------------+-----------------------+----------------------+\n",
      "| 250301 |                0 |                0 |                43 |                     2 |                  207 |\n",
      "+--------+------------------+------------------+-------------------+-----------------------+----------------------+\n",
      "| 250302 |                0 |                0 |                 5 |                     0 |                   19 |\n",
      "+--------+------------------+------------------+-------------------+-----------------------+----------------------+\n"
     ]
    }
   ],
   "source": [
    "cursor.execute('''\n",
    "SELECT\n",
    "    YearMonthWeek AS YMW,\n",
    "    SUM(CASE WHEN event_name = 'design_created' THEN 1 ELSE 0 END) AS design_created,\n",
    "    SUM(CASE WHEN event_name = 'design_deleted' THEN 1 ELSE 0 END) AS design_deleted,\n",
    "    SUM(CASE WHEN event_name = 'design_exported' THEN 1 ELSE 0 END) AS design_exported,\n",
    "    SUM(CASE WHEN event_name = 'design_name_changed' THEN 1 ELSE 0 END) AS design_name_changed,\n",
    "    SUM(CASE WHEN event_name = 'design_open_tapped' THEN 1 ELSE 0 END) AS design_open_tapped\n",
    "FROM events\n",
    "GROUP BY YearMonthWeek\n",
    "ORDER BY YMW\n",
    "''')\n",
    "\n",
    "weekly = cursor.fetchall()\n",
    "\n",
    "headers = [\"YMW\", \"Design Created\", \"Design Deleted\", \"Design Exported\", \"Design Name Changed\", \"Design Open Tapped\"]\n",
    "\n",
    "print(tabulate(weekly, headers=headers, tablefmt=\"grid\"))"
   ]
  },
  {
   "cell_type": "code",
   "execution_count": 46,
   "id": "7fGm8HftCos6",
   "metadata": {
    "colab": {
     "base_uri": "https://localhost:8080/",
     "height": 206
    },
    "id": "7fGm8HftCos6",
    "outputId": "1220b290-5fe2-43e9-c4b2-5e7d3da19407"
   },
   "outputs": [
    {
     "data": {
      "application/vnd.google.colaboratory.intrinsic+json": {
       "summary": "{\n  \"name\": \"df\",\n  \"rows\": 31,\n  \"fields\": [\n    {\n      \"column\": \"YMW\",\n      \"properties\": {\n        \"dtype\": \"object\",\n        \"num_unique_values\": 31,\n        \"samples\": [\n          \"250203\",\n          \"241201\",\n          \"250104\"\n        ],\n        \"semantic_type\": \"\",\n        \"description\": \"\"\n      }\n    },\n    {\n      \"column\": \"Design Created\",\n      \"properties\": {\n        \"dtype\": \"number\",\n        \"std\": 573,\n        \"min\": 0,\n        \"max\": 1446,\n        \"num_unique_values\": 16,\n        \"samples\": [\n          670,\n          910,\n          1235\n        ],\n        \"semantic_type\": \"\",\n        \"description\": \"\"\n      }\n    },\n    {\n      \"column\": \"Design Deleted\",\n      \"properties\": {\n        \"dtype\": \"number\",\n        \"std\": 0,\n        \"min\": 0,\n        \"max\": 2,\n        \"num_unique_values\": 2,\n        \"samples\": [\n          2,\n          0\n        ],\n        \"semantic_type\": \"\",\n        \"description\": \"\"\n      }\n    },\n    {\n      \"column\": \"Design Exported\",\n      \"properties\": {\n        \"dtype\": \"number\",\n        \"std\": 506,\n        \"min\": 5,\n        \"max\": 1508,\n        \"num_unique_values\": 31,\n        \"samples\": [\n          52,\n          398\n        ],\n        \"semantic_type\": \"\",\n        \"description\": \"\"\n      }\n    },\n    {\n      \"column\": \"Design Name Changed\",\n      \"properties\": {\n        \"dtype\": \"number\",\n        \"std\": 179,\n        \"min\": 0,\n        \"max\": 470,\n        \"num_unique_values\": 28,\n        \"samples\": [\n          138,\n          10\n        ],\n        \"semantic_type\": \"\",\n        \"description\": \"\"\n      }\n    },\n    {\n      \"column\": \"Design Open Tapped\",\n      \"properties\": {\n        \"dtype\": \"number\",\n        \"std\": 1061,\n        \"min\": 19,\n        \"max\": 3206,\n        \"num_unique_values\": 30,\n        \"samples\": [\n          194,\n          1055\n        ],\n        \"semantic_type\": \"\",\n        \"description\": \"\"\n      }\n    }\n  ]\n}",
       "type": "dataframe",
       "variable_name": "df"
      },
      "text/html": [
       "\n",
       "  <div id=\"df-36799a8a-ad1e-455f-a877-836f16d7769b\" class=\"colab-df-container\">\n",
       "    <div>\n",
       "<style scoped>\n",
       "    .dataframe tbody tr th:only-of-type {\n",
       "        vertical-align: middle;\n",
       "    }\n",
       "\n",
       "    .dataframe tbody tr th {\n",
       "        vertical-align: top;\n",
       "    }\n",
       "\n",
       "    .dataframe thead th {\n",
       "        text-align: right;\n",
       "    }\n",
       "</style>\n",
       "<table border=\"1\" class=\"dataframe\">\n",
       "  <thead>\n",
       "    <tr style=\"text-align: right;\">\n",
       "      <th></th>\n",
       "      <th>YMW</th>\n",
       "      <th>Design Created</th>\n",
       "      <th>Design Deleted</th>\n",
       "      <th>Design Exported</th>\n",
       "      <th>Design Name Changed</th>\n",
       "      <th>Design Open Tapped</th>\n",
       "    </tr>\n",
       "  </thead>\n",
       "  <tbody>\n",
       "    <tr>\n",
       "      <th>0</th>\n",
       "      <td>240901</td>\n",
       "      <td>670</td>\n",
       "      <td>0</td>\n",
       "      <td>393</td>\n",
       "      <td>205</td>\n",
       "      <td>858</td>\n",
       "    </tr>\n",
       "    <tr>\n",
       "      <th>1</th>\n",
       "      <td>240902</td>\n",
       "      <td>910</td>\n",
       "      <td>0</td>\n",
       "      <td>721</td>\n",
       "      <td>316</td>\n",
       "      <td>1549</td>\n",
       "    </tr>\n",
       "    <tr>\n",
       "      <th>2</th>\n",
       "      <td>240903</td>\n",
       "      <td>901</td>\n",
       "      <td>0</td>\n",
       "      <td>856</td>\n",
       "      <td>323</td>\n",
       "      <td>1566</td>\n",
       "    </tr>\n",
       "    <tr>\n",
       "      <th>3</th>\n",
       "      <td>240904</td>\n",
       "      <td>966</td>\n",
       "      <td>0</td>\n",
       "      <td>960</td>\n",
       "      <td>297</td>\n",
       "      <td>1701</td>\n",
       "    </tr>\n",
       "    <tr>\n",
       "      <th>4</th>\n",
       "      <td>240905</td>\n",
       "      <td>234</td>\n",
       "      <td>0</td>\n",
       "      <td>229</td>\n",
       "      <td>73</td>\n",
       "      <td>444</td>\n",
       "    </tr>\n",
       "  </tbody>\n",
       "</table>\n",
       "</div>\n",
       "    <div class=\"colab-df-buttons\">\n",
       "\n",
       "  <div class=\"colab-df-container\">\n",
       "    <button class=\"colab-df-convert\" onclick=\"convertToInteractive('df-36799a8a-ad1e-455f-a877-836f16d7769b')\"\n",
       "            title=\"Convert this dataframe to an interactive table.\"\n",
       "            style=\"display:none;\">\n",
       "\n",
       "  <svg xmlns=\"http://www.w3.org/2000/svg\" height=\"24px\" viewBox=\"0 -960 960 960\">\n",
       "    <path d=\"M120-120v-720h720v720H120Zm60-500h600v-160H180v160Zm220 220h160v-160H400v160Zm0 220h160v-160H400v160ZM180-400h160v-160H180v160Zm440 0h160v-160H620v160ZM180-180h160v-160H180v160Zm440 0h160v-160H620v160Z\"/>\n",
       "  </svg>\n",
       "    </button>\n",
       "\n",
       "  <style>\n",
       "    .colab-df-container {\n",
       "      display:flex;\n",
       "      gap: 12px;\n",
       "    }\n",
       "\n",
       "    .colab-df-convert {\n",
       "      background-color: #E8F0FE;\n",
       "      border: none;\n",
       "      border-radius: 50%;\n",
       "      cursor: pointer;\n",
       "      display: none;\n",
       "      fill: #1967D2;\n",
       "      height: 32px;\n",
       "      padding: 0 0 0 0;\n",
       "      width: 32px;\n",
       "    }\n",
       "\n",
       "    .colab-df-convert:hover {\n",
       "      background-color: #E2EBFA;\n",
       "      box-shadow: 0px 1px 2px rgba(60, 64, 67, 0.3), 0px 1px 3px 1px rgba(60, 64, 67, 0.15);\n",
       "      fill: #174EA6;\n",
       "    }\n",
       "\n",
       "    .colab-df-buttons div {\n",
       "      margin-bottom: 4px;\n",
       "    }\n",
       "\n",
       "    [theme=dark] .colab-df-convert {\n",
       "      background-color: #3B4455;\n",
       "      fill: #D2E3FC;\n",
       "    }\n",
       "\n",
       "    [theme=dark] .colab-df-convert:hover {\n",
       "      background-color: #434B5C;\n",
       "      box-shadow: 0px 1px 3px 1px rgba(0, 0, 0, 0.15);\n",
       "      filter: drop-shadow(0px 1px 2px rgba(0, 0, 0, 0.3));\n",
       "      fill: #FFFFFF;\n",
       "    }\n",
       "  </style>\n",
       "\n",
       "    <script>\n",
       "      const buttonEl =\n",
       "        document.querySelector('#df-36799a8a-ad1e-455f-a877-836f16d7769b button.colab-df-convert');\n",
       "      buttonEl.style.display =\n",
       "        google.colab.kernel.accessAllowed ? 'block' : 'none';\n",
       "\n",
       "      async function convertToInteractive(key) {\n",
       "        const element = document.querySelector('#df-36799a8a-ad1e-455f-a877-836f16d7769b');\n",
       "        const dataTable =\n",
       "          await google.colab.kernel.invokeFunction('convertToInteractive',\n",
       "                                                    [key], {});\n",
       "        if (!dataTable) return;\n",
       "\n",
       "        const docLinkHtml = 'Like what you see? Visit the ' +\n",
       "          '<a target=\"_blank\" href=https://colab.research.google.com/notebooks/data_table.ipynb>data table notebook</a>'\n",
       "          + ' to learn more about interactive tables.';\n",
       "        element.innerHTML = '';\n",
       "        dataTable['output_type'] = 'display_data';\n",
       "        await google.colab.output.renderOutput(dataTable, element);\n",
       "        const docLink = document.createElement('div');\n",
       "        docLink.innerHTML = docLinkHtml;\n",
       "        element.appendChild(docLink);\n",
       "      }\n",
       "    </script>\n",
       "  </div>\n",
       "\n",
       "\n",
       "<div id=\"df-60252750-4032-4af6-9b15-a2e2a99204d2\">\n",
       "  <button class=\"colab-df-quickchart\" onclick=\"quickchart('df-60252750-4032-4af6-9b15-a2e2a99204d2')\"\n",
       "            title=\"Suggest charts\"\n",
       "            style=\"display:none;\">\n",
       "\n",
       "<svg xmlns=\"http://www.w3.org/2000/svg\" height=\"24px\"viewBox=\"0 0 24 24\"\n",
       "     width=\"24px\">\n",
       "    <g>\n",
       "        <path d=\"M19 3H5c-1.1 0-2 .9-2 2v14c0 1.1.9 2 2 2h14c1.1 0 2-.9 2-2V5c0-1.1-.9-2-2-2zM9 17H7v-7h2v7zm4 0h-2V7h2v10zm4 0h-2v-4h2v4z\"/>\n",
       "    </g>\n",
       "</svg>\n",
       "  </button>\n",
       "\n",
       "<style>\n",
       "  .colab-df-quickchart {\n",
       "      --bg-color: #E8F0FE;\n",
       "      --fill-color: #1967D2;\n",
       "      --hover-bg-color: #E2EBFA;\n",
       "      --hover-fill-color: #174EA6;\n",
       "      --disabled-fill-color: #AAA;\n",
       "      --disabled-bg-color: #DDD;\n",
       "  }\n",
       "\n",
       "  [theme=dark] .colab-df-quickchart {\n",
       "      --bg-color: #3B4455;\n",
       "      --fill-color: #D2E3FC;\n",
       "      --hover-bg-color: #434B5C;\n",
       "      --hover-fill-color: #FFFFFF;\n",
       "      --disabled-bg-color: #3B4455;\n",
       "      --disabled-fill-color: #666;\n",
       "  }\n",
       "\n",
       "  .colab-df-quickchart {\n",
       "    background-color: var(--bg-color);\n",
       "    border: none;\n",
       "    border-radius: 50%;\n",
       "    cursor: pointer;\n",
       "    display: none;\n",
       "    fill: var(--fill-color);\n",
       "    height: 32px;\n",
       "    padding: 0;\n",
       "    width: 32px;\n",
       "  }\n",
       "\n",
       "  .colab-df-quickchart:hover {\n",
       "    background-color: var(--hover-bg-color);\n",
       "    box-shadow: 0 1px 2px rgba(60, 64, 67, 0.3), 0 1px 3px 1px rgba(60, 64, 67, 0.15);\n",
       "    fill: var(--button-hover-fill-color);\n",
       "  }\n",
       "\n",
       "  .colab-df-quickchart-complete:disabled,\n",
       "  .colab-df-quickchart-complete:disabled:hover {\n",
       "    background-color: var(--disabled-bg-color);\n",
       "    fill: var(--disabled-fill-color);\n",
       "    box-shadow: none;\n",
       "  }\n",
       "\n",
       "  .colab-df-spinner {\n",
       "    border: 2px solid var(--fill-color);\n",
       "    border-color: transparent;\n",
       "    border-bottom-color: var(--fill-color);\n",
       "    animation:\n",
       "      spin 1s steps(1) infinite;\n",
       "  }\n",
       "\n",
       "  @keyframes spin {\n",
       "    0% {\n",
       "      border-color: transparent;\n",
       "      border-bottom-color: var(--fill-color);\n",
       "      border-left-color: var(--fill-color);\n",
       "    }\n",
       "    20% {\n",
       "      border-color: transparent;\n",
       "      border-left-color: var(--fill-color);\n",
       "      border-top-color: var(--fill-color);\n",
       "    }\n",
       "    30% {\n",
       "      border-color: transparent;\n",
       "      border-left-color: var(--fill-color);\n",
       "      border-top-color: var(--fill-color);\n",
       "      border-right-color: var(--fill-color);\n",
       "    }\n",
       "    40% {\n",
       "      border-color: transparent;\n",
       "      border-right-color: var(--fill-color);\n",
       "      border-top-color: var(--fill-color);\n",
       "    }\n",
       "    60% {\n",
       "      border-color: transparent;\n",
       "      border-right-color: var(--fill-color);\n",
       "    }\n",
       "    80% {\n",
       "      border-color: transparent;\n",
       "      border-right-color: var(--fill-color);\n",
       "      border-bottom-color: var(--fill-color);\n",
       "    }\n",
       "    90% {\n",
       "      border-color: transparent;\n",
       "      border-bottom-color: var(--fill-color);\n",
       "    }\n",
       "  }\n",
       "</style>\n",
       "\n",
       "  <script>\n",
       "    async function quickchart(key) {\n",
       "      const quickchartButtonEl =\n",
       "        document.querySelector('#' + key + ' button');\n",
       "      quickchartButtonEl.disabled = true;  // To prevent multiple clicks.\n",
       "      quickchartButtonEl.classList.add('colab-df-spinner');\n",
       "      try {\n",
       "        const charts = await google.colab.kernel.invokeFunction(\n",
       "            'suggestCharts', [key], {});\n",
       "      } catch (error) {\n",
       "        console.error('Error during call to suggestCharts:', error);\n",
       "      }\n",
       "      quickchartButtonEl.classList.remove('colab-df-spinner');\n",
       "      quickchartButtonEl.classList.add('colab-df-quickchart-complete');\n",
       "    }\n",
       "    (() => {\n",
       "      let quickchartButtonEl =\n",
       "        document.querySelector('#df-60252750-4032-4af6-9b15-a2e2a99204d2 button');\n",
       "      quickchartButtonEl.style.display =\n",
       "        google.colab.kernel.accessAllowed ? 'block' : 'none';\n",
       "    })();\n",
       "  </script>\n",
       "</div>\n",
       "\n",
       "    </div>\n",
       "  </div>\n"
      ],
      "text/plain": [
       "      YMW  Design Created  Design Deleted  Design Exported  \\\n",
       "0  240901             670               0              393   \n",
       "1  240902             910               0              721   \n",
       "2  240903             901               0              856   \n",
       "3  240904             966               0              960   \n",
       "4  240905             234               0              229   \n",
       "\n",
       "   Design Name Changed  Design Open Tapped  \n",
       "0                  205                 858  \n",
       "1                  316                1549  \n",
       "2                  323                1566  \n",
       "3                  297                1701  \n",
       "4                   73                 444  "
      ]
     },
     "execution_count": 46,
     "metadata": {},
     "output_type": "execute_result"
    }
   ],
   "source": [
    "df = pd.DataFrame(weekly, columns=headers)\n",
    "\n",
    "df[\"YMW\"] = df[\"YMW\"].astype(str)\n",
    "df = df.sort_values(\"YMW\")\n",
    "df.head()\n"
   ]
  },
  {
   "cell_type": "code",
   "execution_count": 49,
   "id": "8Nh89R2LSPXr",
   "metadata": {
    "colab": {
     "base_uri": "https://localhost:8080/",
     "height": 601
    },
    "id": "8Nh89R2LSPXr",
    "outputId": "9201fce7-db77-4b4f-e25f-fefe77ddaf46"
   },
   "outputs": [
    {
     "data": {
      "image/png": "[encoded data removed]",
      "text/plain": [
       "<Figure size 1200x600 with 1 Axes>"
      ]
     },
     "metadata": {},
     "output_type": "display_data"
    }
   ],
   "source": [
    "df_melted = df.melt(id_vars=[\"YMW\"],\n",
    "                    value_vars=[\"Design Created\", \"Design Deleted\", \"Design Exported\", \"Design Name Changed\", \"Design Open Tapped\"],\n",
    "                    var_name=\"event_name\",\n",
    "                    value_name=\"event_count\")\n",
    "\n",
    "sns.set(style=\"whitegrid\")\n",
    "plt.figure(figsize=(12, 6))\n",
    "\n",
    "sns.lineplot(data=df_melted, x=\"YMW\", y=\"event_count\", hue=\"event_name\", marker=\"o\")\n",
    "plt.title(\"Number of Events per Week\", fontsize=16)\n",
    "plt.xlabel(\"Year-Month-Week\", fontsize=12)\n",
    "plt.ylabel(\"Number of Events\", fontsize=12)\n",
    "plt.xticks(rotation=45)\n",
    "plt.tight_layout()\n",
    "plt.show()"
   ]
  },
  {
   "cell_type": "code",
   "execution_count": 50,
   "id": "B9kImGvpRpGv",
   "metadata": {
    "colab": {
     "base_uri": "https://localhost:8080/"
    },
    "id": "B9kImGvpRpGv",
    "outputId": "5822b877-e223-43a4-c546-e09a8b39e309"
   },
   "outputs": [
    {
     "name": "stdout",
     "output_type": "stream",
     "text": [
      "The row with the last event time for 'design_created' is: ('2024-11-30 23:40:04.216000',)\n"
     ]
    }
   ],
   "source": [
    "cursor.execute(\"\"\"\n",
    "    SELECT event_time\n",
    "    FROM events\n",
    "    WHERE event_name = 'design_created'\n",
    "    ORDER BY event_time DESC\n",
    "    LIMIT 1\n",
    "\"\"\")\n",
    "\n",
    "last_design_created = cursor.fetchone()\n",
    "\n",
    "print(f\"The row with the last event time for 'design_created' is: {last_design_created }\")"
   ]
  },
  {
   "cell_type": "markdown",
   "id": "kwAW09zot1iv",
   "metadata": {
    "id": "kwAW09zot1iv"
   },
   "source": [
    "####  File_format, Resolution"
   ]
  },
  {
   "cell_type": "code",
   "execution_count": 51,
   "id": "344657bb-0fdd-42e9-8ddf-f27c523a850d",
   "metadata": {
    "colab": {
     "base_uri": "https://localhost:8080/"
    },
    "id": "344657bb-0fdd-42e9-8ddf-f27c523a850d",
    "outputId": "96da08d5-afea-4231-c68a-aac915e47951"
   },
   "outputs": [
    {
     "name": "stdout",
     "output_type": "stream",
     "text": [
      "+---------------+\n",
      "|   File Format |\n",
      "+===============+\n",
      "|            12 |\n",
      "+---------------+\n"
     ]
    }
   ],
   "source": [
    "cursor.execute('''\n",
    "SELECT COUNT(DISTINCT file_format\t) AS file_format\n",
    "FROM events\n",
    "''')\n",
    "\n",
    "files = cursor.fetchall()\n",
    "headers = [\"File Format\"]\n",
    "\n",
    "print(tabulate(files, headers=headers, tablefmt=\"grid\"))"
   ]
  },
  {
   "cell_type": "code",
   "execution_count": 52,
   "id": "tkDZpJH2uJdb",
   "metadata": {
    "colab": {
     "base_uri": "https://localhost:8080/"
    },
    "id": "tkDZpJH2uJdb",
    "outputId": "21c373ef-34c1-46c0-ffa5-d291867c6100"
   },
   "outputs": [
    {
     "name": "stdout",
     "output_type": "stream",
     "text": [
      "+------------+--------------------------+\n",
      "|            |   Number of file formats |\n",
      "+============+==========================+\n",
      "| stl        |                     6369 |\n",
      "+------------+--------------------------+\n",
      "| three_mf   |                     4978 |\n",
      "+------------+--------------------------+\n",
      "| step       |                     2021 |\n",
      "+------------+--------------------------+\n",
      "| shapr      |                     1356 |\n",
      "+------------+--------------------------+\n",
      "| dxf_sketch |                      297 |\n",
      "+------------+--------------------------+\n",
      "| obj        |                      271 |\n",
      "+------------+--------------------------+\n",
      "| svg_sketch |                      243 |\n",
      "+------------+--------------------------+\n",
      "| parasolid  |                      201 |\n",
      "+------------+--------------------------+\n",
      "| dwg_sketch |                       86 |\n",
      "+------------+--------------------------+\n",
      "| usdz       |                       59 |\n",
      "+------------+--------------------------+\n",
      "| iges       |                       26 |\n",
      "+------------+--------------------------+\n",
      "| gltf       |                       21 |\n",
      "+------------+--------------------------+\n",
      "|            |                        0 |\n",
      "+------------+--------------------------+\n"
     ]
    }
   ],
   "source": [
    "cursor.execute('''\n",
    "SELECT file_format, COUNT(file_format) as number_files\n",
    "FROM events\n",
    "GROUP BY file_format\n",
    "ORDER BY number_files DESC\n",
    "''')\n",
    "\n",
    "files_grouped = cursor.fetchall()\n",
    "headers = [\"Number of file formats\"]\n",
    "\n",
    "print(tabulate(files_grouped , headers=headers, tablefmt=\"grid\"))"
   ]
  },
  {
   "cell_type": "code",
   "execution_count": 53,
   "id": "LTrzFKT-vEYV",
   "metadata": {
    "colab": {
     "base_uri": "https://localhost:8080/"
    },
    "id": "LTrzFKT-vEYV",
    "outputId": "9d142552-08cb-4600-8eb0-055969f809b5"
   },
   "outputs": [
    {
     "name": "stdout",
     "output_type": "stream",
     "text": [
      "+--------+-------------------------+\n",
      "|        |   Number of resolutions |\n",
      "+========+=========================+\n",
      "| high   |                    1730 |\n",
      "+--------+-------------------------+\n",
      "| low    |                     574 |\n",
      "+--------+-------------------------+\n",
      "| custom |                      47 |\n",
      "+--------+-------------------------+\n",
      "|        |                       0 |\n",
      "+--------+-------------------------+\n"
     ]
    }
   ],
   "source": [
    "cursor.execute('''\n",
    "SELECT resolution, COUNT(resolution) as reso\n",
    "FROM events\n",
    "GROUP BY resolution\n",
    "ORDER BY reso DESC\n",
    "''')\n",
    "\n",
    "resolution = cursor.fetchall()\n",
    "headers = [\"Number of resolutions\"]\n",
    "\n",
    "print(tabulate(resolution, headers=headers, tablefmt=\"grid\"))"
   ]
  },
  {
   "cell_type": "markdown",
   "id": "0idXIjJ6Dg53",
   "metadata": {
    "id": "0idXIjJ6Dg53"
   },
   "source": [
    "####  Device platform"
   ]
  },
  {
   "cell_type": "code",
   "execution_count": 54,
   "id": "JomYpXAeuJla",
   "metadata": {
    "colab": {
     "base_uri": "https://localhost:8080/"
    },
    "id": "JomYpXAeuJla",
    "outputId": "549e7915-8bc6-4fe5-de35-61e862ef2bbc"
   },
   "outputs": [
    {
     "name": "stdout",
     "output_type": "stream",
     "text": [
      "+-------------------+--------------------------------+\n",
      "| Device Platform   |   Number of events by platform |\n",
      "+===================+================================+\n",
      "| iOS               |                          33439 |\n",
      "+-------------------+--------------------------------+\n",
      "| Windows           |                          28419 |\n",
      "+-------------------+--------------------------------+\n",
      "| macOS             |                          11105 |\n",
      "+-------------------+--------------------------------+\n",
      "| visionOS          |                              1 |\n",
      "+-------------------+--------------------------------+\n"
     ]
    }
   ],
   "source": [
    "cursor.execute('''\n",
    "SELECT device_platform, COUNT(device_platform) as devpl\n",
    "FROM events\n",
    "GROUP BY device_platform\n",
    "ORDER BY devpl DESC\n",
    "''')\n",
    "\n",
    "devpl = cursor.fetchall()\n",
    "headers = [\"Device Platform\", \"Number of events by platform\"]\n",
    "\n",
    "print(tabulate(devpl, headers=headers, tablefmt=\"grid\"))"
   ]
  },
  {
   "cell_type": "code",
   "execution_count": 55,
   "id": "a-tekheNDgLk",
   "metadata": {
    "colab": {
     "base_uri": "https://localhost:8080/"
    },
    "id": "a-tekheNDgLk",
    "outputId": "321c8dae-ba81-4bfe-ff5b-9f639fe46a62"
   },
   "outputs": [
    {
     "name": "stdout",
     "output_type": "stream",
     "text": [
      "+------------+---------------------+---------------+\n",
      "| platform   | event_name          |   event_count |\n",
      "+============+=====================+===============+\n",
      "| Windows    | design_created      |          5927 |\n",
      "+------------+---------------------+---------------+\n",
      "| Windows    | design_exported     |          6579 |\n",
      "+------------+---------------------+---------------+\n",
      "| Windows    | design_name_changed |          1700 |\n",
      "+------------+---------------------+---------------+\n",
      "| Windows    | design_open_tapped  |         14213 |\n",
      "+------------+---------------------+---------------+\n",
      "| iOS        | design_created      |          6713 |\n",
      "+------------+---------------------+---------------+\n",
      "| iOS        | design_deleted      |             1 |\n",
      "+------------+---------------------+---------------+\n",
      "| iOS        | design_exported     |          6404 |\n",
      "+------------+---------------------+---------------+\n",
      "| iOS        | design_name_changed |          2635 |\n",
      "+------------+---------------------+---------------+\n",
      "| iOS        | design_open_tapped  |         17686 |\n",
      "+------------+---------------------+---------------+\n",
      "| macOS      | design_created      |          2242 |\n",
      "+------------+---------------------+---------------+\n",
      "| macOS      | design_deleted      |             1 |\n",
      "+------------+---------------------+---------------+\n",
      "| macOS      | design_exported     |          2945 |\n",
      "+------------+---------------------+---------------+\n",
      "| macOS      | design_name_changed |           750 |\n",
      "+------------+---------------------+---------------+\n",
      "| macOS      | design_open_tapped  |          5167 |\n",
      "+------------+---------------------+---------------+\n",
      "| visionOS   | design_created      |             1 |\n",
      "+------------+---------------------+---------------+\n"
     ]
    }
   ],
   "source": [
    "cursor.execute('''\n",
    "SELECT\n",
    "    device_platform,\n",
    "    event_name,\n",
    "    COUNT(*) AS event_count\n",
    "FROM events\n",
    "GROUP BY device_platform, event_name\n",
    "ORDER BY device_platform, event_name\n",
    "''')\n",
    "\n",
    "events_per_platform = cursor.fetchall()\n",
    "headers = [\"platform\", \"event_name\", \"event_count\"]\n",
    "\n",
    "print(tabulate(events_per_platform , headers=headers, tablefmt=\"grid\"))"
   ]
  },
  {
   "cell_type": "code",
   "execution_count": 56,
   "id": "8OSxztX3FH_Q",
   "metadata": {
    "colab": {
     "base_uri": "https://localhost:8080/"
    },
    "id": "8OSxztX3FH_Q",
    "outputId": "bfd88ad8-351a-4780-d2fa-694f5331f212"
   },
   "outputs": [
    {
     "name": "stdout",
     "output_type": "stream",
     "text": [
      "+------------+------------------+------------------+-------------------+-----------------------+----------------------+\n",
      "| Platform   |   Design Created |   Design Deleted |   Design Exported |   Design Name Changed |   Design Open Tapped |\n",
      "+============+==================+==================+===================+=======================+======================+\n",
      "| Windows    |             5927 |                0 |              6579 |                  1700 |                14213 |\n",
      "+------------+------------------+------------------+-------------------+-----------------------+----------------------+\n",
      "| iOS        |             6713 |                1 |              6404 |                  2635 |                17686 |\n",
      "+------------+------------------+------------------+-------------------+-----------------------+----------------------+\n",
      "| macOS      |             2242 |                1 |              2945 |                   750 |                 5167 |\n",
      "+------------+------------------+------------------+-------------------+-----------------------+----------------------+\n",
      "| visionOS   |                1 |                0 |                 0 |                     0 |                    0 |\n",
      "+------------+------------------+------------------+-------------------+-----------------------+----------------------+\n"
     ]
    }
   ],
   "source": [
    "cursor.execute('''\n",
    "SELECT\n",
    "    device_platform,\n",
    "    SUM(CASE WHEN event_name = 'design_created' THEN 1 ELSE 0 END) AS design_created,\n",
    "    SUM(CASE WHEN event_name = 'design_deleted' THEN 1 ELSE 0 END) AS design_deleted,\n",
    "    SUM(CASE WHEN event_name = 'design_exported' THEN 1 ELSE 0 END) AS design_exported,\n",
    "    SUM(CASE WHEN event_name = 'design_name_changed' THEN 1 ELSE 0 END) AS design_name_changed,\n",
    "    SUM(CASE WHEN event_name = 'design_open_tapped' THEN 1 ELSE 0 END) AS design_open_tapped\n",
    "FROM events\n",
    "GROUP BY device_platform\n",
    "ORDER BY device_platform\n",
    "''')\n",
    "\n",
    "events_per_platform_pivot = cursor.fetchall()\n",
    "\n",
    "\n",
    "headers = [\"Platform\", \"Design Created\", \"Design Deleted\", \"Design Exported\", \"Design Name Changed\", \"Design Open Tapped\"]\n",
    "print(tabulate(events_per_platform_pivot, headers=headers, tablefmt=\"grid\"))"
   ]
  },
  {
   "cell_type": "markdown",
   "id": "gB5rELQIUgG7",
   "metadata": {
    "id": "gB5rELQIUgG7"
   },
   "source": [
    "####  App version"
   ]
  },
  {
   "cell_type": "code",
   "execution_count": 57,
   "id": "e_SYcZCBUhCl",
   "metadata": {
    "colab": {
     "base_uri": "https://localhost:8080/"
    },
    "id": "e_SYcZCBUhCl",
    "outputId": "b90678d8-970c-48cc-ce47-6aa04ec3a694"
   },
   "outputs": [
    {
     "name": "stdout",
     "output_type": "stream",
     "text": [
      "+----------------------+\n",
      "|   No of app versions |\n",
      "+======================+\n",
      "|                  144 |\n",
      "+----------------------+\n"
     ]
    }
   ],
   "source": [
    "cursor.execute('''\n",
    "SELECT COUNT(DISTINCT app_version) AS app_v\n",
    "FROM events\n",
    "LIMIT 20\n",
    "''')\n",
    "\n",
    "app_v = cursor.fetchall()\n",
    "headers = [\"No of app versions\"]\n",
    "\n",
    "print(tabulate(app_v, headers=headers, tablefmt=\"grid\"))"
   ]
  },
  {
   "cell_type": "code",
   "execution_count": 58,
   "id": "7lVSD8VFVAkL",
   "metadata": {
    "colab": {
     "base_uri": "https://localhost:8080/"
    },
    "id": "7lVSD8VFVAkL",
    "outputId": "7496f78f-daba-4e5f-a587-35679f1ec04e"
   },
   "outputs": [
    {
     "name": "stdout",
     "output_type": "stream",
     "text": [
      "+----------------+----------------------+\n",
      "| App versions   |   Number of versions |\n",
      "+================+======================+\n",
      "| 5.730.0.7613   |                10291 |\n",
      "+----------------+----------------------+\n",
      "| 5.750.0.7750   |                 7278 |\n",
      "+----------------+----------------------+\n",
      "| 5.721.0.7564   |                 5251 |\n",
      "+----------------+----------------------+\n",
      "| 5.750.7750.0   |                 4981 |\n",
      "+----------------+----------------------+\n",
      "| 5.730.7613.0   |                 4830 |\n",
      "+----------------+----------------------+\n",
      "| 5.760.0.7837   |                 4827 |\n",
      "+----------------+----------------------+\n",
      "| 5.710.0.7459   |                 4558 |\n",
      "+----------------+----------------------+\n",
      "| 5.760.7837.0   |                 4550 |\n",
      "+----------------+----------------------+\n",
      "| 5.721.7564.0   |                 3645 |\n",
      "+----------------+----------------------+\n",
      "| 5.700.0.7412   |                 3417 |\n",
      "+----------------+----------------------+\n"
     ]
    }
   ],
   "source": [
    "cursor.execute('''\n",
    "SELECT app_version, COUNT(app_version) as app_v2\n",
    "FROM events\n",
    "GROUP BY app_version\n",
    "ORDER BY app_v2 DESC\n",
    "LIMIT 10\n",
    "''')\n",
    "\n",
    "app_v2 = cursor.fetchall()\n",
    "headers = [\"App versions\", \"Number of versions\"]\n",
    "\n",
    "print(tabulate(app_v2, headers=headers, tablefmt=\"grid\"))"
   ]
  },
  {
   "cell_type": "code",
   "execution_count": 59,
   "id": "IEW2FWHgRg6u",
   "metadata": {
    "id": "IEW2FWHgRg6u"
   },
   "outputs": [],
   "source": [
    "conn.close()"
   ]
  }
 ],
 "metadata": {
  "colab": {
   "provenance": []
  },
  "kernelspec": {
   "display_name": "Python (myenv)",
   "language": "python",
   "name": "myenv"
  },
  "language_info": {
   "codemirror_mode": {
    "name": "ipython",
    "version": 3
   },
   "file_extension": ".py",
   "mimetype": "text/x-python",
   "name": "python",
   "nbconvert_exporter": "python",
   "pygments_lexer": "ipython3",
   "version": "3.8.18"
  }
 },
 "nbformat": 4,
 "nbformat_minor": 5
}
